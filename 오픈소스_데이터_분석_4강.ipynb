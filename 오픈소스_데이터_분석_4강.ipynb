{
  "nbformat": 4,
  "nbformat_minor": 0,
  "metadata": {
    "colab": {
      "provenance": [],
      "include_colab_link": true
    },
    "kernelspec": {
      "name": "python3",
      "display_name": "Python 3"
    },
    "language_info": {
      "name": "python"
    }
  },
  "cells": [
    {
      "cell_type": "markdown",
      "metadata": {
        "id": "view-in-github",
        "colab_type": "text"
      },
      "source": [
        "<a href=\"https://colab.research.google.com/github/e-learn-12/Data-Analysis-with-Open-Source/blob/main/%EC%98%A4%ED%94%88%EC%86%8C%EC%8A%A4_%EB%8D%B0%EC%9D%B4%ED%84%B0_%EB%B6%84%EC%84%9D_4%EA%B0%95.ipynb\" target=\"_parent\"><img src=\"https://colab.research.google.com/assets/colab-badge.svg\" alt=\"Open In Colab\"/></a>"
      ]
    },
    {
      "cell_type": "markdown",
      "source": [
        "\n",
        "\n",
        "# 오픈소스 기반 데이터 분석 4강 - 데이터 수집\n"
      ],
      "metadata": {
        "id": "DkPKaAsoRq5Q"
      }
    },
    {
      "cell_type": "markdown",
      "source": [
        "## 4-1 CSV 파일 읽기"
      ],
      "metadata": {
        "id": "-I7BVVlnRrB0"
      }
    },
    {
      "cell_type": "code",
      "source": [
        "import pandas as pd\n",
        "\n",
        "## data.csv 파일 읽기\n",
        "df = pd.read_csv('data.csv', encoding='utf-8', sep=',', header=0, index_col=None, skiprows=None, nrows=None)\n",
        "print(df)"
      ],
      "metadata": {
        "id": "2Y2HEiaiRwAI",
        "outputId": "3c8e2f18-9b88-47b6-ddbb-c6d87a1ee030",
        "colab": {
          "base_uri": "https://localhost:8080/"
        }
      },
      "execution_count": null,
      "outputs": [
        {
          "output_type": "stream",
          "name": "stdout",
          "text": [
            "           날짜    체중  골격근량  체지방량\n",
            "0  2025.02.06  64.7  30.0  11.1\n",
            "1  2025.02.04  64.0  29.3  11.6\n"
          ]
        }
      ]
    },
    {
      "cell_type": "markdown",
      "source": [
        "## 4-2 JSON 파일 읽기\n",
        "\n"
      ],
      "metadata": {
        "id": "9kHCFaGlRrE0"
      }
    },
    {
      "cell_type": "code",
      "source": [
        "import json\n",
        "import pandas as pd\n",
        "\n",
        "## data.json 파일 출력\n",
        "with open('data.json', mode='r', encoding='utf-8') as f:\n",
        "    data = json.load(f)\n",
        "    print(f'json.load 사용--------------\\n{data}\\n\\n')\n",
        "## data.json 파일 DataFrame 읽기\n",
        "df = pd.read_json('data.json', orient='records', encoding='utf-8', lines=False)\n",
        "print(f'pandas.read_json 사용--------------\\n{df}')"
      ],
      "metadata": {
        "id": "IO8bsKekR0W_",
        "outputId": "8f2db1a1-6c42-4a26-8732-7d5ed30bc569",
        "colab": {
          "base_uri": "https://localhost:8080/"
        }
      },
      "execution_count": null,
      "outputs": [
        {
          "output_type": "stream",
          "name": "stdout",
          "text": [
            "json.load 사용--------------\n",
            "{'매출데이터': [{'월': '2025-01', '매출액': 1000000, '비용': 700000, '이익': 300000}, {'월': '2025-02', '매출액': 1200000, '비용': 800000, '이익': 400000}, {'월': '2025-03', '매출액': 1500000, '비용': 900000, '이익': 600000}]}\n",
            "\n",
            "\n",
            "pandas.read_json 사용--------------\n",
            "                                               매출데이터\n",
            "0  {'월': '2025-01', '매출액': 1000000, '비용': 700000,...\n",
            "1  {'월': '2025-02', '매출액': 1200000, '비용': 800000,...\n",
            "2  {'월': '2025-03', '매출액': 1500000, '비용': 900000,...\n"
          ]
        }
      ]
    },
    {
      "cell_type": "markdown",
      "source": [
        "## 4-3 텍스트 파일 읽기 및 데이터 추출"
      ],
      "metadata": {
        "id": "uLd_3A_IRrHG"
      }
    },
    {
      "cell_type": "code",
      "source": [
        "import re\n",
        "\n",
        "## 파일(callcenter20250301.log) 오픈 및 읽기\n",
        "with open('callcenter20250301.log', 'r', encoding='utf-8') as f:\n",
        "    content = f.read()\n",
        "## 주민등록번호 패턴 생성\n",
        "pattern = re.compile(r'(\\d{6})-(\\d{7})')\n",
        "\n",
        "## 주민등록번호 마스킹\n",
        "masked_content = pattern.sub(r'\\1-*******', content)\n",
        "\n",
        "## 마스킹된 파일(callcenter20250301_masked.log) 오픈 및 쓰기\n",
        "with open('callcenter20250301_masked.log', mode='w') as f:\n",
        "    f.write(masked_content)\n",
        "\n",
        "print(\"주민등록번호 마스킹 완료. 'callcenter20250301_masked.log' 파일로 저장되었습니다.\")"
      ],
      "metadata": {
        "id": "60qOf7uxVdAg"
      },
      "execution_count": null,
      "outputs": []
    },
    {
      "cell_type": "markdown",
      "source": [
        "## 4-4 Open-Meteo의 무료 날씨 API를 통한 특정 지역 온도 조회"
      ],
      "metadata": {
        "id": "eOMufu5SXiAU"
      }
    },
    {
      "cell_type": "code",
      "source": [
        "import requests\n",
        "import json\n",
        "\n",
        "url = \"https://api.open-meteo.com/v1/forecast?=&=&current=temperature_2m\"\n",
        "params = {\n",
        "    \"latitude\": \"37.58638333\",\n",
        "    \"longitude\": \"127.0203333\",\n",
        "    \"current\": \"temperature_2m\"\n",
        "}\n",
        "\n",
        "try:\n",
        "    ## URL 및 파라미터 전송\n",
        "    response = requests.get(url, params=params)\n",
        "    response.raise_for_status() # 200 OK가 아니면 예외발생\n",
        "\n",
        "    ## JSON 데이터 읽기\n",
        "    data = response.json()\n",
        "\n",
        "    print(\"API 응답:\", data)\n",
        "    print(\"서울시 종로구의 현재 온도는 : {0}{1} 입니다.\".format(data['current']['temperature_2m'], data['current_units']['temperature_2m']))\n",
        "\n",
        "except requests.exceptions.RequestException as e:\n",
        "    print(f\"API 호출 실패: {e}\")\n",
        "except json.JSONDecodeError as e:\n",
        "    print(f\"JSON 파싱 실패: {e}\")"
      ],
      "metadata": {
        "id": "JpmgdsW9V0CY",
        "outputId": "ea15ef0e-42bd-48d6-b860-4e30b664b367",
        "colab": {
          "base_uri": "https://localhost:8080/"
        }
      },
      "execution_count": null,
      "outputs": [
        {
          "output_type": "stream",
          "name": "stdout",
          "text": [
            "API 응답: {'latitude': 37.6, 'longitude': 127.0, 'generationtime_ms': 0.02849102020263672, 'utc_offset_seconds': 0, 'timezone': 'GMT', 'timezone_abbreviation': 'GMT', 'elevation': 29.0, 'current_units': {'time': 'iso8601', 'interval': 'seconds', 'temperature_2m': '°C'}, 'current': {'time': '2025-10-19T07:00', 'interval': 900, 'temperature_2m': 17.8}}\n",
            "서울시 종로구의 현재 온도는 : 17.8°C 입니다.\n"
          ]
        }
      ]
    },
    {
      "cell_type": "markdown",
      "source": [
        "## 4-5 Selenium과 lxml을 이용한 웹 스크래핑"
      ],
      "metadata": {
        "id": "RLfPaa1ZiqIC"
      }
    },
    {
      "cell_type": "code",
      "source": [
        "!curl -o google-chrome-stable_current_amd64.deb https://dl.google.com/linux/direct/google-chrome-stable_current_amd64.deb\n",
        "!apt install ./google-chrome-stable_current_amd64.deb -y\n",
        "!pip install selenium webdriver_manager"
      ],
      "metadata": {
        "id": "79dmM7MNk8pB"
      },
      "execution_count": null,
      "outputs": []
    },
    {
      "cell_type": "code",
      "source": [
        "from selenium import webdriver\n",
        "from selenium.webdriver.chrome.service import Service as ChromeService\n",
        "from webdriver_manager.chrome import ChromeDriverManager\n",
        "from selenium.webdriver.common.by import By\n",
        "from lxml import html\n",
        "import time\n",
        "\n",
        "chrome_options = webdriver.ChromeOptions()\n",
        "chrome_options.add_argument('--headless')               # 브라우저 창 없이 실행\n",
        "chrome_options.add_argument('--no-sandbox')             # 보안모드 비활성화 (Colab 필수)\n",
        "chrome_options.add_argument('--disable-dev-shm-usage')  # 메모리 부족 방지 (Colab 필수)\n",
        "chrome_options.add_argument('--window-size=1920x1080')  # 창 크기 설정(가상)\n",
        "chrome_options.add_argument('--disable-gpu')            # GPU 가속 비활성화 (일부 환경 안정성)\n",
        "chrome_options.binary_location = \"/usr/bin/google-chrome-stable\"  # Colab용 크롬 경로 지정\n",
        "\n",
        "## 드라이버 실행\n",
        "driver = webdriver.Chrome(options=chrome_options)\n",
        "\n",
        "## 사이트 접속\n",
        "url = 'https://professor.knou.ac.kr/jaehwachung//index.do'\n",
        "driver.get(url)\n",
        "\n",
        "## 사이트 접속 대기\n",
        "time.sleep(2)\n",
        "\n",
        "## 페이지 제목 출력\n",
        "page_source = driver.page_source\n",
        "tree = html.fromstring(page_source)\n",
        "\n",
        "title_text = tree.xpath('//title/text()')\n",
        "print(title_text)\n",
        "\n",
        "## 드라이버 종료\n",
        "driver.quit()"
      ],
      "metadata": {
        "id": "cRC8x3_iW0im",
        "outputId": "7ce72d98-5d73-4a7d-e6a4-de762eae8a3a",
        "colab": {
          "base_uri": "https://localhost:8080/"
        }
      },
      "execution_count": null,
      "outputs": [
        {
          "output_type": "stream",
          "name": "stdout",
          "text": [
            "<Element html at 0x7bfc5e4e9fe0>\n",
            "['\\n\\t\\tAlert \\n\\t\\t\\n\\t']\n"
          ]
        }
      ]
    },
    {
      "cell_type": "markdown",
      "source": [
        "\n",
        "# 실습 시나리오"
      ],
      "metadata": {
        "id": "Bu6OMZyGirOq"
      }
    },
    {
      "cell_type": "markdown",
      "source": [
        "## 공공데이터 포털 가입 및 데이터 신청\n",
        "\n",
        "- [https://www.data.go.kr](https://www.data.go.kr)\n",
        "- 한국환경공단 에어코리아 대기오염정보 데이터 신청"
      ],
      "metadata": {
        "id": "nsuqRN9RkZlW"
      }
    },
    {
      "cell_type": "code",
      "source": [
        "import requests\n",
        "\n",
        "## 데이터 수집 url 및 api key 설정\n",
        "\n",
        "\n",
        "params = {\n",
        "    'serviceKey': api_key,\n",
        "    'returnType': 'json',\n",
        "    'numOfRows': '100',\n",
        "    'pageNo': '1',\n",
        "    'sidoName': '서울',\n",
        "    'ver': '1.0'\n",
        "}\n",
        "\n",
        "## 데이터 수집\n",
        "\n",
        "## 호출 성공/실패 출력\n",
        "\n"
      ],
      "metadata": {
        "id": "7yCozmQeXJcO"
      },
      "execution_count": null,
      "outputs": []
    },
    {
      "cell_type": "code",
      "source": [
        "import requests\n",
        "import json\n",
        "import time\n",
        "\n",
        "api_key = '발급받은키'\n",
        "years = [str(year) for year in range(2014, 2025)]\n",
        "months = [str(m+1).zfill(2) for m in range(12)]\n",
        "data_result = []\n",
        "\n",
        "# 년도, 월, 회원타입, 현년 전기사용량, 현년 가스사용량, 현년 수도사용량, 현년 지역난방 사용량\n",
        "columns = ['YEAR', 'MON', 'MM_TYPE', 'EUS', 'GUS', 'WUS', 'HUS']\n",
        "\n",
        "try:\n",
        "    ## URL 및 파라미터 전송\n",
        "\n",
        "    for year in years:\n",
        "        for month in months:\n",
        "            url = f'http://openapi.seoul.go.kr:8088/{api_key}/json/energyUseDataSummaryInfo/1/5/{year}/{month}'\n",
        "            response = requests.get(url)\n",
        "            response.raise_for_status() # 200 OK가 아니면 예외발생\n",
        "\n",
        "            ## JSON 데이터 읽기\n",
        "            data = response.json()\n",
        "            print(data)\n",
        "\n",
        "            # 개인 유형의 데이터만 data_result 에 저장하기\n",
        "            rows = data.get('energyUseDataSummaryInfo', {}).get('row', [])\n",
        "            get_type_personal = lambda r : r['MM_TYPE'] == '개인'\n",
        "            filtered_list = list(filter(get_type_personal, rows))\n",
        "\n",
        "            # 년도, 월, 회원타입, 현년 전기, 가스, 수도, 지역난방 컬럼만 저장하기\n",
        "            compact_list = [{col:row[col] for col in columns} for row in filtered_list]\n",
        "            data_result.extend(compact_list)\n",
        "            time.sleep(0.4)\n",
        "\n",
        "    # '개인'유형의 데이터 data_result를 json으로 저장하기\n",
        "    with open('data_result.json', mode='w') as json_file:\n",
        "        json.dump(data_result, json_file, indent=4, ensure_ascii=False)\n",
        "\n",
        "except requests.exceptions.RequestException as e:\n",
        "    print(f\"API 호출 실패: {e}\")\n",
        "except json.JSONDecodeError as e:\n",
        "    print(f\"JSON 파싱 실패: {e}\")"
      ],
      "metadata": {
        "id": "jvURBkaC3lJh",
        "outputId": "a318fa31-6472-4484-cfbb-25c28798acb2",
        "colab": {
          "base_uri": "https://localhost:8080/"
        }
      },
      "execution_count": null,
      "outputs": [
        {
          "output_type": "stream",
          "name": "stdout",
          "text": []
        }
      ]
    },
    {
      "cell_type": "code",
      "source": [
        "import pandas as pd\n",
        "\n",
        "month_to_season = {\n",
        "    12: '겨울', 1: '겨울', 2: '겨울',\n",
        "    3: '봄', 4: '봄', 5: '봄',\n",
        "    6: '여름', 7: '여름', 8: '여름',\n",
        "    9: '가을', 10: '가을', 11: '가을'\n",
        "}\n",
        "\n",
        "## data_result.json 파일을 DataFrame으로 읽기\n",
        "df = pd.read_json('data_result.json', orient='records', encoding='utf-8', lines=False)\n",
        "season_data = df[\"MON\"].astype(int).map(month_to_season);\n",
        "df.insert(df.columns.get_loc('YEAR') + 1, 'SEASON', season_data)\n",
        "\n",
        "print(df)"
      ],
      "metadata": {
        "id": "vAFieMIdWfma",
        "outputId": "67ace221-a5da-45dc-ade0-6ad541909952",
        "colab": {
          "base_uri": "https://localhost:8080/"
        }
      },
      "execution_count": null,
      "outputs": [
        {
          "output_type": "stream",
          "name": "stdout",
          "text": [
            "    YEAR SEASON  MON MM_TYPE        EUS         GUS           WUS  \\\n",
            "0   2014     겨울    1      개인  144900337  38335224.0  1.061396e+07   \n",
            "1   2014      봄    3      개인  135419507  32209021.0  1.106945e+07   \n",
            "2   2014     여름    7      개인  168681507   7318863.0  1.313594e+07   \n",
            "3   2014     여름    8      개인  187725750   6596679.0  1.403165e+07   \n",
            "4   2014     가을    9      개인  175409826   6969566.0  1.383068e+07   \n",
            "..   ...    ...  ...     ...        ...         ...           ...   \n",
            "85  2024     여름    8      개인  463971328   7072251.0  1.587354e+07   \n",
            "86  2024     가을    9      개인  409872908   5729131.0  1.514332e+07   \n",
            "87  2024     가을   10      개인  282268119   8233421.0  1.529767e+07   \n",
            "88  2024     가을   11      개인  257927956  17418221.0  1.467867e+07   \n",
            "89  2024     겨울   12      개인  134828126  42103424.0  7.326854e+06   \n",
            "\n",
            "             HUS  \n",
            "0   1.763254e+07  \n",
            "1   1.047034e+07  \n",
            "2   2.178534e+05  \n",
            "3   3.205539e+05  \n",
            "4   1.041888e+06  \n",
            "..           ...  \n",
            "85  1.300823e+05  \n",
            "86  3.420507e+06  \n",
            "87  2.695491e+06  \n",
            "88  8.836296e+06  \n",
            "89  1.513199e+06  \n",
            "\n",
            "[90 rows x 8 columns]\n"
          ]
        }
      ]
    },
    {
      "cell_type": "code",
      "source": [
        "import pandas as pd\n",
        "\n",
        "## data_result.json 파일을 DataFrame으로 읽기\n",
        "df = pd.read_json('data_result.json', orient='records', encoding='utf-8', lines=False)\n",
        "print(df)"
      ],
      "metadata": {
        "id": "EqobjzT18-YO",
        "outputId": "bca50ca6-347c-42ed-bc8c-3d4eb0a527dd",
        "colab": {
          "base_uri": "https://localhost:8080/"
        }
      },
      "execution_count": null,
      "outputs": [
        {
          "output_type": "stream",
          "name": "stdout",
          "text": [
            "    YEAR  MON MM_TYPE        EUS         GUS           WUS           HUS\n",
            "0   2014    1      개인  144900337  38335224.0  1.061396e+07  1.763254e+07\n",
            "1   2014    3      개인  135419507  32209021.0  1.106945e+07  1.047034e+07\n",
            "2   2014    7      개인  168681507   7318863.0  1.313594e+07  2.178534e+05\n",
            "3   2014    8      개인  187725750   6596679.0  1.403165e+07  3.205539e+05\n",
            "4   2014    9      개인  175409826   6969566.0  1.383068e+07  1.041888e+06\n",
            "..   ...  ...     ...        ...         ...           ...           ...\n",
            "85  2024    8      개인  463971328   7072251.0  1.587354e+07  1.300823e+05\n",
            "86  2024    9      개인  409872908   5729131.0  1.514332e+07  3.420507e+06\n",
            "87  2024   10      개인  282268119   8233421.0  1.529767e+07  2.695491e+06\n",
            "88  2024   11      개인  257927956  17418221.0  1.467867e+07  8.836296e+06\n",
            "89  2024   12      개인  134828126  42103424.0  7.326854e+06  1.513199e+06\n",
            "\n",
            "[90 rows x 7 columns]\n"
          ]
        }
      ]
    },
    {
      "cell_type": "code",
      "source": [
        "import json\n",
        "\n",
        "# json_str = '{\"energyUseDataSummaryInfo\": {\"list_total_count\": 7, \"RESULT\": {\"CODE\": \"INFO-000\", \"MESSAGE\": \"정상 처리되었습니다\"}, \"row\": [{\"YEAR\": \"2020\", \"MON\": \"12\", \"MM_TYPE\": \"공공기관\", \"CNT\": \"2319\", \"EUS\": \"134415822\", \"EUS1\": \"140830293\", \"EUS2\": \"143785616\", \"ECO2_1\": \"-7892132.5\", \"ECO2_2\": \"-3346264.18\", \"GUS\": \"3625280\", \"GUS1\": \"3938720\", \"GUS2\": \"4530840\", \"GCO2_1\": \"-609500\", \"GCO2_2\": \"-1365280\", \"WUS\": \"682469.6\", \"WUS1\": \"966115.2\", \"WUS2\": \"923345\", \"WCO2_1\": \"-262260.5\", \"WCO2_2\": \"-87070.486\", \"HUS\": \"0\", \"HUS1\": \"0\", \"HUS2\": \"0\", \"HCO2_1\": \"0\", \"HCO2_2\": \"0\", \"REG_DATE\": \"2021-03-11 18:31:32.0\"}, {\"YEAR\": \"2020\", \"MON\": \"12\", \"MM_TYPE\": \"기업\", \"CNT\": \"18259\", \"EUS\": \"567429666\", \"EUS1\": \"586794781\", \"EUS2\": \"593462122\", \"ECO2_1\": \"-22698785.5\", \"ECO2_2\": \"-9624285.052\", \"GUS\": \"24795758\", \"GUS1\": \"21567744\", \"GUS2\": \"26868220\", \"GCO2_1\": \"577776\", \"GCO2_2\": \"1294218.24\", \"WUS\": \"4056394.2\", \"WUS1\": \"4768906.8\", \"WUS2\": \"4628830\", \"WCO2_1\": \"-642474.2\", \"WCO2_2\": \"-213301.4344\", \"HUS\": \"0\", \"HUS1\": \"0\", \"HUS2\": \"0\", \"HCO2_1\": \"0\", \"HCO2_2\": \"0\", \"REG_DATE\": \"2021-03-11 18:31:32.0\"}, {\"YEAR\": \"2020\", \"MON\": \"12\", \"MM_TYPE\": \"소상공인\", \"CNT\": \"42743\", \"EUS\": \"82544954\", \"EUS1\": \"88007794\", \"EUS2\": \"87941049\", \"ECO2_1\": \"-5429467.5\", \"ECO2_2\": \"-2302094.22\", \"GUS\": \"2749449\", \"GUS1\": \"3195669\", \"GUS2\": \"3116983\", \"GCO2_1\": \"-406877\", \"GCO2_2\": \"-911404.48\", \"WUS\": \"1522971.8\", \"WUS1\": \"1710259.8\", \"WUS2\": \"1644036.2\", \"WCO2_1\": \"-154176.2\", \"WCO2_2\": \"-51186.4984\", \"HUS\": \"2679.61\", \"HUS1\": \"2096.78\", \"HUS2\": \"2244.49\", \"HCO2_1\": \"508.975\", \"HCO2_2\": \"-73.51022\", \"REG_DATE\": \"2021-03-11 18:31:32.0\"}, {\"YEAR\": \"2020\", \"MON\": \"12\", \"MM_TYPE\": \"학교\", \"CNT\": \"6457\", \"EUS\": \"148641247\", \"EUS1\": \"163043674\", \"EUS2\": \"158464391\", \"ECO2_1\": \"-12112785.5\", \"ECO2_2\": \"-5135821.052\", \"GUS\": \"6130182\", \"GUS1\": \"6712287\", \"GUS2\": \"6946755\", \"GCO2_1\": \"-699339\", \"GCO2_2\": \"-1566519.36\", \"WUS\": \"1849950.6\", \"WUS1\": \"2254096.6\", \"WUS2\": \"2179161.8\", \"WCO2_1\": \"-366678.6\", \"WCO2_2\": \"-121737.2952\", \"HUS\": \"26803.56\", \"HUS1\": \"21972.121\", \"HUS2\": \"24090.481\", \"HCO2_1\": \"3772.259\", \"HCO2_2\": \"6446.968818\", \"REG_DATE\": \"2021-03-11 18:31:32.0\"}, {\"YEAR\": \"2020\", \"MON\": \"12\", \"MM_TYPE\": \"개인\", \"CNT\": \"1110223\", \"EUS\": \"265370372\", \"EUS1\": \"250887378\", \"EUS2\": \"252983409\", \"ECO2_1\": \"13434978.5\", \"ECO2_2\": \"5696430.884\", \"GUS\": \"51095720\", \"GUS1\": \"50449214\", \"GUS2\": \"50298542\", \"GCO2_1\": \"721842\", \"GCO2_2\": \"1616926.08\", \"WUS\": \"15036546.3\", \"WUS1\": \"14479510.234\", \"WUS2\": \"14356727.09\", \"WCO2_1\": \"618427.638\", \"WCO2_2\": \"205317.975816\", \"HUS\": \"26512966.052\", \"HUS1\": \"23787438.214\", \"HUS2\": \"24469734.461\", \"HCO2_1\": \"2384379.7145\", \"HCO2_2\": \"4399125.3465152\", \"REG_DATE\": \"2021-03-11 18:31:32.0\"}]}}'\n",
        "json_str = '{\"energyUseDataSummaryInfo\": {\"list_total_count\": 0, \"RESULT\": {\"CODE\": \"INFO-000\", \"MESSAGE\": \"정상 처리되었습니다\"}, \"row\": []}}'\n",
        "data = json.loads(json_str)\n",
        "rows = data.get('energyUseDataSummaryInfo', {}).get('row', [])\n",
        "print(data)\n",
        "get_type_personal = lambda r : r['MM_TYPE'] == '개인'\n",
        "p_data = list(filter(get_type_personal, rows))\n",
        "print(p_data)"
      ],
      "metadata": {
        "id": "I-_q2XH-KC7Z",
        "outputId": "b2b7c4be-47d4-48cd-ba7f-12a55bb33f15",
        "colab": {
          "base_uri": "https://localhost:8080/"
        }
      },
      "execution_count": null,
      "outputs": [
        {
          "output_type": "stream",
          "name": "stdout",
          "text": [
            "{'energyUseDataSummaryInfo': {'list_total_count': 0, 'RESULT': {'CODE': 'INFO-000', 'MESSAGE': '정상 처리되었습니다'}, 'row': []}}\n",
            "[]\n"
          ]
        }
      ]
    },
    {
      "cell_type": "code",
      "source": [
        "import json\n",
        "\n",
        "json_str = '{\"energyUseDataSummaryInfo\": {\"list_total_count\": 7, \"RESULT\": {\"CODE\": \"INFO-000\", \"MESSAGE\": \"정상 처리되었습니다\"}, \"row\": [{\"YEAR\": \"2020\", \"MON\": \"12\", \"MM_TYPE\": \"공공기관\", \"CNT\": \"2319\", \"EUS\": \"134415822\", \"EUS1\": \"140830293\", \"EUS2\": \"143785616\", \"ECO2_1\": \"-7892132.5\", \"ECO2_2\": \"-3346264.18\", \"GUS\": \"3625280\", \"GUS1\": \"3938720\", \"GUS2\": \"4530840\", \"GCO2_1\": \"-609500\", \"GCO2_2\": \"-1365280\", \"WUS\": \"682469.6\", \"WUS1\": \"966115.2\", \"WUS2\": \"923345\", \"WCO2_1\": \"-262260.5\", \"WCO2_2\": \"-87070.486\", \"HUS\": \"0\", \"HUS1\": \"0\", \"HUS2\": \"0\", \"HCO2_1\": \"0\", \"HCO2_2\": \"0\", \"REG_DATE\": \"2021-03-11 18:31:32.0\"}, {\"YEAR\": \"2020\", \"MON\": \"12\", \"MM_TYPE\": \"기업\", \"CNT\": \"18259\", \"EUS\": \"567429666\", \"EUS1\": \"586794781\", \"EUS2\": \"593462122\", \"ECO2_1\": \"-22698785.5\", \"ECO2_2\": \"-9624285.052\", \"GUS\": \"24795758\", \"GUS1\": \"21567744\", \"GUS2\": \"26868220\", \"GCO2_1\": \"577776\", \"GCO2_2\": \"1294218.24\", \"WUS\": \"4056394.2\", \"WUS1\": \"4768906.8\", \"WUS2\": \"4628830\", \"WCO2_1\": \"-642474.2\", \"WCO2_2\": \"-213301.4344\", \"HUS\": \"0\", \"HUS1\": \"0\", \"HUS2\": \"0\", \"HCO2_1\": \"0\", \"HCO2_2\": \"0\", \"REG_DATE\": \"2021-03-11 18:31:32.0\"}, {\"YEAR\": \"2020\", \"MON\": \"12\", \"MM_TYPE\": \"소상공인\", \"CNT\": \"42743\", \"EUS\": \"82544954\", \"EUS1\": \"88007794\", \"EUS2\": \"87941049\", \"ECO2_1\": \"-5429467.5\", \"ECO2_2\": \"-2302094.22\", \"GUS\": \"2749449\", \"GUS1\": \"3195669\", \"GUS2\": \"3116983\", \"GCO2_1\": \"-406877\", \"GCO2_2\": \"-911404.48\", \"WUS\": \"1522971.8\", \"WUS1\": \"1710259.8\", \"WUS2\": \"1644036.2\", \"WCO2_1\": \"-154176.2\", \"WCO2_2\": \"-51186.4984\", \"HUS\": \"2679.61\", \"HUS1\": \"2096.78\", \"HUS2\": \"2244.49\", \"HCO2_1\": \"508.975\", \"HCO2_2\": \"-73.51022\", \"REG_DATE\": \"2021-03-11 18:31:32.0\"}, {\"YEAR\": \"2020\", \"MON\": \"12\", \"MM_TYPE\": \"학교\", \"CNT\": \"6457\", \"EUS\": \"148641247\", \"EUS1\": \"163043674\", \"EUS2\": \"158464391\", \"ECO2_1\": \"-12112785.5\", \"ECO2_2\": \"-5135821.052\", \"GUS\": \"6130182\", \"GUS1\": \"6712287\", \"GUS2\": \"6946755\", \"GCO2_1\": \"-699339\", \"GCO2_2\": \"-1566519.36\", \"WUS\": \"1849950.6\", \"WUS1\": \"2254096.6\", \"WUS2\": \"2179161.8\", \"WCO2_1\": \"-366678.6\", \"WCO2_2\": \"-121737.2952\", \"HUS\": \"26803.56\", \"HUS1\": \"21972.121\", \"HUS2\": \"24090.481\", \"HCO2_1\": \"3772.259\", \"HCO2_2\": \"6446.968818\", \"REG_DATE\": \"2021-03-11 18:31:32.0\"}, {\"YEAR\": \"2020\", \"MON\": \"12\", \"MM_TYPE\": \"개인\", \"CNT\": \"1110223\", \"EUS\": \"265370372\", \"EUS1\": \"250887378\", \"EUS2\": \"252983409\", \"ECO2_1\": \"13434978.5\", \"ECO2_2\": \"5696430.884\", \"GUS\": \"51095720\", \"GUS1\": \"50449214\", \"GUS2\": \"50298542\", \"GCO2_1\": \"721842\", \"GCO2_2\": \"1616926.08\", \"WUS\": \"15036546.3\", \"WUS1\": \"14479510.234\", \"WUS2\": \"14356727.09\", \"WCO2_1\": \"618427.638\", \"WCO2_2\": \"205317.975816\", \"HUS\": \"26512966.052\", \"HUS1\": \"23787438.214\", \"HUS2\": \"24469734.461\", \"HCO2_1\": \"2384379.7145\", \"HCO2_2\": \"4399125.3465152\", \"REG_DATE\": \"2021-03-11 18:31:32.0\"}]}}'\n",
        "data = json.loads(json_str)\n",
        "rows = data.get('energyUseDataSummaryInfo', {}).get('row', [])\n",
        "get_type_personal = lambda r : r['MM_TYPE'] == '개인'\n",
        "data_personal_list = list(filter(get_type_personal, rows))\n",
        "with open('test.json', mode='w') as f:\n",
        "    f.write(f'{data_personal_list}')"
      ],
      "metadata": {
        "id": "zIsUyghhTNAE"
      },
      "execution_count": null,
      "outputs": []
    },
    {
      "cell_type": "code",
      "source": [
        "import json\n",
        "columns = [\n",
        "    'YEAR', #\t년도\n",
        "    'MON', #\t월\n",
        "    'MM_TYPE', #\t회원타입\n",
        "    'EUS', #\t현년 전기사용량\n",
        "    'GUS', #\t현년 가스사용량\n",
        "    'WUS', #\t현년 수도사용량\n",
        "    'HUS' #\t현년 지역난방 사용량\n",
        "]\n",
        "\n",
        "data_personal_list = []\n",
        "with open('data_personal_list.json', mode='r', encoding='utf-8') as f:\n",
        "    filtered_list = json.load(f)\n",
        "    # json_str = '{\"energyUseDataSummaryInfo\": {\"list_total_count\": 7, \"RESULT\": {\"CODE\": \"INFO-000\", \"MESSAGE\": \"정상 처리되었습니다\"}, \"row\": [{\"YEAR\": \"2020\", \"MON\": \"12\", \"MM_TYPE\": \"공공기관\", \"CNT\": \"2319\", \"EUS\": \"134415822\", \"EUS1\": \"140830293\", \"EUS2\": \"143785616\", \"ECO2_1\": \"-7892132.5\", \"ECO2_2\": \"-3346264.18\", \"GUS\": \"3625280\", \"GUS1\": \"3938720\", \"GUS2\": \"4530840\", \"GCO2_1\": \"-609500\", \"GCO2_2\": \"-1365280\", \"WUS\": \"682469.6\", \"WUS1\": \"966115.2\", \"WUS2\": \"923345\", \"WCO2_1\": \"-262260.5\", \"WCO2_2\": \"-87070.486\", \"HUS\": \"0\", \"HUS1\": \"0\", \"HUS2\": \"0\", \"HCO2_1\": \"0\", \"HCO2_2\": \"0\", \"REG_DATE\": \"2021-03-11 18:31:32.0\"}, {\"YEAR\": \"2020\", \"MON\": \"12\", \"MM_TYPE\": \"기업\", \"CNT\": \"18259\", \"EUS\": \"567429666\", \"EUS1\": \"586794781\", \"EUS2\": \"593462122\", \"ECO2_1\": \"-22698785.5\", \"ECO2_2\": \"-9624285.052\", \"GUS\": \"24795758\", \"GUS1\": \"21567744\", \"GUS2\": \"26868220\", \"GCO2_1\": \"577776\", \"GCO2_2\": \"1294218.24\", \"WUS\": \"4056394.2\", \"WUS1\": \"4768906.8\", \"WUS2\": \"4628830\", \"WCO2_1\": \"-642474.2\", \"WCO2_2\": \"-213301.4344\", \"HUS\": \"0\", \"HUS1\": \"0\", \"HUS2\": \"0\", \"HCO2_1\": \"0\", \"HCO2_2\": \"0\", \"REG_DATE\": \"2021-03-11 18:31:32.0\"}, {\"YEAR\": \"2020\", \"MON\": \"12\", \"MM_TYPE\": \"소상공인\", \"CNT\": \"42743\", \"EUS\": \"82544954\", \"EUS1\": \"88007794\", \"EUS2\": \"87941049\", \"ECO2_1\": \"-5429467.5\", \"ECO2_2\": \"-2302094.22\", \"GUS\": \"2749449\", \"GUS1\": \"3195669\", \"GUS2\": \"3116983\", \"GCO2_1\": \"-406877\", \"GCO2_2\": \"-911404.48\", \"WUS\": \"1522971.8\", \"WUS1\": \"1710259.8\", \"WUS2\": \"1644036.2\", \"WCO2_1\": \"-154176.2\", \"WCO2_2\": \"-51186.4984\", \"HUS\": \"2679.61\", \"HUS1\": \"2096.78\", \"HUS2\": \"2244.49\", \"HCO2_1\": \"508.975\", \"HCO2_2\": \"-73.51022\", \"REG_DATE\": \"2021-03-11 18:31:32.0\"}, {\"YEAR\": \"2020\", \"MON\": \"12\", \"MM_TYPE\": \"학교\", \"CNT\": \"6457\", \"EUS\": \"148641247\", \"EUS1\": \"163043674\", \"EUS2\": \"158464391\", \"ECO2_1\": \"-12112785.5\", \"ECO2_2\": \"-5135821.052\", \"GUS\": \"6130182\", \"GUS1\": \"6712287\", \"GUS2\": \"6946755\", \"GCO2_1\": \"-699339\", \"GCO2_2\": \"-1566519.36\", \"WUS\": \"1849950.6\", \"WUS1\": \"2254096.6\", \"WUS2\": \"2179161.8\", \"WCO2_1\": \"-366678.6\", \"WCO2_2\": \"-121737.2952\", \"HUS\": \"26803.56\", \"HUS1\": \"21972.121\", \"HUS2\": \"24090.481\", \"HCO2_1\": \"3772.259\", \"HCO2_2\": \"6446.968818\", \"REG_DATE\": \"2021-03-11 18:31:32.0\"}, {\"YEAR\": \"2020\", \"MON\": \"12\", \"MM_TYPE\": \"개인\", \"CNT\": \"1110223\", \"EUS\": \"265370372\", \"EUS1\": \"250887378\", \"EUS2\": \"252983409\", \"ECO2_1\": \"13434978.5\", \"ECO2_2\": \"5696430.884\", \"GUS\": \"51095720\", \"GUS1\": \"50449214\", \"GUS2\": \"50298542\", \"GCO2_1\": \"721842\", \"GCO2_2\": \"1616926.08\", \"WUS\": \"15036546.3\", \"WUS1\": \"14479510.234\", \"WUS2\": \"14356727.09\", \"WCO2_1\": \"618427.638\", \"WCO2_2\": \"205317.975816\", \"HUS\": \"26512966.052\", \"HUS1\": \"23787438.214\", \"HUS2\": \"24469734.461\", \"HCO2_1\": \"2384379.7145\", \"HCO2_2\": \"4399125.3465152\", \"REG_DATE\": \"2021-03-11 18:31:32.0\"}]}}'\n",
        "    # data = json.loads(json_str)\n",
        "    # rows = data.get('energyUseDataSummaryInfo', {}).get('row', [])\n",
        "    # get_type_personal = lambda r : r['MM_TYPE'] == '개인'\n",
        "    # filtered_list = list(filter(get_type_personal, rows))\n",
        "    compact_list = [{col:row[col] for col in columns} for row in filtered_list]\n",
        "    data_personal_list.extend(compact_list)\n",
        "    print(data_personal_list)\n",
        "\n",
        "\n",
        "\n",
        "with open('data_result.json', mode='w') as json_file:\n",
        "    json.dump(data_personal_list, json_file, indent=4, ensure_ascii=False)"
      ],
      "metadata": {
        "id": "fEqMjzF8Cww5",
        "outputId": "b0411849-5064-4ad1-bd8f-c2beb06c0eeb",
        "colab": {
          "base_uri": "https://localhost:8080/"
        }
      },
      "execution_count": null,
      "outputs": [
        {
          "output_type": "stream",
          "name": "stdout",
          "text": [
            "[{'YEAR': '2014', 'MON': '01', 'MM_TYPE': '개인', 'EUS': '144900337', 'GUS': '38335224', 'WUS': '10613959.838', 'HUS': '17632536.939'}, {'YEAR': '2014', 'MON': '03', 'MM_TYPE': '개인', 'EUS': '135419507', 'GUS': '32209021', 'WUS': '11069450.17', 'HUS': '10470340.034'}, {'YEAR': '2014', 'MON': '07', 'MM_TYPE': '개인', 'EUS': '168681507', 'GUS': '7318863', 'WUS': '13135941.064', 'HUS': '217853.383'}, {'YEAR': '2014', 'MON': '08', 'MM_TYPE': '개인', 'EUS': '187725750', 'GUS': '6596679', 'WUS': '14031651.912', 'HUS': '320553.853'}, {'YEAR': '2014', 'MON': '09', 'MM_TYPE': '개인', 'EUS': '175409826', 'GUS': '6969566', 'WUS': '13830683.654', 'HUS': '1041887.78'}, {'YEAR': '2014', 'MON': '11', 'MM_TYPE': '개인', 'EUS': '173263842', 'GUS': '19773109', 'WUS': '13489886.752', 'HUS': '10420879.095'}, {'YEAR': '2014', 'MON': '12', 'MM_TYPE': '개인', 'EUS': '180540444', 'GUS': '39598422', 'WUS': '13028824.456', 'HUS': '24632751.988'}, {'YEAR': '2015', 'MON': '01', 'MM_TYPE': '개인', 'EUS': '193784708', 'GUS': '59133720', 'WUS': '12819757.886', 'HUS': '22740838.937'}, {'YEAR': '2015', 'MON': '02', 'MM_TYPE': '개인', 'EUS': '189974230', 'GUS': '56487358', 'WUS': '12656888.218', 'HUS': '18793320.213'}, {'YEAR': '2015', 'MON': '05', 'MM_TYPE': '개인', 'EUS': '177289769', 'GUS': '22060892', 'WUS': '13086734.214', 'HUS': '1320895.801'}, {'YEAR': '2015', 'MON': '06', 'MM_TYPE': '개인', 'EUS': '186073153', 'GUS': '12677645', 'WUS': '14241651.402', 'HUS': '294312.634'}, {'YEAR': '2015', 'MON': '07', 'MM_TYPE': '개인', 'EUS': '165114568', 'GUS': '8893640', 'WUS': '12083879.038', 'HUS': '702863.645'}, {'YEAR': '2015', 'MON': '08', 'MM_TYPE': '개인', 'EUS': '242000479', 'GUS': '7619018', 'WUS': '15164553.742', 'HUS': '460288.965'}, {'YEAR': '2015', 'MON': '10', 'MM_TYPE': '개인', 'EUS': '186473958', 'GUS': '8924018', 'WUS': '14711828.766', 'HUS': '3167520.127'}, {'YEAR': '2015', 'MON': '12', 'MM_TYPE': '개인', 'EUS': '203388142', 'GUS': '40095231', 'WUS': '13904162.958', 'HUS': '21102616.717'}, {'YEAR': '2016', 'MON': '01', 'MM_TYPE': '개인', 'EUS': '215330620', 'GUS': '57641741', 'WUS': '13218916.436', 'HUS': '27186166.133'}, {'YEAR': '2016', 'MON': '02', 'MM_TYPE': '개인', 'EUS': '216677664', 'GUS': '68879796', 'WUS': '13312113.622', 'HUS': '21452994.715'}, {'YEAR': '2016', 'MON': '03', 'MM_TYPE': '개인', 'EUS': '203451798', 'GUS': '60019600', 'WUS': '13191615.499', 'HUS': '14070182.978'}, {'YEAR': '2016', 'MON': '04', 'MM_TYPE': '개인', 'EUS': '202541336', 'GUS': '40370608', 'WUS': '13748935.736', 'HUS': '4556396.936'}, {'YEAR': '2016', 'MON': '05', 'MM_TYPE': '개인', 'EUS': '195448592', 'GUS': '23077064', 'WUS': '13762618.524', 'HUS': '1166907.615'}, {'YEAR': '2016', 'MON': '06', 'MM_TYPE': '개인', 'EUS': '205061790', 'GUS': '13344932', 'WUS': '14543461.284', 'HUS': '340601.066'}, {'YEAR': '2016', 'MON': '09', 'MM_TYPE': '개인', 'EUS': '241676328', 'GUS': '7030657', 'WUS': '15233262.266', 'HUS': '2597269.386'}, {'YEAR': '2016', 'MON': '10', 'MM_TYPE': '개인', 'EUS': '197827666', 'GUS': '10129547', 'WUS': '15173666.268', 'HUS': '2142328.405'}, {'YEAR': '2016', 'MON': '11', 'MM_TYPE': '개인', 'EUS': '204812090', 'GUS': '23915383', 'WUS': '7215169', 'HUS': '10865402.481'}, {'YEAR': '2017', 'MON': '01', 'MM_TYPE': '개인', 'EUS': '222980440', 'GUS': '61781772', 'WUS': '14077034.016', 'HUS': '20567265.356'}, {'YEAR': '2017', 'MON': '02', 'MM_TYPE': '개인', 'EUS': '226181991', 'GUS': '73537514', 'WUS': '13724166.552', 'HUS': '17733782.246'}, {'YEAR': '2017', 'MON': '03', 'MM_TYPE': '개인', 'EUS': '208386870', 'GUS': '64297007', 'WUS': '13598081.92', 'HUS': '11477962.549'}, {'YEAR': '2017', 'MON': '05', 'MM_TYPE': '개인', 'EUS': '209894672', 'GUS': '25103152', 'WUS': '12950202.184', 'HUS': '19809726.81'}, {'YEAR': '2017', 'MON': '08', 'MM_TYPE': '개인', 'EUS': '297850172', 'GUS': '8429188', 'WUS': '14291829.084', 'HUS': '118927.011'}, {'YEAR': '2017', 'MON': '09', 'MM_TYPE': '개인', 'EUS': '232360099', 'GUS': '8981707', 'WUS': '13842675.562', 'HUS': '1279967.753'}, {'YEAR': '2017', 'MON': '10', 'MM_TYPE': '개인', 'EUS': '202205893', 'GUS': '11910453', 'WUS': '13811362.596', 'HUS': '2177857.689'}, {'YEAR': '2017', 'MON': '11', 'MM_TYPE': '개인', 'EUS': '215620132', 'GUS': '26041170', 'WUS': '13268391.686', 'HUS': '12290667.843'}, {'YEAR': '2018', 'MON': '02', 'MM_TYPE': '개인', 'EUS': '243271752', 'GUS': '88496947', 'WUS': '12905042.86', 'HUS': '22671708.494'}, {'YEAR': '2018', 'MON': '03', 'MM_TYPE': '개인', 'EUS': '219203768', 'GUS': '73426397', 'WUS': '12769174.532', 'HUS': '10924939.951'}, {'YEAR': '2018', 'MON': '06', 'MM_TYPE': '개인', 'EUS': '222820943', 'GUS': '17132065', 'WUS': '14051336.092', 'HUS': '285820.628'}, {'YEAR': '2018', 'MON': '07', 'MM_TYPE': '개인', 'EUS': '269705511', 'GUS': '11259835', 'WUS': '14333667.052', 'HUS': '25843523.832'}, {'YEAR': '2018', 'MON': '11', 'MM_TYPE': '개인', 'EUS': '227294230', 'GUS': '31239511', 'WUS': '13706690.088', 'HUS': '10276290.855'}, {'YEAR': '2018', 'MON': '12', 'MM_TYPE': '개인', 'EUS': '238692561', 'GUS': '54019855', 'WUS': '13732488.456', 'HUS': '20421845.603'}, {'YEAR': '2019', 'MON': '01', 'MM_TYPE': '개인', 'EUS': '253600219', 'GUS': '80308239', 'WUS': '13442971.1', 'HUS': '21963093.848'}, {'YEAR': '2019', 'MON': '02', 'MM_TYPE': '개인', 'EUS': '244927344', 'GUS': '81902188', 'WUS': '13495213.9', 'HUS': '106134923.132'}, {'YEAR': '2019', 'MON': '03', 'MM_TYPE': '개인', 'EUS': '223736787', 'GUS': '65146586.443', 'WUS': '13167550', 'HUS': '13194262.09'}, {'YEAR': '2019', 'MON': '04', 'MM_TYPE': '개인', 'EUS': '232166121', 'GUS': '49391508', 'WUS': '13753270.8', 'HUS': '7858587.747'}, {'YEAR': '2019', 'MON': '06', 'MM_TYPE': '개인', 'EUS': '226119779', 'GUS': '15771701', 'WUS': '14223536.4', 'HUS': '331690.945'}, {'YEAR': '2019', 'MON': '07', 'MM_TYPE': '개인', 'EUS': '257854441', 'GUS': '10700835', 'WUS': '14451345.9', 'HUS': '968957.161'}, {'YEAR': '2019', 'MON': '10', 'MM_TYPE': '개인', 'EUS': '228095713', 'GUS': '11876816', 'WUS': '14804362.3', 'HUS': '2590192.143'}, {'YEAR': '2019', 'MON': '11', 'MM_TYPE': '개인', 'EUS': '231283724', 'GUS': '24835894', 'WUS': '14123043.9', 'HUS': '14983364.884'}, {'YEAR': '2019', 'MON': '12', 'MM_TYPE': '개인', 'EUS': '244976724', 'GUS': '54509050', 'WUS': '14184785.2', 'HUS': '23558262.283'}, {'YEAR': '2020', 'MON': '02', 'MM_TYPE': '개인', 'EUS': '254879033', 'GUS': '76363768', 'WUS': '14052828.8', 'HUS': '20848668.612'}, {'YEAR': '2020', 'MON': '03', 'MM_TYPE': '개인', 'EUS': '244369714', 'GUS': '64367515', 'WUS': '13841531', 'HUS': '14194450.151'}, {'YEAR': '2020', 'MON': '04', 'MM_TYPE': '개인', 'EUS': '247831442', 'GUS': '48373693', 'WUS': '14618775.2', 'HUS': '8499792.566'}, {'YEAR': '2020', 'MON': '08', 'MM_TYPE': '개인', 'EUS': '320723239', 'GUS': '10177428', 'WUS': '15600097.8', 'HUS': '286814.663'}, {'YEAR': '2020', 'MON': '11', 'MM_TYPE': '개인', 'EUS': '247308528', 'GUS': '30095679', 'WUS': '14835013.9', 'HUS': '12882737.572'}, {'YEAR': '2020', 'MON': '12', 'MM_TYPE': '개인', 'EUS': '265370372', 'GUS': '51095720', 'WUS': '15036546.3', 'HUS': '26512966.052'}, {'YEAR': '2021', 'MON': '01', 'MM_TYPE': '개인', 'EUS': '287882528', 'GUS': '80955422', 'WUS': '14273105.8', 'HUS': '31069705.783'}, {'YEAR': '2021', 'MON': '02', 'MM_TYPE': '개인', 'EUS': '271224712', 'GUS': '85581769', 'WUS': '13679936.9', 'HUS': '22238103.26'}, {'YEAR': '2021', 'MON': '05', 'MM_TYPE': '개인', 'EUS': '241741576', 'GUS': '24638403', 'WUS': '14312460.916', 'HUS': '2246730.037'}, {'YEAR': '2021', 'MON': '06', 'MM_TYPE': '개인', 'EUS': '254958704', 'GUS': '18898880', 'WUS': '15174790.6', 'HUS': '396903.273'}, {'YEAR': '2021', 'MON': '07', 'MM_TYPE': '개인', 'EUS': '334733756', 'GUS': '9631171', 'WUS': '16619105.064', 'HUS': '5529269.058'}, {'YEAR': '2021', 'MON': '08', 'MM_TYPE': '개인', 'EUS': '409719040', 'GUS': '10205066', 'WUS': '15737994.8', 'HUS': '127607.838'}, {'YEAR': '2021', 'MON': '09', 'MM_TYPE': '개인', 'EUS': '290606638', 'GUS': '6602872', 'WUS': '15497783.9', 'HUS': '159066.058'}, {'YEAR': '2021', 'MON': '10', 'MM_TYPE': '개인', 'EUS': '253845816', 'GUS': '13840155', 'WUS': '15930639.8', 'HUS': '4220985.501'}, {'YEAR': '2021', 'MON': '11', 'MM_TYPE': '개인', 'EUS': '255516339', 'GUS': '28571168', 'WUS': '14975050.4', 'HUS': '13463697.643'}, {'YEAR': '2021', 'MON': '12', 'MM_TYPE': '개인', 'EUS': '265314948', 'GUS': '54651317', 'WUS': '14873728.5', 'HUS': '25989752.285'}, {'YEAR': '2022', 'MON': '03', 'MM_TYPE': '개인', 'EUS': '256771728', 'GUS': '75577723', 'WUS': '14181287.1', 'HUS': '15843818.715'}, {'YEAR': '2022', 'MON': '05', 'MM_TYPE': '개인', 'EUS': '238866649', 'GUS': '28185559', 'WUS': '14344240.1', 'HUS': '1457446.39'}, {'YEAR': '2022', 'MON': '06', 'MM_TYPE': '개인', 'EUS': '254486733', 'GUS': '15468022', 'WUS': '15087457.3', 'HUS': '838539.99'}, {'YEAR': '2022', 'MON': '07', 'MM_TYPE': '개인', 'EUS': '336383318', 'GUS': '10701998', 'WUS': '14907198', 'HUS': '50033.827'}, {'YEAR': '2022', 'MON': '08', 'MM_TYPE': '개인', 'EUS': '382965547', 'GUS': '8718677', 'WUS': '15555926.8', 'HUS': '3278812.728'}, {'YEAR': '2022', 'MON': '09', 'MM_TYPE': '개인', 'EUS': '294121752', 'GUS': '9220604.8', 'WUS': '15016541.4', 'HUS': '7221052.414'}, {'YEAR': '2022', 'MON': '11', 'MM_TYPE': '개인', 'EUS': '252081207', 'GUS': '28471902', 'WUS': '14485236.6', 'HUS': '10685943.786'}, {'YEAR': '2022', 'MON': '12', 'MM_TYPE': '개인', 'EUS': '266989892', 'GUS': '52230601', 'WUS': '14538742.5', 'HUS': '31655489.658'}, {'YEAR': '2023', 'MON': '04', 'MM_TYPE': '개인', 'EUS': '247142965', 'GUS': '38484227', 'WUS': '13951884.7', 'HUS': '4292056.162'}, {'YEAR': '2023', 'MON': '06', 'MM_TYPE': '개인', 'EUS': '259143276', 'GUS': '14742811', 'WUS': '14822130.1', 'HUS': '1169879.028'}, {'YEAR': '2023', 'MON': '08', 'MM_TYPE': '개인', 'EUS': '407479395', 'GUS': '8486915', 'WUS': '15402396.8', 'HUS': '530124.99'}, {'YEAR': '2023', 'MON': '09', 'MM_TYPE': '개인', 'EUS': '332452167', 'GUS': '7674573', 'WUS': '14941654.4', 'HUS': '19457189.828'}, {'YEAR': '2023', 'MON': '10', 'MM_TYPE': '개인', 'EUS': '255560826', 'GUS': '11273798', 'WUS': '14918622.9', 'HUS': '3049594.261'}, {'YEAR': '2023', 'MON': '11', 'MM_TYPE': '개인', 'EUS': '255362764', 'GUS': '23749738', 'WUS': '14439208.8', 'HUS': '13225464.736'}, {'YEAR': '2023', 'MON': '12', 'MM_TYPE': '개인', 'EUS': '271015225', 'GUS': '47560201', 'WUS': '14519931.6', 'HUS': '24169250.596'}, {'YEAR': '2024', 'MON': '01', 'MM_TYPE': '개인', 'EUS': '290223476', 'GUS': '65608930', 'WUS': '14119336.8', 'HUS': '26759601.094'}, {'YEAR': '2024', 'MON': '02', 'MM_TYPE': '개인', 'EUS': '280810330', 'GUS': '65184440', 'WUS': '14247296.7', 'HUS': '18696968.203'}, {'YEAR': '2024', 'MON': '03', 'MM_TYPE': '개인', 'EUS': '259332255', 'GUS': '58563376', 'WUS': '13792441.8', 'HUS': '13455710.256'}, {'YEAR': '2024', 'MON': '04', 'MM_TYPE': '개인', 'EUS': '256332884', 'GUS': '35786315', 'WUS': '14330249.1', 'HUS': '3099650.225'}, {'YEAR': '2024', 'MON': '05', 'MM_TYPE': '개인', 'EUS': '244740675', 'GUS': '18077028', 'WUS': '14158142.9', 'HUS': '28333197.76'}, {'YEAR': '2024', 'MON': '06', 'MM_TYPE': '개인', 'EUS': '270158916', 'GUS': '11903071', 'WUS': '14966075.6', 'HUS': '20226852.923'}, {'YEAR': '2024', 'MON': '07', 'MM_TYPE': '개인', 'EUS': '340000663', 'GUS': '8319412', 'WUS': '14992942.2', 'HUS': '2173041.617'}, {'YEAR': '2024', 'MON': '08', 'MM_TYPE': '개인', 'EUS': '463971328', 'GUS': '7072251', 'WUS': '15873544.6', 'HUS': '130082.263'}, {'YEAR': '2024', 'MON': '09', 'MM_TYPE': '개인', 'EUS': '409872908', 'GUS': '5729131', 'WUS': '15143321.6', 'HUS': '3420507.136'}, {'YEAR': '2024', 'MON': '10', 'MM_TYPE': '개인', 'EUS': '282268119', 'GUS': '8233421', 'WUS': '15297669.9', 'HUS': '2695491.396'}, {'YEAR': '2024', 'MON': '11', 'MM_TYPE': '개인', 'EUS': '257927956', 'GUS': '17418221', 'WUS': '14678672.5', 'HUS': '8836296.454'}, {'YEAR': '2024', 'MON': '12', 'MM_TYPE': '개인', 'EUS': '134828126', 'GUS': '42103424', 'WUS': '7326853.6', 'HUS': '1513199.277'}]\n"
          ]
        }
      ]
    },
    {
      "cell_type": "code",
      "source": [
        "import pandas as pd\n",
        "import numpy as np\n",
        "\n",
        "df = pd.read_json('data_result.json', orient='records', encoding='utf-8', lines=False)\n",
        "\n",
        "df.describe(include='all')\n",
        "\n",
        "df.describe(include='object')\n",
        "\n",
        "df.describe()\n",
        "df.describe(include=[np.number])\n",
        "\n",
        "df['EUS'].describe()"
      ],
      "metadata": {
        "id": "pePWy3e7Kj20",
        "outputId": "ad2b5cf0-9327-4460-d5d2-13583417473b",
        "colab": {
          "base_uri": "https://localhost:8080/",
          "height": 335
        }
      },
      "execution_count": null,
      "outputs": [
        {
          "output_type": "execute_result",
          "data": {
            "text/plain": [
              "count    9.000000e+01\n",
              "mean     2.468824e+08\n",
              "std      5.909901e+07\n",
              "min      1.348281e+08\n",
              "25%      2.087638e+08\n",
              "50%      2.445552e+08\n",
              "75%      2.653565e+08\n",
              "max      4.639713e+08\n",
              "Name: EUS, dtype: float64"
            ],
            "text/html": [
              "<div>\n",
              "<style scoped>\n",
              "    .dataframe tbody tr th:only-of-type {\n",
              "        vertical-align: middle;\n",
              "    }\n",
              "\n",
              "    .dataframe tbody tr th {\n",
              "        vertical-align: top;\n",
              "    }\n",
              "\n",
              "    .dataframe thead th {\n",
              "        text-align: right;\n",
              "    }\n",
              "</style>\n",
              "<table border=\"1\" class=\"dataframe\">\n",
              "  <thead>\n",
              "    <tr style=\"text-align: right;\">\n",
              "      <th></th>\n",
              "      <th>EUS</th>\n",
              "    </tr>\n",
              "  </thead>\n",
              "  <tbody>\n",
              "    <tr>\n",
              "      <th>count</th>\n",
              "      <td>9.000000e+01</td>\n",
              "    </tr>\n",
              "    <tr>\n",
              "      <th>mean</th>\n",
              "      <td>2.468824e+08</td>\n",
              "    </tr>\n",
              "    <tr>\n",
              "      <th>std</th>\n",
              "      <td>5.909901e+07</td>\n",
              "    </tr>\n",
              "    <tr>\n",
              "      <th>min</th>\n",
              "      <td>1.348281e+08</td>\n",
              "    </tr>\n",
              "    <tr>\n",
              "      <th>25%</th>\n",
              "      <td>2.087638e+08</td>\n",
              "    </tr>\n",
              "    <tr>\n",
              "      <th>50%</th>\n",
              "      <td>2.445552e+08</td>\n",
              "    </tr>\n",
              "    <tr>\n",
              "      <th>75%</th>\n",
              "      <td>2.653565e+08</td>\n",
              "    </tr>\n",
              "    <tr>\n",
              "      <th>max</th>\n",
              "      <td>4.639713e+08</td>\n",
              "    </tr>\n",
              "  </tbody>\n",
              "</table>\n",
              "</div><br><label><b>dtype:</b> float64</label>"
            ]
          },
          "metadata": {},
          "execution_count": 26
        }
      ]
    }
  ]
}