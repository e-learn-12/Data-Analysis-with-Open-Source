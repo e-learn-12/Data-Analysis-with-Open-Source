{
  "nbformat": 4,
  "nbformat_minor": 0,
  "metadata": {
    "colab": {
      "provenance": [],
      "include_colab_link": true
    },
    "kernelspec": {
      "name": "python3",
      "display_name": "Python 3"
    },
    "language_info": {
      "name": "python"
    }
  },
  "cells": [
    {
      "cell_type": "markdown",
      "metadata": {
        "id": "view-in-github",
        "colab_type": "text"
      },
      "source": [
        "<a href=\"https://colab.research.google.com/github/e-learn-12/Data-Analysis-with-Open-Source/blob/main/%EC%98%A4%ED%94%88%EC%86%8C%EC%8A%A4_%EB%8D%B0%EC%9D%B4%ED%84%B0_%EB%B6%84%EC%84%9D_4%EA%B0%95.ipynb\" target=\"_parent\"><img src=\"https://colab.research.google.com/assets/colab-badge.svg\" alt=\"Open In Colab\"/></a>"
      ]
    },
    {
      "cell_type": "markdown",
      "source": [
        "\n",
        "\n",
        "# 오픈소스 기반 데이터 분석 4강 - 데이터 수집\n"
      ],
      "metadata": {
        "id": "DkPKaAsoRq5Q"
      }
    },
    {
      "cell_type": "markdown",
      "source": [
        "## 4-1 CSV 파일 읽기"
      ],
      "metadata": {
        "id": "-I7BVVlnRrB0"
      }
    },
    {
      "cell_type": "code",
      "source": [
        "import pandas as pd\n",
        "\n",
        "## data.csv 파일 읽기\n",
        "df = pd.read_csv('data.csv', encoding='utf-8', sep=',', header=0, index_col=None, skiprows=None, nrows=None)\n",
        "print(df)"
      ],
      "metadata": {
        "id": "2Y2HEiaiRwAI",
        "outputId": "3c8e2f18-9b88-47b6-ddbb-c6d87a1ee030",
        "colab": {
          "base_uri": "https://localhost:8080/"
        }
      },
      "execution_count": 3,
      "outputs": [
        {
          "output_type": "stream",
          "name": "stdout",
          "text": [
            "           날짜    체중  골격근량  체지방량\n",
            "0  2025.02.06  64.7  30.0  11.1\n",
            "1  2025.02.04  64.0  29.3  11.6\n"
          ]
        }
      ]
    },
    {
      "cell_type": "markdown",
      "source": [
        "## 4-2 JSON 파일 읽기\n",
        "\n"
      ],
      "metadata": {
        "id": "9kHCFaGlRrE0"
      }
    },
    {
      "cell_type": "code",
      "source": [
        "import json\n",
        "import pandas as pd\n",
        "\n",
        "## data.json 파일 출력\n",
        "with open('data.json', mode='r', encoding='utf-8') as f:\n",
        "    data = json.load(f)\n",
        "    print(f'json.load 사용--------------\\n{data}\\n\\n')\n",
        "## data.json 파일 DataFrame 읽기\n",
        "df = pd.read_json('data.json', orient='records', encoding='utf-8', lines=False)\n",
        "print(f'pandas.read_json 사용--------------\\n{df}')"
      ],
      "metadata": {
        "id": "IO8bsKekR0W_",
        "outputId": "8f2db1a1-6c42-4a26-8732-7d5ed30bc569",
        "colab": {
          "base_uri": "https://localhost:8080/"
        }
      },
      "execution_count": 11,
      "outputs": [
        {
          "output_type": "stream",
          "name": "stdout",
          "text": [
            "json.load 사용--------------\n",
            "{'매출데이터': [{'월': '2025-01', '매출액': 1000000, '비용': 700000, '이익': 300000}, {'월': '2025-02', '매출액': 1200000, '비용': 800000, '이익': 400000}, {'월': '2025-03', '매출액': 1500000, '비용': 900000, '이익': 600000}]}\n",
            "\n",
            "\n",
            "pandas.read_json 사용--------------\n",
            "                                               매출데이터\n",
            "0  {'월': '2025-01', '매출액': 1000000, '비용': 700000,...\n",
            "1  {'월': '2025-02', '매출액': 1200000, '비용': 800000,...\n",
            "2  {'월': '2025-03', '매출액': 1500000, '비용': 900000,...\n"
          ]
        }
      ]
    },
    {
      "cell_type": "markdown",
      "source": [
        "## 4-3 텍스트 파일 읽기 및 데이터 추출"
      ],
      "metadata": {
        "id": "uLd_3A_IRrHG"
      }
    },
    {
      "cell_type": "code",
      "source": [
        "import re\n",
        "\n",
        "## 파일(callcenter20250301.log) 오픈 및 읽기\n",
        "with open('callcenter20250301.log', 'r', encoding='utf-8') as f:\n",
        "    content = f.read()\n",
        "## 주민등록번호 패턴 생성\n",
        "pattern = re.compile(r'(\\d{6})-(\\d{7})')\n",
        "\n",
        "## 주민등록번호 마스킹\n",
        "masked_content = pattern.sub(r'\\1-*******', content)\n",
        "\n",
        "## 마스킹된 파일(callcenter20250301_masked.log) 오픈 및 쓰기\n",
        "with open('callcenter20250301_masked.log', mode='w') as f:\n",
        "    f.write(masked_content)\n",
        "\n",
        "print(\"주민등록번호 마스킹 완료. 'callcenter20250301_masked.log' 파일로 저장되었습니다.\")"
      ],
      "metadata": {
        "id": "60qOf7uxVdAg",
        "outputId": "2852700f-19dd-4792-e7f7-2e208d4d6222",
        "colab": {
          "base_uri": "https://localhost:8080/",
          "height": 221
        }
      },
      "execution_count": 1,
      "outputs": [
        {
          "output_type": "error",
          "ename": "FileNotFoundError",
          "evalue": "[Errno 2] No such file or directory: 'callcenter20250301.log'",
          "traceback": [
            "\u001b[0;31m---------------------------------------------------------------------------\u001b[0m",
            "\u001b[0;31mFileNotFoundError\u001b[0m                         Traceback (most recent call last)",
            "\u001b[0;32m/tmp/ipython-input-2751186880.py\u001b[0m in \u001b[0;36m<cell line: 0>\u001b[0;34m()\u001b[0m\n\u001b[1;32m      2\u001b[0m \u001b[0;34m\u001b[0m\u001b[0m\n\u001b[1;32m      3\u001b[0m \u001b[0;31m## 파일(callcenter20250301.log) 오픈 및 읽기\u001b[0m\u001b[0;34m\u001b[0m\u001b[0;34m\u001b[0m\u001b[0m\n\u001b[0;32m----> 4\u001b[0;31m \u001b[0;32mwith\u001b[0m \u001b[0mopen\u001b[0m\u001b[0;34m(\u001b[0m\u001b[0;34m'callcenter20250301.log'\u001b[0m\u001b[0;34m,\u001b[0m \u001b[0;34m'r'\u001b[0m\u001b[0;34m,\u001b[0m \u001b[0mencoding\u001b[0m\u001b[0;34m=\u001b[0m\u001b[0;34m'utf-8'\u001b[0m\u001b[0;34m)\u001b[0m \u001b[0;32mas\u001b[0m \u001b[0mf\u001b[0m\u001b[0;34m:\u001b[0m\u001b[0;34m\u001b[0m\u001b[0;34m\u001b[0m\u001b[0m\n\u001b[0m\u001b[1;32m      5\u001b[0m     \u001b[0mcontent\u001b[0m \u001b[0;34m=\u001b[0m \u001b[0mf\u001b[0m\u001b[0;34m.\u001b[0m\u001b[0mread\u001b[0m\u001b[0;34m(\u001b[0m\u001b[0;34m)\u001b[0m\u001b[0;34m\u001b[0m\u001b[0;34m\u001b[0m\u001b[0m\n\u001b[1;32m      6\u001b[0m \u001b[0;31m## 주민등록번호 패턴 생성\u001b[0m\u001b[0;34m\u001b[0m\u001b[0;34m\u001b[0m\u001b[0m\n",
            "\u001b[0;31mFileNotFoundError\u001b[0m: [Errno 2] No such file or directory: 'callcenter20250301.log'"
          ]
        }
      ]
    },
    {
      "cell_type": "markdown",
      "source": [
        "## 4-4 Open-Meteo의 무료 날씨 API를 통한 특정 지역 온도 조회"
      ],
      "metadata": {
        "id": "eOMufu5SXiAU"
      }
    },
    {
      "cell_type": "code",
      "source": [
        "import requests\n",
        "import json\n",
        "\n",
        "url = \"https://api.open-meteo.com/v1/forecast?=&=&current=temperature_2m\"\n",
        "params = {\n",
        "    \"latitude\": \"37.58638333\",\n",
        "    \"longitude\": \"127.0203333\",\n",
        "    \"current\": \"temperature_2m\"\n",
        "}\n",
        "\n",
        "try:\n",
        "    ## URL 및 파라미터 전송\n",
        "    response = requests.get(url, params=params)\n",
        "    response.raise_for_status() # 200 OK가 아니면 예외발생\n",
        "\n",
        "    ## JSON 데이터 읽기\n",
        "    data = response.json()\n",
        "\n",
        "    print(\"API 응답:\", data)\n",
        "    print(\"서울시 종로구의 현재 온도는 : {0}{1} 입니다.\".format(data['current']['temperature_2m'], data['current_units']['temperature_2m']))\n",
        "\n",
        "except requests.exceptions.RequestException as e:\n",
        "    print(f\"API 호출 실패: {e}\")\n",
        "except json.JSONDecodeError as e:\n",
        "    print(f\"JSON 파싱 실패: {e}\")"
      ],
      "metadata": {
        "id": "JpmgdsW9V0CY",
        "outputId": "ea15ef0e-42bd-48d6-b860-4e30b664b367",
        "colab": {
          "base_uri": "https://localhost:8080/"
        }
      },
      "execution_count": 16,
      "outputs": [
        {
          "output_type": "stream",
          "name": "stdout",
          "text": [
            "API 응답: {'latitude': 37.6, 'longitude': 127.0, 'generationtime_ms': 0.02849102020263672, 'utc_offset_seconds': 0, 'timezone': 'GMT', 'timezone_abbreviation': 'GMT', 'elevation': 29.0, 'current_units': {'time': 'iso8601', 'interval': 'seconds', 'temperature_2m': '°C'}, 'current': {'time': '2025-10-19T07:00', 'interval': 900, 'temperature_2m': 17.8}}\n",
            "서울시 종로구의 현재 온도는 : 17.8°C 입니다.\n"
          ]
        }
      ]
    },
    {
      "cell_type": "markdown",
      "source": [
        "## 4-5 Selenium과 lxml을 이용한 웹 스크래핑"
      ],
      "metadata": {
        "id": "RLfPaa1ZiqIC"
      }
    },
    {
      "cell_type": "code",
      "source": [
        "!curl -o google-chrome-stable_current_amd64.deb https://dl.google.com/linux/direct/google-chrome-stable_current_amd64.deb\n",
        "!apt install ./google-chrome-stable_current_amd64.deb -y\n",
        "!pip install selenium webdriver_manager"
      ],
      "metadata": {
        "id": "79dmM7MNk8pB",
        "outputId": "4aa55064-331e-44d6-c6e2-066078fda7d7",
        "colab": {
          "base_uri": "https://localhost:8080/"
        }
      },
      "execution_count": 17,
      "outputs": [
        {
          "output_type": "stream",
          "name": "stdout",
          "text": [
            "  % Total    % Received % Xferd  Average Speed   Time    Time     Time  Current\n",
            "                                 Dload  Upload   Total   Spent    Left  Speed\n",
            "100  114M  100  114M    0     0   236M      0 --:--:-- --:--:-- --:--:--  236M\n",
            "Reading package lists... Done\n",
            "Building dependency tree... Done\n",
            "Reading state information... Done\n",
            "Note, selecting 'google-chrome-stable' instead of './google-chrome-stable_current_amd64.deb'\n",
            "The following additional packages will be installed:\n",
            "  libvulkan1 mesa-vulkan-drivers\n",
            "The following NEW packages will be installed:\n",
            "  google-chrome-stable libvulkan1 mesa-vulkan-drivers\n",
            "0 upgraded, 3 newly installed, 0 to remove and 38 not upgraded.\n",
            "Need to get 10.9 MB/131 MB of archives.\n",
            "After this operation, 448 MB of additional disk space will be used.\n",
            "Get:1 http://archive.ubuntu.com/ubuntu jammy/main amd64 libvulkan1 amd64 1.3.204.1-2 [128 kB]\n",
            "Get:2 http://archive.ubuntu.com/ubuntu jammy-updates/main amd64 mesa-vulkan-drivers amd64 23.2.1-1ubuntu3.1~22.04.3 [10.7 MB]\n",
            "Get:3 /content/google-chrome-stable_current_amd64.deb google-chrome-stable amd64 141.0.7390.107-1 [121 MB]\n",
            "Fetched 10.9 MB in 1s (9,019 kB/s)\n",
            "Selecting previously unselected package libvulkan1:amd64.\n",
            "(Reading database ... 126675 files and directories currently installed.)\n",
            "Preparing to unpack .../libvulkan1_1.3.204.1-2_amd64.deb ...\n",
            "Unpacking libvulkan1:amd64 (1.3.204.1-2) ...\n",
            "Selecting previously unselected package google-chrome-stable.\n",
            "Preparing to unpack .../google-chrome-stable_current_amd64.deb ...\n",
            "Unpacking google-chrome-stable (141.0.7390.107-1) ...\n",
            "Selecting previously unselected package mesa-vulkan-drivers:amd64.\n",
            "Preparing to unpack .../mesa-vulkan-drivers_23.2.1-1ubuntu3.1~22.04.3_amd64.deb ...\n",
            "Unpacking mesa-vulkan-drivers:amd64 (23.2.1-1ubuntu3.1~22.04.3) ...\n",
            "Setting up libvulkan1:amd64 (1.3.204.1-2) ...\n",
            "Setting up mesa-vulkan-drivers:amd64 (23.2.1-1ubuntu3.1~22.04.3) ...\n",
            "Setting up google-chrome-stable (141.0.7390.107-1) ...\n",
            "update-alternatives: using /usr/bin/google-chrome-stable to provide /usr/bin/x-www-browser (x-www-browser) in auto mode\n",
            "update-alternatives: using /usr/bin/google-chrome-stable to provide /usr/bin/gnome-www-browser (gnome-www-browser) in auto mode\n",
            "update-alternatives: using /usr/bin/google-chrome-stable to provide /usr/bin/google-chrome (google-chrome) in auto mode\n",
            "Processing triggers for man-db (2.10.2-1) ...\n",
            "Processing triggers for mailcap (3.70+nmu1ubuntu1) ...\n",
            "Processing triggers for libc-bin (2.35-0ubuntu3.8) ...\n",
            "/sbin/ldconfig.real: /usr/local/lib/libtcm_debug.so.1 is not a symbolic link\n",
            "\n",
            "/sbin/ldconfig.real: /usr/local/lib/libtbbbind_2_0.so.3 is not a symbolic link\n",
            "\n",
            "/sbin/ldconfig.real: /usr/local/lib/libur_loader.so.0 is not a symbolic link\n",
            "\n",
            "/sbin/ldconfig.real: /usr/local/lib/libur_adapter_level_zero.so.0 is not a symbolic link\n",
            "\n",
            "/sbin/ldconfig.real: /usr/local/lib/libtbbmalloc_proxy.so.2 is not a symbolic link\n",
            "\n",
            "/sbin/ldconfig.real: /usr/local/lib/libumf.so.0 is not a symbolic link\n",
            "\n",
            "/sbin/ldconfig.real: /usr/local/lib/libtbbmalloc.so.2 is not a symbolic link\n",
            "\n",
            "/sbin/ldconfig.real: /usr/local/lib/libtbb.so.12 is not a symbolic link\n",
            "\n",
            "/sbin/ldconfig.real: /usr/local/lib/libur_adapter_level_zero_v2.so.0 is not a symbolic link\n",
            "\n",
            "/sbin/ldconfig.real: /usr/local/lib/libtbbbind_2_5.so.3 is not a symbolic link\n",
            "\n",
            "/sbin/ldconfig.real: /usr/local/lib/libhwloc.so.15 is not a symbolic link\n",
            "\n",
            "/sbin/ldconfig.real: /usr/local/lib/libtbbbind.so.3 is not a symbolic link\n",
            "\n",
            "/sbin/ldconfig.real: /usr/local/lib/libtcm.so.1 is not a symbolic link\n",
            "\n",
            "/sbin/ldconfig.real: /usr/local/lib/libur_adapter_opencl.so.0 is not a symbolic link\n",
            "\n",
            "Collecting selenium\n",
            "  Downloading selenium-4.37.0-py3-none-any.whl.metadata (7.5 kB)\n",
            "Collecting webdriver_manager\n",
            "  Downloading webdriver_manager-4.0.2-py2.py3-none-any.whl.metadata (12 kB)\n",
            "Requirement already satisfied: urllib3<3.0,>=2.5.0 in /usr/local/lib/python3.12/dist-packages (from urllib3[socks]<3.0,>=2.5.0->selenium) (2.5.0)\n",
            "Collecting trio<1.0,>=0.31.0 (from selenium)\n",
            "  Downloading trio-0.31.0-py3-none-any.whl.metadata (8.5 kB)\n",
            "Collecting trio-websocket<1.0,>=0.12.2 (from selenium)\n",
            "  Downloading trio_websocket-0.12.2-py3-none-any.whl.metadata (5.1 kB)\n",
            "Requirement already satisfied: certifi>=2025.10.5 in /usr/local/lib/python3.12/dist-packages (from selenium) (2025.10.5)\n",
            "Requirement already satisfied: typing_extensions<5.0,>=4.15.0 in /usr/local/lib/python3.12/dist-packages (from selenium) (4.15.0)\n",
            "Requirement already satisfied: websocket-client<2.0,>=1.8.0 in /usr/local/lib/python3.12/dist-packages (from selenium) (1.9.0)\n",
            "Requirement already satisfied: requests in /usr/local/lib/python3.12/dist-packages (from webdriver_manager) (2.32.4)\n",
            "Requirement already satisfied: python-dotenv in /usr/local/lib/python3.12/dist-packages (from webdriver_manager) (1.1.1)\n",
            "Requirement already satisfied: packaging in /usr/local/lib/python3.12/dist-packages (from webdriver_manager) (25.0)\n",
            "Requirement already satisfied: attrs>=23.2.0 in /usr/local/lib/python3.12/dist-packages (from trio<1.0,>=0.31.0->selenium) (25.4.0)\n",
            "Requirement already satisfied: sortedcontainers in /usr/local/lib/python3.12/dist-packages (from trio<1.0,>=0.31.0->selenium) (2.4.0)\n",
            "Requirement already satisfied: idna in /usr/local/lib/python3.12/dist-packages (from trio<1.0,>=0.31.0->selenium) (3.11)\n",
            "Collecting outcome (from trio<1.0,>=0.31.0->selenium)\n",
            "  Downloading outcome-1.3.0.post0-py2.py3-none-any.whl.metadata (2.6 kB)\n",
            "Requirement already satisfied: sniffio>=1.3.0 in /usr/local/lib/python3.12/dist-packages (from trio<1.0,>=0.31.0->selenium) (1.3.1)\n",
            "Collecting wsproto>=0.14 (from trio-websocket<1.0,>=0.12.2->selenium)\n",
            "  Downloading wsproto-1.2.0-py3-none-any.whl.metadata (5.6 kB)\n",
            "Requirement already satisfied: pysocks!=1.5.7,<2.0,>=1.5.6 in /usr/local/lib/python3.12/dist-packages (from urllib3[socks]<3.0,>=2.5.0->selenium) (1.7.1)\n",
            "Requirement already satisfied: charset_normalizer<4,>=2 in /usr/local/lib/python3.12/dist-packages (from requests->webdriver_manager) (3.4.4)\n",
            "Requirement already satisfied: h11<1,>=0.9.0 in /usr/local/lib/python3.12/dist-packages (from wsproto>=0.14->trio-websocket<1.0,>=0.12.2->selenium) (0.16.0)\n",
            "Downloading selenium-4.37.0-py3-none-any.whl (9.7 MB)\n",
            "\u001b[2K   \u001b[90m━━━━━━━━━━━━━━━━━━━━━━━━━━━━━━━━━━━━━━━━\u001b[0m \u001b[32m9.7/9.7 MB\u001b[0m \u001b[31m24.0 MB/s\u001b[0m eta \u001b[36m0:00:00\u001b[0m\n",
            "\u001b[?25hDownloading webdriver_manager-4.0.2-py2.py3-none-any.whl (27 kB)\n",
            "Downloading trio-0.31.0-py3-none-any.whl (512 kB)\n",
            "\u001b[2K   \u001b[90m━━━━━━━━━━━━━━━━━━━━━━━━━━━━━━━━━━━━━━━━\u001b[0m \u001b[32m512.7/512.7 kB\u001b[0m \u001b[31m27.9 MB/s\u001b[0m eta \u001b[36m0:00:00\u001b[0m\n",
            "\u001b[?25hDownloading trio_websocket-0.12.2-py3-none-any.whl (21 kB)\n",
            "Downloading outcome-1.3.0.post0-py2.py3-none-any.whl (10 kB)\n",
            "Downloading wsproto-1.2.0-py3-none-any.whl (24 kB)\n",
            "Installing collected packages: wsproto, outcome, webdriver_manager, trio, trio-websocket, selenium\n",
            "Successfully installed outcome-1.3.0.post0 selenium-4.37.0 trio-0.31.0 trio-websocket-0.12.2 webdriver_manager-4.0.2 wsproto-1.2.0\n"
          ]
        }
      ]
    },
    {
      "cell_type": "code",
      "source": [
        "from selenium import webdriver\n",
        "from selenium.webdriver.chrome.service import Service as ChromeService\n",
        "from webdriver_manager.chrome import ChromeDriverManager\n",
        "from selenium.webdriver.common.by import By\n",
        "from lxml import html\n",
        "import time\n",
        "\n",
        "chrome_options = webdriver.ChromeOptions()\n",
        "chrome_options.add_argument('--headless')               # 브라우저 창 없이 실행\n",
        "chrome_options.add_argument('--no-sandbox')             # 보안모드 비활성화 (Colab 필수)\n",
        "chrome_options.add_argument('--disable-dev-shm-usage')  # 메모리 부족 방지 (Colab 필수)\n",
        "chrome_options.add_argument('--window-size=1920x1080')  # 창 크기 설정(가상)\n",
        "chrome_options.add_argument('--disable-gpu')            # GPU 가속 비활성화 (일부 환경 안정성)\n",
        "chrome_options.binary_location = \"/usr/bin/google-chrome-stable\"  # Colab용 크롬 경로 지정\n",
        "\n",
        "## 드라이버 실행\n",
        "driver = webdriver.Chrome(options=chrome_options)\n",
        "\n",
        "## 사이트 접속\n",
        "url = 'https://professor.knou.ac.kr/jaehwachung//index.do'\n",
        "driver.get(url)\n",
        "\n",
        "## 사이트 접속 대기\n",
        "time.sleep(2)\n",
        "\n",
        "## 페이지 제목 출력\n",
        "page_source = driver.page_source\n",
        "tree = html.fromstring(page_source)\n",
        "\n",
        "title_text = tree.xpath('//title/text()')\n",
        "print(title_text)\n",
        "\n",
        "## 드라이버 종료\n",
        "driver.quit()"
      ],
      "metadata": {
        "id": "cRC8x3_iW0im",
        "outputId": "7ce72d98-5d73-4a7d-e6a4-de762eae8a3a",
        "colab": {
          "base_uri": "https://localhost:8080/"
        }
      },
      "execution_count": 20,
      "outputs": [
        {
          "output_type": "stream",
          "name": "stdout",
          "text": [
            "<Element html at 0x7bfc5e4e9fe0>\n",
            "['\\n\\t\\tAlert \\n\\t\\t\\n\\t']\n"
          ]
        }
      ]
    },
    {
      "cell_type": "markdown",
      "source": [
        "\n",
        "# 실습 시나리오"
      ],
      "metadata": {
        "id": "Bu6OMZyGirOq"
      }
    },
    {
      "cell_type": "markdown",
      "source": [
        "## 공공데이터 포털 가입 및 데이터 신청\n",
        "\n",
        "- [https://www.data.go.kr](https://www.data.go.kr)\n",
        "- 한국환경공단 에어코리아 대기오염정보 데이터 신청"
      ],
      "metadata": {
        "id": "nsuqRN9RkZlW"
      }
    },
    {
      "cell_type": "code",
      "source": [
        "import requests\n",
        "\n",
        "## 데이터 수집 url 및 api key 설정\n",
        "\n",
        "\n",
        "params = {\n",
        "    'serviceKey': api_key,\n",
        "    'returnType': 'json',\n",
        "    'numOfRows': '100',\n",
        "    'pageNo': '1',\n",
        "    'sidoName': '서울',\n",
        "    'ver': '1.0'\n",
        "}\n",
        "\n",
        "## 데이터 수집\n",
        "\n",
        "## 호출 성공/실패 출력\n",
        "\n"
      ],
      "metadata": {
        "id": "7yCozmQeXJcO"
      },
      "execution_count": null,
      "outputs": []
    },
    {
      "cell_type": "code",
      "source": [
        "import requests\n",
        "import json\n",
        "import time\n",
        "\n",
        "api_key = '발급받은키'\n",
        "years = [str(year) for year in range(2014, 2025)]\n",
        "months = [str(m+1).zfill(2) for m in range(12)]\n",
        "data_result = []\n",
        "\n",
        "# 년도, 월, 회원타입, 현년 전기사용량, 현년 가스사용량, 현년 수도사용량, 현년 지역난방 사용량\n",
        "columns = ['YEAR', 'MON', 'MM_TYPE', 'EUS', 'GUS', 'WUS', 'HUS']\n",
        "\n",
        "try:\n",
        "    ## URL 및 파라미터 전송\n",
        "\n",
        "    for year in years:\n",
        "        for month in months:\n",
        "            url = f'http://openapi.seoul.go.kr:8088/{api_key}/json/energyUseDataSummaryInfo/1/5/{year}/{month}'\n",
        "            response = requests.get(url)\n",
        "            response.raise_for_status() # 200 OK가 아니면 예외발생\n",
        "\n",
        "            ## JSON 데이터 읽기\n",
        "            data = response.json()\n",
        "            print(data)\n",
        "\n",
        "            # 개인 유형의 데이터만 data_result 에 저장하기\n",
        "            rows = data.get('energyUseDataSummaryInfo', {}).get('row', [])\n",
        "            get_type_personal = lambda r : r['MM_TYPE'] == '개인'\n",
        "            filtered_list = list(filter(get_type_personal, rows))\n",
        "\n",
        "            # 년도, 월, 회원타입, 현년 전기, 가스, 수도, 지역난방 컬럼만 저장하기\n",
        "            compact_list = [{col:row[col] for col in columns} for row in filtered_list]\n",
        "            data_result.extend(compact_list)\n",
        "            time.sleep(0.4)\n",
        "\n",
        "    # '개인'유형의 데이터 data_result를 json으로 저장하기\n",
        "    with open('data_result.json', mode='w') as json_file:\n",
        "        json.dump(data_result, json_file, indent=4, ensure_ascii=False)\n",
        "\n",
        "except requests.exceptions.RequestException as e:\n",
        "    print(f\"API 호출 실패: {e}\")\n",
        "except json.JSONDecodeError as e:\n",
        "    print(f\"JSON 파싱 실패: {e}\")"
      ],
      "metadata": {
        "id": "jvURBkaC3lJh",
        "outputId": "a318fa31-6472-4484-cfbb-25c28798acb2",
        "colab": {
          "base_uri": "https://localhost:8080/"
        }
      },
      "execution_count": 40,
      "outputs": [
        {
          "output_type": "stream",
          "name": "stdout",
          "text": []
        }
      ]
    },
    {
      "cell_type": "code",
      "source": [
        "import pandas as pd\n",
        "\n",
        "month_to_season = {\n",
        "    12: '겨울', 1: '겨울', 2: '겨울',\n",
        "    3: '봄', 4: '봄', 5: '봄',\n",
        "    6: '여름', 7: '여름', 8: '여름',\n",
        "    9: '가을', 10: '가을', 11: '가을'\n",
        "}\n",
        "\n",
        "## data_result.json 파일을 DataFrame으로 읽기\n",
        "df = pd.read_json('data_result.json', orient='records', encoding='utf-8', lines=False)\n",
        "season_data = df[\"MON\"].astype(int).map(month_to_season);\n",
        "df.insert(df.columns.get_loc('YEAR') + 1, 'SEASON', season_data)\n",
        "\n",
        "print(df)"
      ],
      "metadata": {
        "id": "vAFieMIdWfma",
        "outputId": "67ace221-a5da-45dc-ade0-6ad541909952",
        "colab": {
          "base_uri": "https://localhost:8080/"
        }
      },
      "execution_count": 19,
      "outputs": [
        {
          "output_type": "stream",
          "name": "stdout",
          "text": [
            "    YEAR SEASON  MON MM_TYPE        EUS         GUS           WUS  \\\n",
            "0   2014     겨울    1      개인  144900337  38335224.0  1.061396e+07   \n",
            "1   2014      봄    3      개인  135419507  32209021.0  1.106945e+07   \n",
            "2   2014     여름    7      개인  168681507   7318863.0  1.313594e+07   \n",
            "3   2014     여름    8      개인  187725750   6596679.0  1.403165e+07   \n",
            "4   2014     가을    9      개인  175409826   6969566.0  1.383068e+07   \n",
            "..   ...    ...  ...     ...        ...         ...           ...   \n",
            "85  2024     여름    8      개인  463971328   7072251.0  1.587354e+07   \n",
            "86  2024     가을    9      개인  409872908   5729131.0  1.514332e+07   \n",
            "87  2024     가을   10      개인  282268119   8233421.0  1.529767e+07   \n",
            "88  2024     가을   11      개인  257927956  17418221.0  1.467867e+07   \n",
            "89  2024     겨울   12      개인  134828126  42103424.0  7.326854e+06   \n",
            "\n",
            "             HUS  \n",
            "0   1.763254e+07  \n",
            "1   1.047034e+07  \n",
            "2   2.178534e+05  \n",
            "3   3.205539e+05  \n",
            "4   1.041888e+06  \n",
            "..           ...  \n",
            "85  1.300823e+05  \n",
            "86  3.420507e+06  \n",
            "87  2.695491e+06  \n",
            "88  8.836296e+06  \n",
            "89  1.513199e+06  \n",
            "\n",
            "[90 rows x 8 columns]\n"
          ]
        }
      ]
    },
    {
      "cell_type": "code",
      "source": [
        "import pandas as pd\n",
        "\n",
        "## data_result.json 파일을 DataFrame으로 읽기\n",
        "df = pd.read_json('data_result.json', orient='records', encoding='utf-8', lines=False)\n",
        "print(df)"
      ],
      "metadata": {
        "id": "EqobjzT18-YO",
        "outputId": "bca50ca6-347c-42ed-bc8c-3d4eb0a527dd",
        "colab": {
          "base_uri": "https://localhost:8080/"
        }
      },
      "execution_count": 18,
      "outputs": [
        {
          "output_type": "stream",
          "name": "stdout",
          "text": [
            "    YEAR  MON MM_TYPE        EUS         GUS           WUS           HUS\n",
            "0   2014    1      개인  144900337  38335224.0  1.061396e+07  1.763254e+07\n",
            "1   2014    3      개인  135419507  32209021.0  1.106945e+07  1.047034e+07\n",
            "2   2014    7      개인  168681507   7318863.0  1.313594e+07  2.178534e+05\n",
            "3   2014    8      개인  187725750   6596679.0  1.403165e+07  3.205539e+05\n",
            "4   2014    9      개인  175409826   6969566.0  1.383068e+07  1.041888e+06\n",
            "..   ...  ...     ...        ...         ...           ...           ...\n",
            "85  2024    8      개인  463971328   7072251.0  1.587354e+07  1.300823e+05\n",
            "86  2024    9      개인  409872908   5729131.0  1.514332e+07  3.420507e+06\n",
            "87  2024   10      개인  282268119   8233421.0  1.529767e+07  2.695491e+06\n",
            "88  2024   11      개인  257927956  17418221.0  1.467867e+07  8.836296e+06\n",
            "89  2024   12      개인  134828126  42103424.0  7.326854e+06  1.513199e+06\n",
            "\n",
            "[90 rows x 7 columns]\n"
          ]
        }
      ]
    },
    {
      "cell_type": "code",
      "source": [
        "import json\n",
        "\n",
        "# json_str = '{\"energyUseDataSummaryInfo\": {\"list_total_count\": 7, \"RESULT\": {\"CODE\": \"INFO-000\", \"MESSAGE\": \"정상 처리되었습니다\"}, \"row\": [{\"YEAR\": \"2020\", \"MON\": \"12\", \"MM_TYPE\": \"공공기관\", \"CNT\": \"2319\", \"EUS\": \"134415822\", \"EUS1\": \"140830293\", \"EUS2\": \"143785616\", \"ECO2_1\": \"-7892132.5\", \"ECO2_2\": \"-3346264.18\", \"GUS\": \"3625280\", \"GUS1\": \"3938720\", \"GUS2\": \"4530840\", \"GCO2_1\": \"-609500\", \"GCO2_2\": \"-1365280\", \"WUS\": \"682469.6\", \"WUS1\": \"966115.2\", \"WUS2\": \"923345\", \"WCO2_1\": \"-262260.5\", \"WCO2_2\": \"-87070.486\", \"HUS\": \"0\", \"HUS1\": \"0\", \"HUS2\": \"0\", \"HCO2_1\": \"0\", \"HCO2_2\": \"0\", \"REG_DATE\": \"2021-03-11 18:31:32.0\"}, {\"YEAR\": \"2020\", \"MON\": \"12\", \"MM_TYPE\": \"기업\", \"CNT\": \"18259\", \"EUS\": \"567429666\", \"EUS1\": \"586794781\", \"EUS2\": \"593462122\", \"ECO2_1\": \"-22698785.5\", \"ECO2_2\": \"-9624285.052\", \"GUS\": \"24795758\", \"GUS1\": \"21567744\", \"GUS2\": \"26868220\", \"GCO2_1\": \"577776\", \"GCO2_2\": \"1294218.24\", \"WUS\": \"4056394.2\", \"WUS1\": \"4768906.8\", \"WUS2\": \"4628830\", \"WCO2_1\": \"-642474.2\", \"WCO2_2\": \"-213301.4344\", \"HUS\": \"0\", \"HUS1\": \"0\", \"HUS2\": \"0\", \"HCO2_1\": \"0\", \"HCO2_2\": \"0\", \"REG_DATE\": \"2021-03-11 18:31:32.0\"}, {\"YEAR\": \"2020\", \"MON\": \"12\", \"MM_TYPE\": \"소상공인\", \"CNT\": \"42743\", \"EUS\": \"82544954\", \"EUS1\": \"88007794\", \"EUS2\": \"87941049\", \"ECO2_1\": \"-5429467.5\", \"ECO2_2\": \"-2302094.22\", \"GUS\": \"2749449\", \"GUS1\": \"3195669\", \"GUS2\": \"3116983\", \"GCO2_1\": \"-406877\", \"GCO2_2\": \"-911404.48\", \"WUS\": \"1522971.8\", \"WUS1\": \"1710259.8\", \"WUS2\": \"1644036.2\", \"WCO2_1\": \"-154176.2\", \"WCO2_2\": \"-51186.4984\", \"HUS\": \"2679.61\", \"HUS1\": \"2096.78\", \"HUS2\": \"2244.49\", \"HCO2_1\": \"508.975\", \"HCO2_2\": \"-73.51022\", \"REG_DATE\": \"2021-03-11 18:31:32.0\"}, {\"YEAR\": \"2020\", \"MON\": \"12\", \"MM_TYPE\": \"학교\", \"CNT\": \"6457\", \"EUS\": \"148641247\", \"EUS1\": \"163043674\", \"EUS2\": \"158464391\", \"ECO2_1\": \"-12112785.5\", \"ECO2_2\": \"-5135821.052\", \"GUS\": \"6130182\", \"GUS1\": \"6712287\", \"GUS2\": \"6946755\", \"GCO2_1\": \"-699339\", \"GCO2_2\": \"-1566519.36\", \"WUS\": \"1849950.6\", \"WUS1\": \"2254096.6\", \"WUS2\": \"2179161.8\", \"WCO2_1\": \"-366678.6\", \"WCO2_2\": \"-121737.2952\", \"HUS\": \"26803.56\", \"HUS1\": \"21972.121\", \"HUS2\": \"24090.481\", \"HCO2_1\": \"3772.259\", \"HCO2_2\": \"6446.968818\", \"REG_DATE\": \"2021-03-11 18:31:32.0\"}, {\"YEAR\": \"2020\", \"MON\": \"12\", \"MM_TYPE\": \"개인\", \"CNT\": \"1110223\", \"EUS\": \"265370372\", \"EUS1\": \"250887378\", \"EUS2\": \"252983409\", \"ECO2_1\": \"13434978.5\", \"ECO2_2\": \"5696430.884\", \"GUS\": \"51095720\", \"GUS1\": \"50449214\", \"GUS2\": \"50298542\", \"GCO2_1\": \"721842\", \"GCO2_2\": \"1616926.08\", \"WUS\": \"15036546.3\", \"WUS1\": \"14479510.234\", \"WUS2\": \"14356727.09\", \"WCO2_1\": \"618427.638\", \"WCO2_2\": \"205317.975816\", \"HUS\": \"26512966.052\", \"HUS1\": \"23787438.214\", \"HUS2\": \"24469734.461\", \"HCO2_1\": \"2384379.7145\", \"HCO2_2\": \"4399125.3465152\", \"REG_DATE\": \"2021-03-11 18:31:32.0\"}]}}'\n",
        "json_str = '{\"energyUseDataSummaryInfo\": {\"list_total_count\": 0, \"RESULT\": {\"CODE\": \"INFO-000\", \"MESSAGE\": \"정상 처리되었습니다\"}, \"row\": []}}'\n",
        "data = json.loads(json_str)\n",
        "rows = data.get('energyUseDataSummaryInfo', {}).get('row', [])\n",
        "print(data)\n",
        "get_type_personal = lambda r : r['MM_TYPE'] == '개인'\n",
        "p_data = list(filter(get_type_personal, rows))\n",
        "print(p_data)"
      ],
      "metadata": {
        "id": "I-_q2XH-KC7Z",
        "outputId": "b2b7c4be-47d4-48cd-ba7f-12a55bb33f15",
        "colab": {
          "base_uri": "https://localhost:8080/"
        }
      },
      "execution_count": 36,
      "outputs": [
        {
          "output_type": "stream",
          "name": "stdout",
          "text": [
            "{'energyUseDataSummaryInfo': {'list_total_count': 0, 'RESULT': {'CODE': 'INFO-000', 'MESSAGE': '정상 처리되었습니다'}, 'row': []}}\n",
            "[]\n"
          ]
        }
      ]
    },
    {
      "cell_type": "code",
      "source": [
        "import json\n",
        "\n",
        "json_str = '{\"energyUseDataSummaryInfo\": {\"list_total_count\": 7, \"RESULT\": {\"CODE\": \"INFO-000\", \"MESSAGE\": \"정상 처리되었습니다\"}, \"row\": [{\"YEAR\": \"2020\", \"MON\": \"12\", \"MM_TYPE\": \"공공기관\", \"CNT\": \"2319\", \"EUS\": \"134415822\", \"EUS1\": \"140830293\", \"EUS2\": \"143785616\", \"ECO2_1\": \"-7892132.5\", \"ECO2_2\": \"-3346264.18\", \"GUS\": \"3625280\", \"GUS1\": \"3938720\", \"GUS2\": \"4530840\", \"GCO2_1\": \"-609500\", \"GCO2_2\": \"-1365280\", \"WUS\": \"682469.6\", \"WUS1\": \"966115.2\", \"WUS2\": \"923345\", \"WCO2_1\": \"-262260.5\", \"WCO2_2\": \"-87070.486\", \"HUS\": \"0\", \"HUS1\": \"0\", \"HUS2\": \"0\", \"HCO2_1\": \"0\", \"HCO2_2\": \"0\", \"REG_DATE\": \"2021-03-11 18:31:32.0\"}, {\"YEAR\": \"2020\", \"MON\": \"12\", \"MM_TYPE\": \"기업\", \"CNT\": \"18259\", \"EUS\": \"567429666\", \"EUS1\": \"586794781\", \"EUS2\": \"593462122\", \"ECO2_1\": \"-22698785.5\", \"ECO2_2\": \"-9624285.052\", \"GUS\": \"24795758\", \"GUS1\": \"21567744\", \"GUS2\": \"26868220\", \"GCO2_1\": \"577776\", \"GCO2_2\": \"1294218.24\", \"WUS\": \"4056394.2\", \"WUS1\": \"4768906.8\", \"WUS2\": \"4628830\", \"WCO2_1\": \"-642474.2\", \"WCO2_2\": \"-213301.4344\", \"HUS\": \"0\", \"HUS1\": \"0\", \"HUS2\": \"0\", \"HCO2_1\": \"0\", \"HCO2_2\": \"0\", \"REG_DATE\": \"2021-03-11 18:31:32.0\"}, {\"YEAR\": \"2020\", \"MON\": \"12\", \"MM_TYPE\": \"소상공인\", \"CNT\": \"42743\", \"EUS\": \"82544954\", \"EUS1\": \"88007794\", \"EUS2\": \"87941049\", \"ECO2_1\": \"-5429467.5\", \"ECO2_2\": \"-2302094.22\", \"GUS\": \"2749449\", \"GUS1\": \"3195669\", \"GUS2\": \"3116983\", \"GCO2_1\": \"-406877\", \"GCO2_2\": \"-911404.48\", \"WUS\": \"1522971.8\", \"WUS1\": \"1710259.8\", \"WUS2\": \"1644036.2\", \"WCO2_1\": \"-154176.2\", \"WCO2_2\": \"-51186.4984\", \"HUS\": \"2679.61\", \"HUS1\": \"2096.78\", \"HUS2\": \"2244.49\", \"HCO2_1\": \"508.975\", \"HCO2_2\": \"-73.51022\", \"REG_DATE\": \"2021-03-11 18:31:32.0\"}, {\"YEAR\": \"2020\", \"MON\": \"12\", \"MM_TYPE\": \"학교\", \"CNT\": \"6457\", \"EUS\": \"148641247\", \"EUS1\": \"163043674\", \"EUS2\": \"158464391\", \"ECO2_1\": \"-12112785.5\", \"ECO2_2\": \"-5135821.052\", \"GUS\": \"6130182\", \"GUS1\": \"6712287\", \"GUS2\": \"6946755\", \"GCO2_1\": \"-699339\", \"GCO2_2\": \"-1566519.36\", \"WUS\": \"1849950.6\", \"WUS1\": \"2254096.6\", \"WUS2\": \"2179161.8\", \"WCO2_1\": \"-366678.6\", \"WCO2_2\": \"-121737.2952\", \"HUS\": \"26803.56\", \"HUS1\": \"21972.121\", \"HUS2\": \"24090.481\", \"HCO2_1\": \"3772.259\", \"HCO2_2\": \"6446.968818\", \"REG_DATE\": \"2021-03-11 18:31:32.0\"}, {\"YEAR\": \"2020\", \"MON\": \"12\", \"MM_TYPE\": \"개인\", \"CNT\": \"1110223\", \"EUS\": \"265370372\", \"EUS1\": \"250887378\", \"EUS2\": \"252983409\", \"ECO2_1\": \"13434978.5\", \"ECO2_2\": \"5696430.884\", \"GUS\": \"51095720\", \"GUS1\": \"50449214\", \"GUS2\": \"50298542\", \"GCO2_1\": \"721842\", \"GCO2_2\": \"1616926.08\", \"WUS\": \"15036546.3\", \"WUS1\": \"14479510.234\", \"WUS2\": \"14356727.09\", \"WCO2_1\": \"618427.638\", \"WCO2_2\": \"205317.975816\", \"HUS\": \"26512966.052\", \"HUS1\": \"23787438.214\", \"HUS2\": \"24469734.461\", \"HCO2_1\": \"2384379.7145\", \"HCO2_2\": \"4399125.3465152\", \"REG_DATE\": \"2021-03-11 18:31:32.0\"}]}}'\n",
        "data = json.loads(json_str)\n",
        "rows = data.get('energyUseDataSummaryInfo', {}).get('row', [])\n",
        "get_type_personal = lambda r : r['MM_TYPE'] == '개인'\n",
        "data_personal_list = list(filter(get_type_personal, rows))\n",
        "with open('test.json', mode='w') as f:\n",
        "    f.write(f'{data_personal_list}')"
      ],
      "metadata": {
        "id": "zIsUyghhTNAE"
      },
      "execution_count": 8,
      "outputs": []
    },
    {
      "cell_type": "code",
      "source": [
        "\n",
        "with open('output_list.json') as f:\n",
        "    # print(f.read())\n",
        "    data = json.loads(f.read())\n",
        "    print(data)\n"
      ],
      "metadata": {
        "id": "t_FK6FCkVZxn",
        "outputId": "8f409553-7d46-4a69-f48b-bae1f70c838d",
        "colab": {
          "base_uri": "https://localhost:8080/"
        }
      },
      "execution_count": 45,
      "outputs": [
        {
          "output_type": "stream",
          "name": "stdout",
          "text": [
            "[{'YEAR': '2014', 'MON': '01', 'MM_TYPE': '개인', 'CNT': '588913', 'EUS': '144900337', 'EUS1': '153849915', 'EUS2': '154471878', 'ECO2_1': '-9260559.5', 'ECO2_2': '-3926477.228', 'GUS': '38335224', 'GUS1': '46025745', 'GUS2': '40119427', 'GCO2_1': '-4737362', 'GCO2_2': '-10611690.88', 'WUS': '10613959.838', 'WUS1': '10797333.482', 'WUS2': '10977425.534', 'WCO2_1': '-273419.67', 'WCO2_2': '-90775.33044', 'HUS': '17632536.939', 'HUS1': '21511575.468', 'HUS2': '20811744.389', 'HCO2_1': '-3529122.9895', 'HCO2_2': '-57576849.13704', 'REG_DATE': '2015-06-05 11:07:11.0'}, {'YEAR': '2014', 'MON': '03', 'MM_TYPE': '개인', 'CNT': '618339', 'EUS': '135419507', 'EUS1': '140170228', 'EUS2': '147399604', 'ECO2_1': '-8365409', 'ECO2_2': '-3546933.416', 'GUS': '32209021', 'GUS1': '37680931', 'GUS2': '40791287', 'GCO2_1': '-7027088', 'GCO2_2': '-15740677.12', 'WUS': '11069450.17', 'WUS1': '11085147.848', 'WUS2': '11416179.116', 'WCO2_1': '-181213.312', 'WCO2_2': '-60162.819584', 'HUS': '10470340.034', 'HUS1': '12582563.457', 'HUS2': '13307020.12', 'HCO2_1': '-2474451.7545', 'HCO2_2': '-32693984.159372', 'REG_DATE': '2015-06-05 10:15:59.0'}, {'YEAR': '2014', 'MON': '07', 'MM_TYPE': '개인', 'CNT': '694672', 'EUS': '168681507', 'EUS1': '175332947', 'EUS2': '175984997', 'ECO2_1': '-6977465', 'ECO2_2': '-2958445.16', 'GUS': '7318863', 'GUS1': '7977224', 'GUS2': '8290785', 'GCO2_1': '-815141.5', 'GCO2_2': '-1825916.96', 'WUS': '13135941.064', 'WUS1': '13433812.649', 'WUS2': '13537013.356', 'WCO2_1': '-349471.9385', 'WCO2_2': '-116024.683582', 'HUS': '217853.383', 'HUS1': '208889.265', 'HUS2': '207923.105', 'HCO2_1': '9447.198', 'HCO2_2': '-352245.275164', 'REG_DATE': '2015-06-04 17:40:11.0'}, {'YEAR': '2014', 'MON': '08', 'MM_TYPE': '개인', 'CNT': '710259', 'EUS': '187725750', 'EUS1': '213592554', 'EUS2': '225809794', 'ECO2_1': '-31975424', 'ECO2_2': '-13557579.776', 'GUS': '6596679', 'GUS1': '7500184', 'GUS2': '6999017', 'GCO2_1': '-652921.5', 'GCO2_2': '-1462544.16', 'WUS': '14031651.912', 'WUS1': '14370092.034', 'WUS2': '14664409.645', 'WCO2_1': '-485598.9275', 'WCO2_2': '-161218.84393', 'HUS': '320553.853', 'HUS1': '311295.792', 'HUS2': '310735.492', 'HCO2_1': '9538.211', 'HCO2_2': '83876.331252', 'REG_DATE': '2015-06-04 17:34:46.0'}, {'YEAR': '2014', 'MON': '09', 'MM_TYPE': '개인', 'CNT': '730048', 'EUS': '175409826', 'EUS1': '194632352', 'EUS2': '191472998', 'ECO2_1': '-17642849', 'ECO2_2': '-7480567.976', 'GUS': '6969566', 'GUS1': '6722044', 'GUS2': '7149684', 'GCO2_1': '33702', 'GCO2_2': '75492.48', 'WUS': '13830683.654', 'WUS1': '14219975.206', 'WUS2': '14251825.982', 'WCO2_1': '-405216.94', 'WCO2_2': '-134532.02408', 'HUS': '1041887.78', 'HUS1': '1081430.891', 'HUS2': '875657.261', 'HCO2_1': '63343.704', 'HCO2_2': '377096.902938', 'REG_DATE': '2015-06-04 17:29:04.0'}, {'YEAR': '2014', 'MON': '11', 'MM_TYPE': '개인', 'CNT': '752434', 'EUS': '173263842', 'EUS1': '179200817', 'EUS2': '185415503', 'ECO2_1': '-9044318', 'ECO2_2': '-3834790.832', 'GUS': '19773109', 'GUS1': '22728557', 'GUS2': '25479477', 'GCO2_1': '-4330908', 'GCO2_2': '-9701233.92', 'WUS': '13489886.752', 'WUS1': '14831659.42', 'WUS2': '14597242.71', 'WCO2_1': '-1224564.313', 'WCO2_2': '-406555.351916', 'HUS': '10420879.095', 'HUS1': '14458515.345', 'HUS2': '15624386.949', 'HCO2_1': '-4620572.052', 'HCO2_2': '-59533003.283216', 'REG_DATE': '2015-06-04 17:16:25.0'}, {'YEAR': '2014', 'MON': '12', 'MM_TYPE': '개인', 'CNT': '757685', 'EUS': '180540444', 'EUS1': '184122059', 'EUS2': '192074065', 'ECO2_1': '-7557618', 'ECO2_2': '-3204430.032', 'GUS': '39598422', 'GUS1': '44869546', 'GUS2': '49206229', 'GCO2_1': '-7439465.5', 'GCO2_2': '-16664402.72', 'WUS': '13028824.456', 'WUS1': '13248706.986', 'WUS2': '13526814.348', 'WCO2_1': '-358936.211', 'WCO2_2': '-119166.822052', 'HUS': '24632751.988', 'HUS1': '24764739.226', 'HUS2': '28665109.882', 'HCO2_1': '-2082172.566', 'HCO2_2': '3267916.606842', 'REG_DATE': '2015-06-04 17:08:56.0'}, {'YEAR': '2015', 'MON': '01', 'MM_TYPE': '개인', 'CNT': '767791', 'EUS': '193784708', 'EUS1': '194781915', 'EUS2': '204969429', 'ECO2_1': '-6090964', 'ECO2_2': '-2582568.736', 'GUS': '59133720', 'GUS1': '57163993', 'GUS2': '68297619', 'GCO2_1': '-3597086', 'GCO2_2': '-8057472.64', 'WUS': '12819757.886', 'WUS1': '12723680.426', 'WUS2': '12899476.73', 'WCO2_1': '8179.308', 'WCO2_2': '2715.530256', 'HUS': '22740838.937', 'HUS1': '23400055.303', 'HUS2': '27090493.875', 'HCO2_1': '-2504435.652', 'HCO2_2': '-33660084.213069', 'REG_DATE': '2015-06-04 17:03:55.0'}, {'YEAR': '2015', 'MON': '02', 'MM_TYPE': '개인', 'CNT': '774620', 'EUS': '189974230', 'EUS1': '193611430', 'EUS2': '200055533', 'ECO2_1': '-6859251.5', 'ECO2_2': '-2908322.636', 'GUS': '56487358', 'GUS1': '59353536', 'GUS2': '66191173', 'GCO2_1': '-6284996.5', 'GCO2_2': '-14078392.16', 'WUS': '12656888.218', 'WUS1': '12713146.172', 'WUS2': '12948410.081', 'WCO2_1': '-173889.9085', 'WCO2_2': '-57731.449622', 'HUS': '18793320.213', 'HUS1': '19032221.757', 'HUS2': '21414367.325', 'HCO2_1': '-1429974.328', 'HCO2_2': '-17311712.76832', 'REG_DATE': '2015-06-04 16:59:30.0'}, {'YEAR': '2015', 'MON': '05', 'MM_TYPE': '개인', 'CNT': '810422', 'EUS': '177289769', 'EUS1': '181972266', 'EUS2': '188230004', 'ECO2_1': '-7811366', 'ECO2_2': '-3312019.184', 'GUS': '22060892', 'GUS1': '21196763', 'GUS2': '30633727', 'GCO2_1': '-3854353', 'GCO2_2': '-8633750.72', 'WUS': '13086734.214', 'WUS1': '13214349.918', 'WUS2': '13186433.49', 'WCO2_1': '-113657.49', 'WCO2_2': '-37734.28668', 'HUS': '1320895.801', 'HUS1': '1558697.648', 'HUS2': '1709192.194', 'HCO2_1': '-313049.12', 'HCO2_2': '-5190153.166471', 'REG_DATE': '2015-08-05 04:00:01.0'}, {'YEAR': '2015', 'MON': '06', 'MM_TYPE': '개인', 'CNT': '813731', 'EUS': '186073153', 'EUS1': '191414452', 'EUS2': '196523474', 'ECO2_1': '-7895810', 'ECO2_2': '-3347823.44', 'GUS': '12677645', 'GUS1': '12887123', 'GUS2': '15272558', 'GCO2_1': '-1402195.5', 'GCO2_2': '-3140917.92', 'WUS': '14241651.402', 'WUS1': '14231573.864', 'WUS2': '14196573.165', 'WCO2_1': '27577.8875', 'WCO2_2': '9155.85865', 'HUS': '294312.634', 'HUS1': '301215.894', 'HUS2': '295514.063', 'HCO2_1': '-4052.3445', 'HCO2_2': '-90158.752204', 'REG_DATE': '2015-09-05 04:00:01.0'}, {'YEAR': '2015', 'MON': '07', 'MM_TYPE': '개인', 'CNT': '823337', 'EUS': '165114568', 'EUS1': '171057688', 'EUS2': '176733530', 'ECO2_1': '-8781041', 'ECO2_2': '-3723161.384', 'GUS': '8893640', 'GUS1': '8706784', 'GUS2': '9439834', 'GCO2_1': '-179669', 'GCO2_2': '-402458.56', 'WUS': '12083879.038', 'WUS1': '12158770.739', 'WUS2': '12451976.253', 'WCO2_1': '-221494.458', 'WCO2_2': '-73536.160056', 'HUS': '702863.645', 'HUS1': '227748.982', 'HUS2': '218148.985', 'HCO2_1': '479914.6615', 'HCO2_2': '-29858.537272', 'REG_DATE': '2015-10-05 04:00:00.0'}, {'YEAR': '2015', 'MON': '08', 'MM_TYPE': '개인', 'CNT': '831008', 'EUS': '242000479', 'EUS1': '225295114', 'EUS2': '251665825', 'ECO2_1': '3520009.5', 'ECO2_2': '1492484.028', 'GUS': '7619018', 'GUS1': '7818701', 'GUS2': '8690426', 'GCO2_1': '-635545.5', 'GCO2_2': '-1423621.92', 'WUS': '15164553.742', 'WUS1': '15186771.742', 'WUS2': '15162726.462', 'WCO2_1': '-10195.36', 'WCO2_2': '-3384.85952', 'HUS': '460288.965', 'HUS1': '446810.165', 'HUS2': '439663.894', 'HCO2_1': '17051.9355', 'HCO2_2': '-57105.653404', 'REG_DATE': '2015-11-05 04:00:00.0'}, {'YEAR': '2015', 'MON': '10', 'MM_TYPE': '개인', 'CNT': '838855', 'EUS': '186473958', 'EUS1': '190857499', 'EUS2': '196312194', 'ECO2_1': '-7110888.5', 'ECO2_2': '-3015016.724', 'GUS': '8924018', 'GUS1': '9776852', 'GUS2': '9992178', 'GCO2_1': '-960497', 'GCO2_2': '-2151513.28', 'WUS': '14711828.766', 'WUS1': '14806253.041', 'WUS2': '15009957.053', 'WCO2_1': '-196276.281', 'WCO2_2': '-65163.725292', 'HUS': '3167520.127', 'HUS1': '3791530.042', 'HUS2': '3875736.209', 'HCO2_1': '-666112.9985', 'HCO2_2': '-13312269.687023', 'REG_DATE': '2016-01-08 12:42:17.0'}, {'YEAR': '2015', 'MON': '12', 'MM_TYPE': '개인', 'CNT': '852483', 'EUS': '203388142', 'EUS1': '209110435', 'EUS2': '210601335', 'ECO2_1': '-6467743', 'ECO2_2': '-2742323.032', 'GUS': '40095231', 'GUS1': '44067763', 'GUS2': '47222920', 'GCO2_1': '-5550110.5', 'GCO2_2': '-12432247.52', 'WUS': '13904162.958', 'WUS1': '13901292.844', 'WUS2': '13985482.345', 'WCO2_1': '-39224.6365', 'WCO2_2': '-13022.579318', 'HUS': '21102616.717', 'HUS1': '26420971.573', 'HUS2': '24676994.275', 'HCO2_1': '-4446366.207', 'HCO2_2': '-59658969.202058', 'REG_DATE': '2016-03-05 04:00:01.0'}, {'YEAR': '2016', 'MON': '01', 'MM_TYPE': '개인', 'CNT': '857740', 'EUS': '215330620', 'EUS1': '220880188', 'EUS2': '221266918', 'ECO2_1': '-5742933', 'ECO2_2': '-2435003.592', 'GUS': '57641741', 'GUS1': '65629232', 'GUS2': '63229675', 'GCO2_1': '-6787712.5', 'GCO2_2': '-15204476', 'WUS': '13218916.436', 'WUS1': '13388912.024', 'WUS2': '13279661.366', 'WCO2_1': '-115370.259', 'WCO2_2': '-38302.925988', 'HUS': '27186166.133', 'HUS1': '24793339.24', 'HUS2': '24821149.292', 'HCO2_1': '2378921.867', 'HCO2_2': '27458969.182215', 'REG_DATE': '2016-04-05 04:00:01.0'}, {'YEAR': '2016', 'MON': '02', 'MM_TYPE': '개인', 'CNT': '861920', 'EUS': '216677664', 'EUS1': '215579912', 'EUS2': '218738693', 'ECO2_1': '-481638.5', 'ECO2_2': '-204214.724', 'GUS': '68879796', 'GUS1': '62885832', 'GUS2': '65477629', 'GCO2_1': '4698065.5', 'GCO2_2': '10523666.72', 'WUS': '13312113.622', 'WUS1': '13318104.692', 'WUS2': '13344572.552', 'WCO2_1': '-19225', 'WCO2_2': '-6382.7', 'HUS': '21452994.715', 'HUS1': '20405662.46', 'HUS2': '20322956.325', 'HCO2_1': '1088685.3225', 'HCO2_2': '16036998.03812', 'REG_DATE': '2016-05-05 04:00:01.0'}, {'YEAR': '2016', 'MON': '03', 'MM_TYPE': '개인', 'CNT': '881235', 'EUS': '203451798', 'EUS1': '200479698', 'EUS2': '201978708', 'ECO2_1': '2222595', 'ECO2_2': '942380.28', 'GUS': '60019600', 'GUS1': '56324838', 'GUS2': '53579089', 'GCO2_1': '5067636.5', 'GCO2_2': '11351505.76', 'WUS': '13191615.499', 'WUS1': '13318966.175', 'WUS2': '13271899.478', 'WCO2_1': '-103817.3275', 'WCO2_2': '-34467.35273', 'HUS': '14070182.978', 'HUS1': '14895180.844', 'HUS2': '13536392.741', 'HCO2_1': '-145603.8145', 'HCO2_2': '-2725787.721523', 'REG_DATE': '2016-06-05 04:00:01.0'}, {'YEAR': '2016', 'MON': '04', 'MM_TYPE': '개인', 'CNT': '884738', 'EUS': '202541336', 'EUS1': '206685781', 'EUS2': '208641867', 'ECO2_1': '-5122488', 'ECO2_2': '-2171934.912', 'GUS': '40370608', 'GUS1': '41594576', 'GUS2': '38131522', 'GCO2_1': '507559', 'GCO2_2': '1136932.16', 'WUS': '13748935.736', 'WUS1': '13587526.866', 'WUS2': '13626641.644', 'WCO2_1': '141851.481', 'WCO2_2': '47094.691692', 'HUS': '4556396.936', 'HUS1': '5865233.355', 'HUS2': '5046601.924', 'HCO2_1': '-899520.7035', 'HCO2_2': '-15228261.863086', 'REG_DATE': '2016-07-05 04:00:01.0'}, {'YEAR': '2016', 'MON': '05', 'MM_TYPE': '개인', 'CNT': '889960', 'EUS': '195448592', 'EUS1': '198014328', 'EUS2': '202075529', 'ECO2_1': '-4596336.5', 'ECO2_2': '-1948846.676', 'GUS': '23077064', 'GUS1': '24514071', 'GUS2': '23265211', 'GCO2_1': '-812577', 'GCO2_2': '-1820172.48', 'WUS': '13762618.524', 'WUS1': '13746109.158', 'WUS2': '13815858.434', 'WCO2_1': '-18365.272', 'WCO2_2': '-6097.270304', 'HUS': '1166907.615', 'HUS1': '1274652.297', 'HUS2': '1388626.945', 'HCO2_1': '-164732.006', 'HCO2_2': '-2134262.617971', 'REG_DATE': '2016-08-05 04:00:01.0'}, {'YEAR': '2016', 'MON': '06', 'MM_TYPE': '개인', 'CNT': '895356', 'EUS': '205061790', 'EUS1': '207493964', 'EUS2': '212520460', 'ECO2_1': '-4945422', 'ECO2_2': '-2096858.928', 'GUS': '13344932', 'GUS1': '13903094', 'GUS2': '14045133', 'GCO2_1': '-629181.5', 'GCO2_2': '-1409366.56', 'WUS': '14543461.284', 'WUS1': '14951755.668', 'WUS2': '14933011.49', 'WCO2_1': '-398922.295', 'WCO2_2': '-132442.20194', 'HUS': '340601.066', 'HUS1': '346920.482', 'HUS2': '351642.532', 'HCO2_1': '-8680.441', 'HCO2_2': '-134539.689194', 'REG_DATE': '2016-09-05 04:00:01.0'}, {'YEAR': '2016', 'MON': '09', 'MM_TYPE': '개인', 'CNT': '912883', 'EUS': '241676328', 'EUS1': '223335467', 'EUS2': '221958001', 'ECO2_1': '19029594', 'ECO2_2': '8068547.856', 'GUS': '7030657', 'GUS1': '7600026', 'GUS2': '8375553', 'GCO2_1': '-957132.5', 'GCO2_2': '-2143976.8', 'WUS': '15233262.266', 'WUS1': '15304192.837', 'WUS2': '15364873.664', 'WCO2_1': '-101270.9845', 'WCO2_2': '-33621.966854', 'HUS': '2597269.386', 'HUS1': '2606458.435', 'HUS2': '2610559.822', 'HCO2_1': '-11239.7425', 'HCO2_2': '-675600.52681', 'REG_DATE': '2016-12-05 04:00:00.0'}, {'YEAR': '2016', 'MON': '10', 'MM_TYPE': '개인', 'CNT': '915645', 'EUS': '197827666', 'EUS1': '199976386', 'EUS2': '203973086', 'ECO2_1': '-4147070', 'ECO2_2': '-1758357.68', 'GUS': '10129547', 'GUS1': '10397969', 'GUS2': '11291889', 'GCO2_1': '-715382', 'GCO2_2': '-1602455.68', 'WUS': '15173666.268', 'WUS1': '15247524.754', 'WUS2': '15378130.238', 'WCO2_1': '-139161.228', 'WCO2_2': '-46201.527696', 'HUS': '2142328.405', 'HUS1': '2089346.702', 'HUS2': '2451332.451', 'HCO2_1': '-128011.1715', 'HCO2_2': '-1468922.340108', 'REG_DATE': '2017-01-05 04:00:00.0'}, {'YEAR': '2016', 'MON': '11', 'MM_TYPE': '개인', 'CNT': '920150', 'EUS': '204812090', 'EUS1': '208974226', 'EUS2': '211739090', 'ECO2_1': '-5544568', 'ECO2_2': '-2350896.832', 'GUS': '23915383', 'GUS1': '21492950', 'GUS2': '23070086', 'GCO2_1': '1633865', 'GCO2_2': '3659857.6', 'WUS': '7215169', 'WUS1': '7231583', 'WUS2': '7262438', 'WCO2_1': '-31841.5', 'WCO2_2': '-10571.378', 'HUS': '10865402.481', 'HUS1': '9629930.997', 'HUS2': '9797602.314', 'HCO2_1': '1151635.8255', 'HCO2_2': '35905988.439686', 'REG_DATE': '2017-02-05 04:00:00.0'}, {'YEAR': '2017', 'MON': '01', 'MM_TYPE': '개인', 'CNT': '918254', 'EUS': '222980440', 'EUS1': '227796920', 'EUS2': '232791286', 'ECO2_1': '-7313663', 'ECO2_2': '-3100993.112', 'GUS': '61781772', 'GUS1': '60974441', 'GUS2': '69190410', 'GCO2_1': '-3300653.5', 'GCO2_2': '-7393463.84', 'WUS': '14077034.016', 'WUS1': '13909557.076', 'WUS2': '14049392.286', 'WCO2_1': '97559.335', 'WCO2_2': '32389.69922', 'HUS': '20567265.356', 'HUS1': '22587582.144', 'HUS2': '20891455.786', 'HCO2_1': '-1172253.609', 'HCO2_2': '-31118208.536988', 'REG_DATE': '2017-04-05 04:00:00.0'}, {'YEAR': '2017', 'MON': '02', 'MM_TYPE': '개인', 'CNT': '924306', 'EUS': '226181991', 'EUS1': '233176096', 'EUS2': '231676684', 'ECO2_1': '-6244399', 'ECO2_2': '-2647625.176', 'GUS': '73537514', 'GUS1': '73012527', 'GUS2': '66750065', 'GCO2_1': '3656218', 'GCO2_2': '8189928.32', 'WUS': '13724166.552', 'WUS1': '14061659.98', 'WUS2': '14018102.708', 'WCO2_1': '-315714.792', 'WCO2_2': '-104817.310944', 'HUS': '17733782.246', 'HUS1': '17836850.544', 'HUS2': '16959646.954', 'HCO2_1': '335533.497', 'HCO2_2': '15742149.426704', 'REG_DATE': '2017-05-05 04:00:01.0'}, {'YEAR': '2017', 'MON': '03', 'MM_TYPE': '개인', 'CNT': '958625', 'EUS': '208386870', 'EUS1': '219405114', 'EUS2': '215703112', 'ECO2_1': '-9167221', 'ECO2_2': '-3886901.704', 'GUS': '64297007', 'GUS1': '65379965', 'GUS2': '61175387', 'GCO2_1': '1019331', 'GCO2_2': '2283301.44', 'WUS': '13598081.92', 'WUS1': '13989474.8', 'WUS2': '14023836.002', 'WCO2_1': '-408573.481', 'WCO2_2': '-135646.395692', 'HUS': '11477962.549', 'HUS1': '11503057.152', 'HUS2': '12214905.408', 'HCO2_1': '-381018.731', 'HCO2_2': '-15396981.736036', 'REG_DATE': '2017-06-05 04:00:01.0'}, {'YEAR': '2017', 'MON': '05', 'MM_TYPE': '개인', 'CNT': '967285', 'EUS': '209894672', 'EUS1': '214563512', 'EUS2': '216766714', 'ECO2_1': '-5770441', 'ECO2_2': '-2446666.984', 'GUS': '25103152', 'GUS1': '25081443', 'GUS2': '26502382', 'GCO2_1': '-688760.5', 'GCO2_2': '-1542823.52', 'WUS': '12950202.184', 'WUS1': '13113270.692', 'WUS2': '13081233.919', 'WCO2_1': '-147050.1215', 'WCO2_2': '-48820.640338', 'HUS': '19809726.81', 'HUS1': '14984500.122', 'HUS2': '15024074.936', 'HCO2_1': '4805439.281', 'HCO2_2': '18340444.873452', 'REG_DATE': '2017-08-05 04:00:00.0'}, {'YEAR': '2017', 'MON': '08', 'MM_TYPE': '개인', 'CNT': '975391', 'EUS': '297850172', 'EUS1': '324385204', 'EUS2': '283086018', 'ECO2_1': '-5885439', 'ECO2_2': '-2495426.136', 'GUS': '8429188', 'GUS1': '8918277', 'GUS2': '8676384', 'GCO2_1': '-368142.5', 'GCO2_2': '-824639.2', 'WUS': '14291829.084', 'WUS1': '14725904.834', 'WUS2': '14824069.538', 'WCO2_1': '-483158.102', 'WCO2_2': '-160408.489864', 'HUS': '118927.011', 'HUS1': '108214.892', 'HUS2': '107300.593', 'HCO2_1': '11169.2685', 'HCO2_2': '58493.743322', 'REG_DATE': '2017-11-05 04:00:01.0'}, {'YEAR': '2017', 'MON': '09', 'MM_TYPE': '개인', 'CNT': '985602', 'EUS': '232360099', 'EUS1': '261498568', 'EUS2': '241265581', 'ECO2_1': '-19021975.5', 'ECO2_2': '-8065317.612', 'GUS': '8981707', 'GUS1': '7639941', 'GUS2': '8159552', 'GCO2_1': '1081960.5', 'GCO2_2': '2423591.52', 'WUS': '13842675.562', 'WUS1': '14377161.554', 'WUS2': '14416932.395', 'WCO2_1': '-554371.4125', 'WCO2_2': '-184051.30895', 'HUS': '1279967.753', 'HUS1': '1210997.195', 'HUS2': '1212748.063', 'HCO2_1': '68095.124', 'HCO2_2': '15245.907238', 'REG_DATE': '2018-01-02 14:23:46.0'}, {'YEAR': '2017', 'MON': '10', 'MM_TYPE': '개인', 'CNT': '989252', 'EUS': '202205893', 'EUS1': '206887411', 'EUS2': '208217898', 'ECO2_1': '-5346761.5', 'ECO2_2': '-2267026.876', 'GUS': '11910453', 'GUS1': '10938212', 'GUS2': '11150034', 'GCO2_1': '866330', 'GCO2_2': '1940579.2', 'WUS': '13811362.596', 'WUS1': '14139340.822', 'WUS2': '14184756.275', 'WCO2_1': '-350685.9525', 'WCO2_2': '-116427.73623', 'HUS': '2177857.689', 'HUS1': '2091035.099', 'HUS2': '1983920.393', 'HCO2_1': '140379.943', 'HCO2_2': '13225629.244319', 'REG_DATE': '2018-01-19 12:25:18.0'}, {'YEAR': '2017', 'MON': '11', 'MM_TYPE': '개인', 'CNT': '983871', 'EUS': '215620132', 'EUS1': '219138316', 'EUS2': '222506770', 'ECO2_1': '-5195019.5', 'ECO2_2': '-2202688.268', 'GUS': '26041170', 'GUS1': '25744251', 'GUS2': '23092502', 'GCO2_1': '1622793.5', 'GCO2_2': '3635057.44', 'WUS': '13268391.686', 'WUS1': '13592998.908', 'WUS2': '13659553.198', 'WCO2_1': '-357884.367', 'WCO2_2': '-118817.609844', 'HUS': '12290667.843', 'HUS1': '11052282.257', 'HUS2': '9741854.047', 'HCO2_1': '1893599.691', 'HCO2_2': '49262020.946734', 'REG_DATE': '2018-03-29 15:52:23.0'}, {'YEAR': '2018', 'MON': '02', 'MM_TYPE': '개인', 'CNT': '990480', 'EUS': '243271752', 'EUS1': '238677058', 'EUS2': '244760427', 'ECO2_1': '1553009.5', 'ECO2_2': '658476.028', 'GUS': '88496947', 'GUS1': '80270682', 'GUS2': '79499002', 'GCO2_1': '8612105', 'GCO2_2': '19291115.2', 'WUS': '12905042.86', 'WUS1': '12921761.516', 'WUS2': '13129934.18', 'WCO2_1': '-120804.988', 'WCO2_2': '-40107.256016', 'HUS': '22671708.494', 'HUS1': '18321128.854', 'HUS2': '18209738.211', 'HCO2_1': '4406274.9615', 'HCO2_2': '-6634830.486596', 'REG_DATE': '2018-05-05 04:07:21.0'}, {'YEAR': '2018', 'MON': '03', 'MM_TYPE': '개인', 'CNT': '1002745', 'EUS': '219203768', 'EUS1': '218690413', 'EUS2': '229305227', 'ECO2_1': '-4794224', 'ECO2_2': '-2032750.976', 'GUS': '73426397', 'GUS1': '67463604', 'GUS2': '68285446', 'GCO2_1': '5551872', 'GCO2_2': '12436193.28', 'WUS': '12769174.532', 'WUS1': '12671481.372', 'WUS2': '12990768.46', 'WCO2_1': '-61950.384', 'WCO2_2': '-20567.527488', 'HUS': '10924939.951', 'HUS1': '11894129.83', 'HUS2': '11826133.769', 'HCO2_1': '-935191.8485', 'HCO2_2': '-45955195.960406', 'REG_DATE': '2018-06-05 04:07:27.0'}, {'YEAR': '2018', 'MON': '06', 'MM_TYPE': '개인', 'CNT': '1012049', 'EUS': '222820943', 'EUS1': '219970617', 'EUS2': '226235845', 'ECO2_1': '-282517', 'ECO2_2': '-119787.208', 'GUS': '17132065', 'GUS1': '14914742', 'GUS2': '14911739', 'GCO2_1': '2218824.5', 'GCO2_2': '4970166.88', 'WUS': '14051336.092', 'WUS1': '14223561.636', 'WUS2': '14395158.602', 'WCO2_1': '-258044.027', 'WCO2_2': '-85670.616964', 'HUS': '285820.628', 'HUS1': '264770.69', 'HUS2': '254958.984', 'HCO2_1': '25955.791', 'HCO2_2': '438555.695772', 'REG_DATE': '2018-09-05 04:12:41.0'}, {'YEAR': '2018', 'MON': '07', 'MM_TYPE': '개인', 'CNT': '1015817', 'EUS': '269705511', 'EUS1': '268654921', 'EUS2': '253929346', 'ECO2_1': '8413377.5', 'ECO2_2': '3567272.06', 'GUS': '11259835', 'GUS1': '10459935', 'GUS2': '10700969', 'GCO2_1': '679383', 'GCO2_2': '1521817.92', 'WUS': '14333667.052', 'WUS1': '14342189.492', 'WUS2': '14461286.288', 'WCO2_1': '-68070.838', 'WCO2_2': '-22599.518216', 'HUS': '25843523.832', 'HUS1': '25843775.235', 'HUS2': '25843069.813', 'HCO2_1': '101.308', 'HCO2_2': '-14467.161054', 'REG_DATE': '2018-10-05 15:53:57.0'}, {'YEAR': '2018', 'MON': '11', 'MM_TYPE': '개인', 'CNT': '1039054', 'EUS': '227294230', 'EUS1': '227940432', 'EUS2': '230702110', 'ECO2_1': '-2027041', 'ECO2_2': '-859465.384', 'GUS': '31239511', 'GUS1': '26938900', 'GUS2': '26569341', 'GCO2_1': '4485390.5', 'GCO2_2': '10047274.72', 'WUS': '13706690.088', 'WUS1': '13977007.566', 'WUS2': '14288037.79', 'WCO2_1': '-425832.59', 'WCO2_2': '-141376.41988', 'HUS': '10276290.855', 'HUS1': '12468010.884', 'HUS2': '11286858.09', 'HCO2_1': '-1601143.632', 'HCO2_2': '-48081275.574947', 'REG_DATE': '2019-02-05 04:08:43.0'}, {'YEAR': '2018', 'MON': '12', 'MM_TYPE': '개인', 'CNT': '1042054', 'EUS': '238692561', 'EUS1': '243392909', 'EUS2': '240054368', 'ECO2_1': '-3031077.5', 'ECO2_2': '-1285176.86', 'GUS': '54019855', 'GUS1': '61404111', 'GUS2': '52595820', 'GCO2_1': '-2980110.5', 'GCO2_2': '-6675447.52', 'WUS': '13732488.456', 'WUS1': '14067979.802', 'WUS2': '14264951.557', 'WCO2_1': '-433977.2235', 'WCO2_2': '-144080.438202', 'HUS': '20421845.603', 'HUS1': '22903912.256', 'HUS2': '19130504.58', 'HCO2_1': '-595362.815', 'HCO2_2': '-50186960.831531', 'REG_DATE': '2019-03-05 04:09:03.0'}, {'YEAR': '2019', 'MON': '01', 'MM_TYPE': '개인', 'CNT': '1040792', 'EUS': '253600219', 'EUS1': '257767360', 'EUS2': '252135109', 'ECO2_1': '-1351015.5', 'ECO2_2': '-572830.572', 'GUS': '80308239', 'GUS1': '84677022', 'GUS2': '69516465', 'GCO2_1': '3211495.5', 'GCO2_2': '7193749.92', 'WUS': '13442971.1', 'WUS1': '13545016.372', 'WUS2': '14375707.908', 'WCO2_1': '-517391.04', 'WCO2_2': '-171773.82528', 'HUS': '21963093.848', 'HUS1': '25579585.458', 'HUS2': '22381832.882', 'HCO2_1': '-2017615.322', 'HCO2_2': '-146425852.370447', 'REG_DATE': '2019-04-05 04:08:55.0'}, {'YEAR': '2019', 'MON': '02', 'MM_TYPE': '개인', 'CNT': '1044255', 'EUS': '244927344', 'EUS1': '256537187', 'EUS2': '250715985', 'ECO2_1': '-8699159.5', 'ECO2_2': '-3688443.628', 'GUS': '81902188', 'GUS1': '90965513', 'GUS2': '82354084', 'GCO2_1': '-4757610.5', 'GCO2_2': '-10657047.52', 'WUS': '13495213.9', 'WUS1': '13932600.218', 'WUS2': '13695964.506', 'WCO2_1': '-319068.462', 'WCO2_2': '-105930.729384', 'HUS': '106134923.132', 'HUS1': '28710647.855', 'HUS2': '24011918.795', 'HCO2_1': '79773639.807', 'HCO2_2': '-71427110.705588', 'REG_DATE': '2019-05-01 04:09:55.0'}, {'YEAR': '2019', 'MON': '03', 'MM_TYPE': '개인', 'CNT': '1051962', 'EUS': '223736787', 'EUS1': '228041840', 'EUS2': '226617384', 'ECO2_1': '-3591744', 'ECO2_2': '-1522899.456', 'GUS': '65146586.443', 'GUS1': '74821514', 'GUS2': '68629078', 'GCO2_1': '-6578709.557', 'GCO2_2': '-14736309.40768', 'WUS': '13167550', 'WUS1': '13326198.14', 'WUS2': '13195516.98', 'WCO2_1': '-93307.56', 'WCO2_2': '-30978.10992', 'HUS': '13194262.09', 'HUS1': '13441963.218', 'HUS2': '14236321.468', 'HCO2_1': '-644880.253', 'HCO2_2': '-122344613.97751', 'REG_DATE': '2019-06-04 04:09:26.0'}, {'YEAR': '2019', 'MON': '04', 'MM_TYPE': '개인', 'CNT': '1056433', 'EUS': '232166121', 'EUS1': '233036158', 'EUS2': '233385808', 'ECO2_1': '-1044862', 'ECO2_2': '-443021.488', 'GUS': '49391508', 'GUS1': '47130876', 'GUS2': '47698355', 'GCO2_1': '1976892.5', 'GCO2_2': '4428239.2', 'WUS': '13753270.8', 'WUS1': '13901823.402', 'WUS2': '13854269.154', 'WCO2_1': '-124775.478', 'WCO2_2': '-41425.458696', 'HUS': '7858587.747', 'HUS1': '6330556.967', 'HUS2': '5898717.607', 'HCO2_1': '1743950.46', 'HCO2_2': '277634216.822492', 'REG_DATE': '2019-07-01 04:09:25.0'}, {'YEAR': '2019', 'MON': '06', 'MM_TYPE': '개인', 'CNT': '1061195', 'EUS': '226119779', 'EUS1': '232452817', 'EUS2': '228752458', 'ECO2_1': '-4482858.5', 'ECO2_2': '-1900732.004', 'GUS': '15771701', 'GUS1': '17324679', 'GUS2': '15080238', 'GCO2_1': '-430757.5', 'GCO2_2': '-964896.8', 'WUS': '14223536.4', 'WUS1': '14573838.992', 'WUS2': '14709485.924', 'WCO2_1': '-418126.058', 'WCO2_2': '-138817.851256', 'HUS': '331690.945', 'HUS1': '335728.022', 'HUS2': '314693.202', 'HCO2_1': '6480.333', 'HCO2_2': '644563.435406', 'REG_DATE': '2019-09-01 04:09:05.0'}, {'YEAR': '2019', 'MON': '07', 'MM_TYPE': '개인', 'CNT': '1061602', 'EUS': '257854441', 'EUS1': '280627906', 'EUS2': '278651568', 'ECO2_1': '-21785296', 'ECO2_2': '-9236965.504', 'GUS': '10700835', 'GUS1': '11364410', 'GUS2': '10530116', 'GCO2_1': '-246428', 'GCO2_2': '-551998.72', 'WUS': '14451345.9', 'WUS1': '14822249.718', 'WUS2': '14771777.106', 'WCO2_1': '-345667.512', 'WCO2_2': '-114761.613984', 'HUS': '968957.161', 'HUS1': '962569.15', 'HUS2': '963408.79', 'HCO2_1': '5968.191', 'HCO2_2': '-111237.919708', 'REG_DATE': '2019-10-01 04:09:57.0'}, {'YEAR': '2019', 'MON': '10', 'MM_TYPE': '개인', 'CNT': '1076855', 'EUS': '228095713', 'EUS1': '225939305', 'EUS2': '225104127', 'ECO2_1': '2573997', 'ECO2_2': '1091374.728', 'GUS': '11876816', 'GUS1': '14120932', 'GUS2': '12289003', 'GCO2_1': '-1328151.5', 'GCO2_2': '-2975059.36', 'WUS': '14804362.3', 'WUS1': '15240481.046', 'WUS2': '15078243.121', 'WCO2_1': '-354999.7835', 'WCO2_2': '-117859.928122', 'HUS': '2590192.143', 'HUS1': '4157417.598', 'HUS2': '3971074.315', 'HCO2_1': '-1474053.8135', 'HCO2_2': '-1551273.21514142', 'REG_DATE': '2019-12-30 14:55:31.0'}, {'YEAR': '2019', 'MON': '11', 'MM_TYPE': '개인', 'CNT': '1079209', 'EUS': '231283724', 'EUS1': '235682963', 'EUS2': '235499106', 'ECO2_1': '-4307310.5', 'ECO2_2': '-1826299.652', 'GUS': '24835894', 'GUS1': '31262168', 'GUS2': '26953110', 'GCO2_1': '-4271745', 'GCO2_2': '-9568708.8', 'WUS': '14123043.9', 'WUS1': '14136442.33', 'WUS2': '14389775.934', 'WCO2_1': '-140065.232', 'WCO2_2': '-46501.657024', 'HUS': '14983364.884', 'HUS1': '12623455.054', 'HUS2': '14949105.406', 'HCO2_1': '1197084.654', 'HCO2_2': '700606.0926388', 'REG_DATE': '2020-02-01 04:10:26.0'}, {'YEAR': '2019', 'MON': '12', 'MM_TYPE': '개인', 'CNT': '1081734', 'EUS': '244976724', 'EUS1': '247816014', 'EUS2': '251797783', 'ECO2_1': '-4830174.5', 'ECO2_2': '-2047993.988', 'GUS': '54509050', 'GUS1': '54394919', 'GUS2': '61557885', 'GCO2_1': '-3467352', 'GCO2_2': '-7766868.48', 'WUS': '14184785.2', 'WUS1': '14290701', 'WUS2': '14591459.26', 'WCO2_1': '-256294.93', 'WCO2_2': '-85089.91676', 'HUS': '23558262.283', 'HUS1': '24409943.098', 'HUS2': '27090069.62', 'HCO2_1': '-2191744.076', 'HCO2_2': '-218676.2229472', 'REG_DATE': '2020-03-01 04:11:00.0'}, {'YEAR': '2020', 'MON': '02', 'MM_TYPE': '개인', 'CNT': '1076552', 'EUS': '254879033', 'EUS1': '253509315', 'EUS2': '264160677', 'ECO2_1': '-3955963', 'ECO2_2': '-1677328.312', 'GUS': '76363768', 'GUS1': '81925985', 'GUS2': '90579789', 'GCO2_1': '-9889119', 'GCO2_2': '-22151626.56', 'WUS': '14052828.8', 'WUS1': '13955334.4', 'WUS2': '14353098.83', 'WCO2_1': '-101387.815', 'WCO2_2': '-33660.75458', 'HUS': '20848668.612', 'HUS1': '21519772.656', 'HUS2': '27453425.209', 'HCO2_1': '-3637930.3205', 'HCO2_2': '-2105455.1766796', 'REG_DATE': '2020-05-01 04:10:52.0'}, {'YEAR': '2020', 'MON': '03', 'MM_TYPE': '개인', 'CNT': '1083336', 'EUS': '244369714', 'EUS1': '227162127', 'EUS2': '230468451', 'ECO2_1': '15554425', 'ECO2_2': '6595076.2', 'GUS': '64367515', 'GUS1': '65450621.443', 'GUS2': '74768665', 'GCO2_1': '-5742128.2215', 'GCO2_2': '-12862367.21616', 'WUS': '13841531', 'WUS1': '13294080.9', 'WUS2': '13403181.166', 'WCO2_1': '492899.967', 'WCO2_2': '163642.789044', 'HUS': '14194450.151', 'HUS1': '13628181.388', 'HUS2': '13761059.062', 'HCO2_1': '499829.926', 'HCO2_2': '1697859.46058128', 'REG_DATE': '2020-06-01 04:10:16.0'}, {'YEAR': '2020', 'MON': '04', 'MM_TYPE': '개인', 'CNT': '1090113', 'EUS': '247831442', 'EUS1': '238950538', 'EUS2': '238954825', 'ECO2_1': '8878760.5', 'ECO2_2': '3764594.452', 'GUS': '48373693', 'GUS1': '49324246', 'GUS2': '47046759', 'GCO2_1': '188190.5', 'GCO2_2': '421546.72', 'WUS': '14618775.2', 'WUS1': '13970717.273', 'WUS2': '14081192.302', 'WCO2_1': '592820.4125', 'WCO2_2': '196816.37695', 'HUS': '8499792.566', 'HUS1': '7898645.72', 'HUS2': '6502190.637', 'HCO2_1': '1299374.3875', 'HCO2_2': '2311432.90608148', 'REG_DATE': '2020-07-01 04:11:18.0'}, {'YEAR': '2020', 'MON': '08', 'MM_TYPE': '개인', 'CNT': '1099077', 'EUS': '320723239', 'EUS1': '351477882', 'EUS2': '418126582', 'ECO2_1': '-64078993', 'ECO2_2': '-27169493.032', 'GUS': '10177428', 'GUS1': '8775311', 'GUS2': '8144044', 'GCO2_1': '1717750.5', 'GCO2_2': '3847761.12', 'WUS': '15600097.8', 'WUS1': '15415308.944', 'WUS2': '15739166.682', 'WCO2_1': '22859.987', 'WCO2_2': '7589.515684', 'HUS': '286814.663', 'HUS1': '279800.133', 'HUS2': '279604.453', 'HCO2_1': '7112.37', 'HCO2_2': '24275.680352', 'REG_DATE': '2020-11-01 04:10:32.0'}, {'YEAR': '2020', 'MON': '11', 'MM_TYPE': '개인', 'CNT': '1109468', 'EUS': '247308528', 'EUS1': '238193382', 'EUS2': '241811816', 'ECO2_1': '7305929', 'ECO2_2': '3097713.896', 'GUS': '30095679', 'GUS1': '24476616', 'GUS2': '30623542', 'GCO2_1': '2545600', 'GCO2_2': '5702144', 'WUS': '14835013.9', 'WUS1': '14516579.836', 'WUS2': '14485537.232', 'WCO2_1': '333955.366', 'WCO2_2': '110873.181512', 'HUS': '12882737.572', 'HUS1': '15248388.709', 'HUS2': '12769185.809', 'HCO2_1': '-1126049.687', 'HCO2_2': '145565.43401708', 'REG_DATE': '2021-02-01 04:11:01.0'}, {'YEAR': '2020', 'MON': '12', 'MM_TYPE': '개인', 'CNT': '1110223', 'EUS': '265370372', 'EUS1': '250887378', 'EUS2': '252983409', 'ECO2_1': '13434978.5', 'ECO2_2': '5696430.884', 'GUS': '51095720', 'GUS1': '50449214', 'GUS2': '50298542', 'GCO2_1': '721842', 'GCO2_2': '1616926.08', 'WUS': '15036546.3', 'WUS1': '14479510.234', 'WUS2': '14356727.09', 'WCO2_1': '618427.638', 'WCO2_2': '205317.975816', 'HUS': '26512966.052', 'HUS1': '23787438.214', 'HUS2': '24469734.461', 'HCO2_1': '2384379.7145', 'HCO2_2': '4399125.3465152', 'REG_DATE': '2021-03-11 18:31:32.0'}, {'YEAR': '2021', 'MON': '01', 'MM_TYPE': '개인', 'CNT': '1113178', 'EUS': '287882528', 'EUS1': '264806485', 'EUS2': '270232488', 'ECO2_1': '20363041.5', 'ECO2_2': '8633929.596', 'GUS': '80955422', 'GUS1': '70998816', 'GUS2': '76274905', 'GCO2_1': '7318561.5', 'GCO2_2': '16393577.76', 'WUS': '14273105.8', 'WUS1': '14027120.3', 'WUS2': '14248054.7', 'WCO2_1': '135518.3', 'WCO2_2': '44992.0756', 'HUS': '31069705.783', 'HUS1': '25137106.568', 'HUS2': '26742757.623', 'HCO2_1': '5129773.6875', 'HCO2_2': '7629466.27831044', 'REG_DATE': '2021-04-01 04:11:28.0'}, {'YEAR': '2021', 'MON': '02', 'MM_TYPE': '개인', 'CNT': '1117352', 'EUS': '271224712', 'EUS1': '263280345', 'EUS2': '261349157', 'ECO2_1': '8909961', 'ECO2_2': '3777823.464', 'GUS': '85581769', 'GUS1': '76743866', 'GUS2': '82104477', 'GCO2_1': '6157597.5', 'GCO2_2': '13793018.4', 'WUS': '13679936.9', 'WUS1': '13701215.6', 'WUS2': '13469455.1', 'WCO2_1': '94601.55', 'WCO2_2': '31407.7146', 'HUS': '22238103.26', 'HUS1': '21301407.506', 'HUS2': '21791450.888', 'HCO2_1': '691674.063', 'HCO2_2': '1816598.71978052', 'REG_DATE': '2021-06-17 18:48:19.0'}, {'YEAR': '2021', 'MON': '05', 'MM_TYPE': '개인', 'CNT': '1124559', 'EUS': '241741576', 'EUS1': '246564010', 'EUS2': '235743200', 'ECO2_1': '587971', 'ECO2_2': '249299.704', 'GUS': '24638403', 'GUS1': '28646370', 'GUS2': '27067231', 'GCO2_1': '-3218397.5', 'GCO2_2': '-7209210.4', 'WUS': '14312460.916', 'WUS1': '15239644.4', 'WUS2': '14347963.8', 'WCO2_1': '-481343.184', 'WCO2_2': '-159805.937088', 'HUS': '2246730.037', 'HUS1': '3873141.267', 'HUS2': '2646117.322', 'HCO2_1': '-1012899.2575', 'HCO2_2': '208971.1983182', 'REG_DATE': '2021-08-01 04:13:23.0'}, {'YEAR': '2021', 'MON': '06', 'MM_TYPE': '개인', 'CNT': '1137270', 'EUS': '254958704', 'EUS1': '265933652', 'EUS2': '243285026', 'ECO2_1': '349365', 'ECO2_2': '148130.76', 'GUS': '18898880', 'GUS1': '18319968', 'GUS2': '15974210', 'GCO2_1': '1751791', 'GCO2_2': '3924011.84', 'WUS': '15174790.6', 'WUS1': '15653137.151', 'WUS2': '15053619.251', 'WCO2_1': '-178587.601', 'WCO2_2': '-59291.083532', 'HUS': '396903.273', 'HUS1': '378660.038', 'HUS2': '343730.475', 'HCO2_1': '35708.0165', 'HCO2_2': '130684.65855512', 'REG_DATE': '2021-09-28 19:21:51.0'}, {'YEAR': '2021', 'MON': '07', 'MM_TYPE': '개인', 'CNT': '1140425', 'EUS': '334733756', 'EUS1': '278797841', 'EUS2': '275610640', 'ECO2_1': '57529515.5', 'ECO2_2': '24392514.572', 'GUS': '9631171', 'GUS1': '8984475', 'GUS2': '8878065', 'GCO2_1': '699901', 'GCO2_2': '1567778.24', 'WUS': '16619105.064', 'WUS1': '15705256.3', 'WUS2': '15417560.1', 'WCO2_1': '1057696.864', 'WCO2_2': '351155.358848', 'HUS': '5529269.058', 'HUS1': '5525959.167', 'HUS2': '5532850.477', 'HCO2_1': '-135.764', 'HCO2_2': '5154.177124', 'REG_DATE': '2021-10-01 17:14:23.0'}, {'YEAR': '2021', 'MON': '08', 'MM_TYPE': '개인', 'CNT': '1143697', 'EUS': '409719040', 'EUS1': '333743089', 'EUS2': '363926610', 'ECO2_1': '60884190.5', 'ECO2_2': '25814896.772', 'GUS': '10205066', 'GUS1': '10370453', 'GUS2': '8986574', 'GCO2_1': '526552.5', 'GCO2_2': '1179477.6', 'WUS': '15737994.8', 'WUS1': '16041707.014', 'WUS2': '15828909.588', 'WCO2_1': '-197313.501', 'WCO2_2': '-65508.082332', 'HUS': '127607.838', 'HUS1': '133071.51', 'HUS2': '131910.024', 'HCO2_1': '-4882.929', 'HCO2_2': '-18334.793044', 'REG_DATE': '2021-12-07 20:11:40.0'}, {'YEAR': '2021', 'MON': '09', 'MM_TYPE': '개인', 'CNT': '1149785', 'EUS': '290606638', 'EUS1': '324116422', 'EUS2': '296166856', 'ECO2_1': '-19535001', 'ECO2_2': '-8282840.424', 'GUS': '6602872', 'GUS1': '8045600', 'GUS2': '6719049', 'GCO2_1': '-779452.5', 'GCO2_2': '-1745973.6', 'WUS': '15497783.9', 'WUS1': '15787230.3', 'WUS2': '15273898', 'WCO2_1': '-32780.25', 'WCO2_2': '-10883.043', 'HUS': '159066.058', 'HUS1': '177542.858', 'HUS2': '162233.445', 'HCO2_1': '-10822.0935', 'HCO2_2': '-22376.03340912', 'REG_DATE': '2021-12-07 20:08:16.0'}, {'YEAR': '2021', 'MON': '10', 'MM_TYPE': '개인', 'CNT': '1152812', 'EUS': '253845816', 'EUS1': '249221128', 'EUS2': '243481160', 'ECO2_1': '7494672', 'ECO2_2': '3177740.928', 'GUS': '13840155', 'GUS1': '16448414', 'GUS2': '11779307', 'GCO2_1': '-273705.5', 'GCO2_2': '-613100.32', 'WUS': '15930639.8', 'WUS1': '16007012.1', 'WUS2': '15574417.8', 'WCO2_1': '139924.85', 'WCO2_2': '46455.0502', 'HUS': '4220985.501', 'HUS1': '4693391.95', 'HUS2': '3483404.77', 'HCO2_1': '132587.141', 'HCO2_2': '72162.37308088', 'REG_DATE': '2022-01-01 04:12:21.0'}, {'YEAR': '2021', 'MON': '11', 'MM_TYPE': '개인', 'CNT': '1155894', 'EUS': '255516339', 'EUS1': '257225547', 'EUS2': '247608680', 'ECO2_1': '3099225.5', 'ECO2_2': '1314071.612', 'GUS': '28571168', 'GUS1': '30413890', 'GUS2': '24775634', 'GCO2_1': '976406', 'GCO2_2': '2187149.44', 'WUS': '14975050.4', 'WUS1': '15233915.5', 'WUS2': '14872968.068', 'WCO2_1': '-78391.384', 'WCO2_2': '-26025.939488', 'HUS': '13463697.643', 'HUS1': '13217634.953', 'HUS2': '15510502.4', 'HCO2_1': '-900371.0335', 'HCO2_2': '-536406.65809452', 'REG_DATE': '2022-02-01 04:12:03.0'}, {'YEAR': '2021', 'MON': '12', 'MM_TYPE': '개인', 'CNT': '1157895', 'EUS': '265314948', 'EUS1': '275814184', 'EUS2': '260871005', 'ECO2_1': '-3027646.5', 'ECO2_2': '-1283722.116', 'GUS': '54651317', 'GUS1': '55526897', 'GUS2': '54320241', 'GCO2_1': '-272252', 'GCO2_2': '-609844.48', 'WUS': '14873728.5', 'WUS1': '15527675.6', 'WUS2': '14948982.968', 'WCO2_1': '-364600.784', 'WCO2_2': '-121047.460288', 'HUS': '25989752.285', 'HUS1': '27181846.534', 'HUS2': '24476138.811', 'HCO2_1': '160759.6125', 'HCO2_2': '939788.86566896', 'REG_DATE': '2022-03-07 11:04:31.0'}, {'YEAR': '2022', 'MON': '03', 'MM_TYPE': '개인', 'CNT': '1165693', 'EUS': '256771728', 'EUS1': '251731215', 'EUS2': '263808981', 'ECO2_1': '-998370', 'ECO2_2': '-423308.88', 'GUS': '75577723', 'GUS1': '67936878', 'GUS2': '65321081', 'GCO2_1': '8948743.5', 'GCO2_2': '20045185.44', 'WUS': '14181287.1', 'WUS1': '14876497.7', 'WUS2': '14991794.1', 'WCO2_1': '-752858.8', 'WCO2_2': '-249949.1216', 'HUS': '15843818.715', 'HUS1': '12963316.204', 'HUS2': '14555184.34', 'HCO2_1': '2084568.443', 'HCO2_2': '3202413.7055178', 'REG_DATE': '2022-06-01 04:12:33.0'}, {'YEAR': '2022', 'MON': '05', 'MM_TYPE': '개인', 'CNT': '1171653', 'EUS': '238866649', 'EUS1': '248860157', 'EUS2': '253071137', 'ECO2_1': '-12098998', 'ECO2_2': '-5129975.152', 'GUS': '28185559', 'GUS1': '29357965', 'GUS2': '33958681', 'GCO2_1': '-3472764', 'GCO2_2': '-7778991.36', 'WUS': '14344240.1', 'WUS1': '14657252', 'WUS2': '15581783.5', 'WCO2_1': '-775277.65', 'WCO2_2': '-257392.1798', 'HUS': '1457446.39', 'HUS1': '1881777.025', 'HUS2': '3622789.417', 'HCO2_1': '-1294836.831', 'HCO2_2': '-871597.06942572', 'REG_DATE': '2022-08-01 04:12:22.0'}, {'YEAR': '2022', 'MON': '06', 'MM_TYPE': '개인', 'CNT': '1171004', 'EUS': '254486733', 'EUS1': '261958000', 'EUS2': '272185554', 'ECO2_1': '-12585044', 'ECO2_2': '-5336058.656', 'GUS': '15468022', 'GUS1': '18928542', 'GUS2': '18396145', 'GCO2_1': '-3194321.5', 'GCO2_2': '-7155280.16', 'WUS': '15087457.3', 'WUS1': '15663862.241', 'WUS2': '16100703.494', 'WCO2_1': '-794825.5675', 'WCO2_2': '-263882.08841', 'HUS': '838539.99', 'HUS1': '873617.636', 'HUS2': '848537.783', 'HCO2_1': '-22537.7195', 'HCO2_2': '-85867.51856688', 'REG_DATE': '2022-09-01 04:13:33.0'}, {'YEAR': '2022', 'MON': '07', 'MM_TYPE': '개인', 'CNT': '1173641', 'EUS': '336383318', 'EUS1': '343120184', 'EUS2': '286996130', 'ECO2_1': '21325161', 'ECO2_2': '9041868.264', 'GUS': '10701998', 'GUS1': '11523248', 'GUS2': '10842786', 'GCO2_1': '-481019', 'GCO2_2': '-1077482.56', 'WUS': '14907198', 'WUS1': '16896368.664', 'WUS2': '15978792.8', 'WCO2_1': '-1530382.732', 'WCO2_2': '-508087.067024', 'HUS': '50033.827', 'HUS1': '429447.045', 'HUS2': '426674.771', 'HCO2_1': '-378027.081', 'HCO2_2': '17530.580524', 'REG_DATE': '2022-10-01 04:13:31.0'}, {'YEAR': '2022', 'MON': '08', 'MM_TYPE': '개인', 'CNT': '1175739', 'EUS': '382965547', 'EUS1': '420372481', 'EUS2': '342959496', 'ECO2_1': '1299558.5', 'ECO2_2': '551012.804', 'GUS': '8718677', 'GUS1': '10180855', 'GUS2': '10314603', 'GCO2_1': '-1529052', 'GCO2_2': '-3425076.48', 'WUS': '15555926.8', 'WUS1': '16301515.2', 'WUS2': '16468008.528', 'WCO2_1': '-828835.064', 'WCO2_2': '-275173.241248', 'HUS': '3278812.728', 'HUS1': '3281306.962', 'HUS2': '3284629.598', 'HCO2_1': '-4155.552', 'HCO2_2': '-10347.789454', 'REG_DATE': '2022-11-01 04:14:10.0'}, {'YEAR': '2022', 'MON': '09', 'MM_TYPE': '개인', 'CNT': '1181514', 'EUS': '294121752', 'EUS1': '298449265', 'EUS2': '330824477', 'ECO2_1': '-20515119', 'ECO2_2': '-8698410.456', 'GUS': '9220604.8', 'GUS1': '8629890', 'GUS2': '10023939', 'GCO2_1': '-106309.7', 'GCO2_2': '-238133.728', 'WUS': '15016541.4', 'WUS1': '15907410.6', 'WUS2': '16147900.2', 'WCO2_1': '-1011114', 'WCO2_2': '-335689.848', 'HUS': '7221052.414', 'HUS1': '7215849.468', 'HUS2': '7226363.157', 'HCO2_1': '-53.8985', 'HCO2_2': '28356.69476552', 'REG_DATE': '2022-12-01 04:16:43.0'}, {'YEAR': '2022', 'MON': '11', 'MM_TYPE': '개인', 'CNT': '1186063', 'EUS': '252081207', 'EUS1': '262356991', 'EUS2': '263299693', 'ECO2_1': '-10747135', 'ECO2_2': '-4556785.24', 'GUS': '28471902', 'GUS1': '28709442', 'GUS2': '30460866', 'GCO2_1': '-1113252', 'GCO2_2': '-2493684.48', 'WUS': '14485236.6', 'WUS1': '15320497', 'WUS2': '15529413.4', 'WCO2_1': '-939718.6', 'WCO2_2': '-311986.5752', 'HUS': '10685943.786', 'HUS1': '13291078.238', 'HUS2': '12961365.165', 'HCO2_1': '-2440277.9155', 'HCO2_2': '-3455246.18651164', 'REG_DATE': '2023-02-01 04:12:27.0'}, {'YEAR': '2022', 'MON': '12', 'MM_TYPE': '개인', 'CNT': '1187225', 'EUS': '266989892', 'EUS1': '272030251', 'EUS2': '281829966', 'ECO2_1': '-9940216.5', 'ECO2_2': '-4214651.796', 'GUS': '52230601', 'GUS1': '55076732', 'GUS2': '55821144', 'GCO2_1': '-3218337', 'GCO2_2': '-7209074.88', 'WUS': '14538742.5', 'WUS1': '15156159.3', 'WUS2': '15773423.3', 'WCO2_1': '-926048.8', 'WCO2_2': '-307448.2016', 'HUS': '31655489.658', 'HUS1': '26379428.114', 'HUS2': '27541072.126', 'HCO2_1': '4695239.538', 'HCO2_2': '3853824.01669332', 'REG_DATE': '2023-03-01 04:13:04.0'}, {'YEAR': '2023', 'MON': '04', 'MM_TYPE': '개인', 'CNT': '1193204', 'EUS': '247142965', 'EUS1': '260343775', 'EUS2': '260523098', 'ECO2_1': '-13290471.5', 'ECO2_2': '-5635159.916', 'GUS': '38484227', 'GUS1': '49962660.6', 'GUS2': '44102790', 'GCO2_1': '-8548498.3', 'GCO2_2': '-19148636.192', 'WUS': '13951884.7', 'WUS1': '14653234.1', 'WUS2': '15181645.818', 'WCO2_1': '-965555.259', 'WCO2_2': '-320564.345988', 'HUS': '4292056.162', 'HUS1': '5361656.106', 'HUS2': '5073177.373', 'HCO2_1': '-925360.5775', 'HCO2_2': '-1488080.2995664', 'REG_DATE': '2023-07-01 04:13:47.0'}, {'YEAR': '2023', 'MON': '06', 'MM_TYPE': '개인', 'CNT': '1199417', 'EUS': '259143276', 'EUS1': '259784414', 'EUS2': '266778719', 'ECO2_1': '-4138290.5', 'ECO2_2': '-1754635.172', 'GUS': '14742811', 'GUS1': '15605716', 'GUS2': '18981157', 'GCO2_1': '-2550625.5', 'GCO2_2': '-5713401.12', 'WUS': '14822130.1', 'WUS1': '15415155.168', 'WUS2': '15847193.909', 'WCO2_1': '-809044.4385', 'WCO2_2': '-268602.753582', 'HUS': '1169879.028', 'HUS1': '1194606.645', 'HUS2': '1220624.617', 'HCO2_1': '-37736.603', 'HCO2_2': '-114258.609126', 'REG_DATE': '2023-09-01 04:12:47.0'}, {'YEAR': '2023', 'MON': '08', 'MM_TYPE': '개인', 'CNT': '1206949', 'EUS': '407479395', 'EUS1': '390633649', 'EUS2': '427716702', 'ECO2_1': '-1695780.5', 'ECO2_2': '-719010.932', 'GUS': '8486915', 'GUS1': '8876670', 'GUS2': '10255251', 'GCO2_1': '-1079045.5', 'GCO2_2': '-2417061.92', 'WUS': '15402396.8', 'WUS1': '15918613.4', 'WUS2': '16624744.2', 'WCO2_1': '-869282', 'WCO2_2': '-288601.624', 'HUS': '530124.99', 'HUS1': '529247.91', 'HUS2': '529448.98', 'HCO2_1': '776.545', 'HCO2_2': '836.794314', 'REG_DATE': '2023-11-01 04:13:38.0'}, {'YEAR': '2023', 'MON': '09', 'MM_TYPE': '개인', 'CNT': '1210420', 'EUS': '332452167', 'EUS1': '300558938', 'EUS2': '304278725', 'ECO2_1': '30033335.5', 'ECO2_2': '20933944.972', 'GUS': '7674573', 'GUS1': '9371259.8', 'GUS2': '8602904', 'GCO2_1': '-1312508.9', 'GCO2_2': '-2940019.936', 'WUS': '14941654.4', 'WUS1': '15333107.1', 'WUS2': '16164666.9', 'WCO2_1': '-807232.6', 'WCO2_2': '-1180717.62', 'HUS': '19457189.828', 'HUS1': '19477213.335', 'HUS2': '19476732.985', 'HCO2_1': '-19783.332', 'HCO2_2': '-36896.226512', 'REG_DATE': '2024-01-03 16:14:52.0'}, {'YEAR': '2023', 'MON': '10', 'MM_TYPE': '개인', 'CNT': '1213722', 'EUS': '255560826', 'EUS1': '255249174', 'EUS2': '265326126', 'ECO2_1': '-4726824', 'ECO2_2': '-2639512.608', 'GUS': '11273798', 'GUS1': '13870721', 'GUS2': '13919411', 'GCO2_1': '-2621268', 'GCO2_2': '-5242536', 'WUS': '14918622.9', 'WUS1': '15087421.8', 'WUS2': '16329781.4', 'WCO2_1': '-789978.7', 'WCO2_2': '-1402995.538', 'HUS': '3049594.261', 'HUS1': '4545057.349', 'HUS2': '3985350.182', 'HCO2_1': '-1215609.5045', 'HCO2_2': '-1952152.617846312', 'REG_DATE': '2024-01-04 09:41:47.0'}, {'YEAR': '2023', 'MON': '11', 'MM_TYPE': '개인', 'CNT': '1218263', 'EUS': '255362764', 'EUS1': '257634312', 'EUS2': '267503757', 'ECO2_1': '-7206270.5', 'ECO2_2': '-5355182.756', 'GUS': '23749738', 'GUS1': '28687050', 'GUS2': '28892932', 'GCO2_1': '-5040253', 'GCO2_2': '-10080506', 'WUS': '14439208.8', 'WUS1': '14728300.2', 'WUS2': '15517595.8', 'WCO2_1': '-683739.2', 'WCO2_2': '-1124063.588', 'HUS': '13225464.736', 'HUS1': '10539444.881', 'HUS2': '12860942.944', 'HCO2_1': '1525270.8235', 'HCO2_2': '1736238.921322784', 'REG_DATE': '2024-02-01 04:02:18.0'}, {'YEAR': '2023', 'MON': '12', 'MM_TYPE': '개인', 'CNT': '1220905', 'EUS': '271015225', 'EUS1': '273401596', 'EUS2': '278033708', 'ECO2_1': '-4702427', 'ECO2_2': '-2961244.664', 'GUS': '47560201', 'GUS1': '45884463', 'GUS2': '47358168', 'GCO2_1': '945507.5', 'GCO2_2': '1891015', 'WUS': '14519931.6', 'WUS1': '14850488.4', 'WUS2': '15423323.6', 'WCO2_1': '-616974.4', 'WCO2_2': '-868969.802', 'HUS': '24169250.596', 'HUS1': '29402428.816', 'HUS2': '25482298.374', 'HCO2_1': '-3273112.999', 'HCO2_2': '-5386787.826928064', 'REG_DATE': '2024-03-01 04:02:24.0'}, {'YEAR': '2024', 'MON': '01', 'MM_TYPE': '개인', 'CNT': '1222195', 'EUS': '290223476', 'EUS1': '295593527', 'EUS2': '300877190', 'ECO2_1': '-8011882.5', 'ECO2_2': '-6133526.916', 'GUS': '65608930', 'GUS1': '70275851', 'GUS2': '69638510', 'GCO2_1': '-4321187.5', 'GCO2_2': '-8642375', 'WUS': '14119336.8', 'WUS1': '14454672.5', 'WUS2': '14888409.7', 'WCO2_1': '-552204.3', 'WCO2_2': '-724172.246', 'HUS': '26759601.094', 'HUS1': '28510581.584', 'HUS2': '29411377.76', 'HCO2_1': '-2201378.578', 'HCO2_2': '-3261792.04846496', 'REG_DATE': '2024-04-01 04:02:11.0'}, {'YEAR': '2024', 'MON': '02', 'MM_TYPE': '개인', 'CNT': '1225953', 'EUS': '280810330', 'EUS1': '281723865', 'EUS2': '294054840', 'ECO2_1': '-7079022.5', 'ECO2_2': '-5978058.404', 'GUS': '65184440', 'GUS1': '69821946', 'GUS2': '76019131', 'GCO2_1': '-7699756.5', 'GCO2_2': '-15399513', 'WUS': '14247296.7', 'WUS1': '14439274.4', 'WUS2': '15008910.7', 'WCO2_1': '-476795.85', 'WCO2_2': '-705283.846', 'HUS': '18696968.203', 'HUS1': '19671550.857', 'HUS2': '26454171.723', 'HCO2_1': '-4365893.087', 'HCO2_2': '-6306607.777914952', 'REG_DATE': '2024-05-01 04:02:27.0'}, {'YEAR': '2024', 'MON': '03', 'MM_TYPE': '개인', 'CNT': '1229686', 'EUS': '259332255', 'EUS1': '251543433', 'EUS2': '270453673', 'ECO2_1': '-1666298', 'ECO2_2': '-814872.368', 'GUS': '58563376', 'GUS1': '56940817', 'GUS2': '66671280', 'GCO2_1': '-3199866', 'GCO2_2': '-6399732', 'WUS': '13792441.8', 'WUS1': '13844649.6', 'WUS2': '14595695.2', 'WCO2_1': '-427730.6', 'WCO2_2': '-623479.442', 'HUS': '13455710.256', 'HUS1': '10503425.049', 'HUS2': '14993646.703', 'HCO2_1': '707174.38', 'HCO2_2': '319083.312661992', 'REG_DATE': '2024-06-01 04:02:26.0'}, {'YEAR': '2024', 'MON': '04', 'MM_TYPE': '개인', 'CNT': '1231383', 'EUS': '256332884', 'EUS1': '255770184', 'EUS2': '268660296', 'ECO2_1': '-5882356', 'ECO2_2': '-4232674.72', 'GUS': '35786315', 'GUS1': '31856450', 'GUS2': '41187566', 'GCO2_1': '-723556.5', 'GCO2_2': '-1447113', 'WUS': '14330249.1', 'WUS1': '14256340.4', 'WUS2': '14928586.9', 'WCO2_1': '-262214.55', 'WCO2_2': '-331887.052', 'HUS': '3099650.225', 'HUS1': '4297134.144', 'HUS2': '5021032.768', 'HCO2_1': '-1559433.231', 'HCO2_2': '-2898800.3299898', 'REG_DATE': '2024-07-01 04:02:30.0'}, {'YEAR': '2024', 'MON': '05', 'MM_TYPE': '개인', 'CNT': '1232740', 'EUS': '244740675', 'EUS1': '249532968', 'EUS2': '251389638', 'ECO2_1': '-5720628', 'ECO2_2': '-4115203.68', 'GUS': '18077028', 'GUS1': '22931318', 'GUS2': '22963069', 'GCO2_1': '-4848853.5', 'GCO2_2': '-9697707', 'WUS': '14158142.9', 'WUS1': '14293198', 'WUS2': '14866217.7', 'WCO2_1': '-421564.95', 'WCO2_2': '-615124.894', 'HUS': '28333197.76', 'HUS1': '14822236.03', 'HUS2': '14877484.808', 'HCO2_1': '13483337.341', 'HCO2_2': '54046716.75911168', 'REG_DATE': '2024-08-01 04:02:26.0'}, {'YEAR': '2024', 'MON': '06', 'MM_TYPE': '개인', 'CNT': '1236551', 'EUS': '270158916', 'EUS1': '267811327', 'EUS2': '267991855', 'ECO2_1': '2257325', 'ECO2_2': '913781.96', 'GUS': '11903071', 'GUS1': '12129096', 'GUS2': '12794187', 'GCO2_1': '-550640.5', 'GCO2_2': '-1101281', 'WUS': '14966075.6', 'WUS1': '15181053.9', 'WUS2': '15749365.168', 'WCO2_1': '-499133.934', 'WCO2_2': '-929815.484', 'HUS': '20226852.923', 'HUS1': '20211074.693', 'HUS2': '20215166.143', 'HCO2_1': '13732.505', 'HCO2_2': '64700.41145112', 'REG_DATE': '2024-09-01 04:02:26.0'}, {'YEAR': '2024', 'MON': '07', 'MM_TYPE': '개인', 'CNT': '1240181', 'EUS': '340000663', 'EUS1': '339452144', 'EUS2': '355063962', 'ECO2_1': '-7257390', 'ECO2_2': '-4910695.728', 'GUS': '8319412', 'GUS1': '8154693', 'GUS2': '8975921', 'GCO2_1': '-243027', 'GCO2_2': '-486054', 'WUS': '14992942.2', 'WUS1': '15074118.2', 'WUS2': '15524494.754', 'WCO2_1': '-306364.277', 'WCO2_2': '-495397.089', 'HUS': '2173041.617', 'HUS1': '1927890.587', 'HUS2': '1927239.627', 'HCO2_1': '245476.51', 'HCO2_2': '985292.898118', 'REG_DATE': '2024-10-01 04:03:13.0'}, {'YEAR': '2024', 'MON': '08', 'MM_TYPE': '개인', 'CNT': '1242696', 'EUS': '463971328', 'EUS1': '422847493', 'EUS2': '405133667', 'ECO2_1': '49980748', 'ECO2_2': '27164821.792', 'GUS': '7072251', 'GUS1': '7118717', 'GUS2': '7375704', 'GCO2_1': '-171960', 'GCO2_2': '-343920', 'WUS': '15873544.6', 'WUS1': '15899281.6', 'WUS2': '16383386.2', 'WCO2_1': '-267789.3', 'WCO2_2': '-227512.116', 'HUS': '130082.263', 'HUS1': '131589.763', 'HUS2': '131798.413', 'HCO2_1': '-1611.825', 'HCO2_2': '-1073.761514', 'REG_DATE': '2024-11-01 04:04:00.0'}, {'YEAR': '2024', 'MON': '09', 'MM_TYPE': '개인', 'CNT': '1247288', 'EUS': '409872908', 'EUS1': '342666115', 'EUS2': '310147714', 'ECO2_1': '83465993.5', 'ECO2_2': '55322607.868', 'GUS': '5729131', 'GUS1': '6441102', 'GUS2': '7816577', 'GCO2_1': '-1395882.5', 'GCO2_2': '-2791765', 'WUS': '15143321.6', 'WUS1': '15233981.2', 'WUS2': '15608153.2', 'WCO2_1': '-277745.6', 'WCO2_2': '-760889.978', 'HUS': '3420507.136', 'HUS1': '3427066.313', 'HUS2': '3432770.307', 'HCO2_1': '-9411.174', 'HCO2_2': '-25382.3841398', 'REG_DATE': '2024-12-01 04:02:35.0'}, {'YEAR': '2024', 'MON': '10', 'MM_TYPE': '개인', 'CNT': '1249966', 'EUS': '282268119', 'EUS1': '264132620', 'EUS2': '263389786', 'ECO2_1': '18506916', 'ECO2_2': '14379201.216', 'GUS': '8233421', 'GUS1': '9935192', 'GUS2': '12171887', 'GCO2_1': '-2811331.5', 'GCO2_2': '-5622663', 'WUS': '15297669.9', 'WUS1': '15372349.4', 'WUS2': '15520212.2', 'WCO2_1': '-148610.9', 'WCO2_2': '-189025.694', 'HUS': '2695491.396', 'HUS1': '3326775.236', 'HUS2': '4339830.387', 'HCO2_1': '-1137811.4155', 'HCO2_2': '-1573249.33785276', 'REG_DATE': '2025-01-01 04:02:38.0'}, {'YEAR': '2024', 'MON': '11', 'MM_TYPE': '개인', 'CNT': '1251707', 'EUS': '257927956', 'EUS1': '263362159', 'EUS2': '265181268', 'ECO2_1': '-6343757.5', 'ECO2_2': '-4509835.42', 'GUS': '17418221', 'GUS1': '21047532', 'GUS2': '24761264', 'GCO2_1': '-5467227.5', 'GCO2_2': '-10934455', 'WUS': '14678672.5', 'WUS1': '14789968.4', 'WUS2': '15060759.3', 'WCO2_1': '-246691.35', 'WCO2_2': '-261007.97', 'HUS': '8836296.454', 'HUS1': '12932546.397', 'HUS2': '10390187.837', 'HCO2_1': '-2825070.663', 'HCO2_2': '-3892157.038064492', 'REG_DATE': '2025-02-01 04:02:31.0'}, {'YEAR': '2024', 'MON': '12', 'MM_TYPE': '개인', 'CNT': '1250620', 'EUS': '134828126', 'EUS1': '138280636', 'EUS2': '138879530', 'ECO2_1': '-3751957', 'ECO2_2': '-3504709', 'GUS': '42103424', 'GUS1': '47763373', 'GUS2': '46794290', 'GCO2_1': '-5135298', 'GCO2_2': '-10270596', 'WUS': '7326853.6', 'WUS1': '7440605', 'WUS2': '7625718.9', 'WCO2_1': '-206308.35', 'WCO2_2': '-573725.128', 'HUS': '1513199.277', 'HUS1': '1598857.184', 'HUS2': '1781397.386', 'HCO2_1': '-176928.008', 'HCO2_2': '-376996.699240516', 'REG_DATE': '2025-03-01 04:02:55.0'}]\n"
          ]
        }
      ]
    },
    {
      "cell_type": "code",
      "source": [
        "import json\n",
        "columns = [\n",
        "    'YEAR', #\t년도\n",
        "    'MON', #\t월\n",
        "    'MM_TYPE', #\t회원타입\n",
        "    'EUS', #\t현년 전기사용량\n",
        "    'GUS', #\t현년 가스사용량\n",
        "    'WUS', #\t현년 수도사용량\n",
        "    'HUS' #\t현년 지역난방 사용량\n",
        "]\n",
        "\n",
        "data_personal_list = []\n",
        "with open('data_personal_list.json', mode='r', encoding='utf-8') as f:\n",
        "    filtered_list = json.load(f)\n",
        "    # json_str = '{\"energyUseDataSummaryInfo\": {\"list_total_count\": 7, \"RESULT\": {\"CODE\": \"INFO-000\", \"MESSAGE\": \"정상 처리되었습니다\"}, \"row\": [{\"YEAR\": \"2020\", \"MON\": \"12\", \"MM_TYPE\": \"공공기관\", \"CNT\": \"2319\", \"EUS\": \"134415822\", \"EUS1\": \"140830293\", \"EUS2\": \"143785616\", \"ECO2_1\": \"-7892132.5\", \"ECO2_2\": \"-3346264.18\", \"GUS\": \"3625280\", \"GUS1\": \"3938720\", \"GUS2\": \"4530840\", \"GCO2_1\": \"-609500\", \"GCO2_2\": \"-1365280\", \"WUS\": \"682469.6\", \"WUS1\": \"966115.2\", \"WUS2\": \"923345\", \"WCO2_1\": \"-262260.5\", \"WCO2_2\": \"-87070.486\", \"HUS\": \"0\", \"HUS1\": \"0\", \"HUS2\": \"0\", \"HCO2_1\": \"0\", \"HCO2_2\": \"0\", \"REG_DATE\": \"2021-03-11 18:31:32.0\"}, {\"YEAR\": \"2020\", \"MON\": \"12\", \"MM_TYPE\": \"기업\", \"CNT\": \"18259\", \"EUS\": \"567429666\", \"EUS1\": \"586794781\", \"EUS2\": \"593462122\", \"ECO2_1\": \"-22698785.5\", \"ECO2_2\": \"-9624285.052\", \"GUS\": \"24795758\", \"GUS1\": \"21567744\", \"GUS2\": \"26868220\", \"GCO2_1\": \"577776\", \"GCO2_2\": \"1294218.24\", \"WUS\": \"4056394.2\", \"WUS1\": \"4768906.8\", \"WUS2\": \"4628830\", \"WCO2_1\": \"-642474.2\", \"WCO2_2\": \"-213301.4344\", \"HUS\": \"0\", \"HUS1\": \"0\", \"HUS2\": \"0\", \"HCO2_1\": \"0\", \"HCO2_2\": \"0\", \"REG_DATE\": \"2021-03-11 18:31:32.0\"}, {\"YEAR\": \"2020\", \"MON\": \"12\", \"MM_TYPE\": \"소상공인\", \"CNT\": \"42743\", \"EUS\": \"82544954\", \"EUS1\": \"88007794\", \"EUS2\": \"87941049\", \"ECO2_1\": \"-5429467.5\", \"ECO2_2\": \"-2302094.22\", \"GUS\": \"2749449\", \"GUS1\": \"3195669\", \"GUS2\": \"3116983\", \"GCO2_1\": \"-406877\", \"GCO2_2\": \"-911404.48\", \"WUS\": \"1522971.8\", \"WUS1\": \"1710259.8\", \"WUS2\": \"1644036.2\", \"WCO2_1\": \"-154176.2\", \"WCO2_2\": \"-51186.4984\", \"HUS\": \"2679.61\", \"HUS1\": \"2096.78\", \"HUS2\": \"2244.49\", \"HCO2_1\": \"508.975\", \"HCO2_2\": \"-73.51022\", \"REG_DATE\": \"2021-03-11 18:31:32.0\"}, {\"YEAR\": \"2020\", \"MON\": \"12\", \"MM_TYPE\": \"학교\", \"CNT\": \"6457\", \"EUS\": \"148641247\", \"EUS1\": \"163043674\", \"EUS2\": \"158464391\", \"ECO2_1\": \"-12112785.5\", \"ECO2_2\": \"-5135821.052\", \"GUS\": \"6130182\", \"GUS1\": \"6712287\", \"GUS2\": \"6946755\", \"GCO2_1\": \"-699339\", \"GCO2_2\": \"-1566519.36\", \"WUS\": \"1849950.6\", \"WUS1\": \"2254096.6\", \"WUS2\": \"2179161.8\", \"WCO2_1\": \"-366678.6\", \"WCO2_2\": \"-121737.2952\", \"HUS\": \"26803.56\", \"HUS1\": \"21972.121\", \"HUS2\": \"24090.481\", \"HCO2_1\": \"3772.259\", \"HCO2_2\": \"6446.968818\", \"REG_DATE\": \"2021-03-11 18:31:32.0\"}, {\"YEAR\": \"2020\", \"MON\": \"12\", \"MM_TYPE\": \"개인\", \"CNT\": \"1110223\", \"EUS\": \"265370372\", \"EUS1\": \"250887378\", \"EUS2\": \"252983409\", \"ECO2_1\": \"13434978.5\", \"ECO2_2\": \"5696430.884\", \"GUS\": \"51095720\", \"GUS1\": \"50449214\", \"GUS2\": \"50298542\", \"GCO2_1\": \"721842\", \"GCO2_2\": \"1616926.08\", \"WUS\": \"15036546.3\", \"WUS1\": \"14479510.234\", \"WUS2\": \"14356727.09\", \"WCO2_1\": \"618427.638\", \"WCO2_2\": \"205317.975816\", \"HUS\": \"26512966.052\", \"HUS1\": \"23787438.214\", \"HUS2\": \"24469734.461\", \"HCO2_1\": \"2384379.7145\", \"HCO2_2\": \"4399125.3465152\", \"REG_DATE\": \"2021-03-11 18:31:32.0\"}]}}'\n",
        "    # data = json.loads(json_str)\n",
        "    # rows = data.get('energyUseDataSummaryInfo', {}).get('row', [])\n",
        "    # get_type_personal = lambda r : r['MM_TYPE'] == '개인'\n",
        "    # filtered_list = list(filter(get_type_personal, rows))\n",
        "    compact_list = [{col:row[col] for col in columns} for row in filtered_list]\n",
        "    data_personal_list.extend(compact_list)\n",
        "    print(data_personal_list)\n",
        "\n",
        "\n",
        "\n",
        "with open('data_result.json', mode='w') as json_file:\n",
        "    json.dump(data_personal_list, json_file, indent=4, ensure_ascii=False)"
      ],
      "metadata": {
        "id": "fEqMjzF8Cww5",
        "outputId": "b0411849-5064-4ad1-bd8f-c2beb06c0eeb",
        "colab": {
          "base_uri": "https://localhost:8080/"
        }
      },
      "execution_count": 17,
      "outputs": [
        {
          "output_type": "stream",
          "name": "stdout",
          "text": [
            "[{'YEAR': '2014', 'MON': '01', 'MM_TYPE': '개인', 'EUS': '144900337', 'GUS': '38335224', 'WUS': '10613959.838', 'HUS': '17632536.939'}, {'YEAR': '2014', 'MON': '03', 'MM_TYPE': '개인', 'EUS': '135419507', 'GUS': '32209021', 'WUS': '11069450.17', 'HUS': '10470340.034'}, {'YEAR': '2014', 'MON': '07', 'MM_TYPE': '개인', 'EUS': '168681507', 'GUS': '7318863', 'WUS': '13135941.064', 'HUS': '217853.383'}, {'YEAR': '2014', 'MON': '08', 'MM_TYPE': '개인', 'EUS': '187725750', 'GUS': '6596679', 'WUS': '14031651.912', 'HUS': '320553.853'}, {'YEAR': '2014', 'MON': '09', 'MM_TYPE': '개인', 'EUS': '175409826', 'GUS': '6969566', 'WUS': '13830683.654', 'HUS': '1041887.78'}, {'YEAR': '2014', 'MON': '11', 'MM_TYPE': '개인', 'EUS': '173263842', 'GUS': '19773109', 'WUS': '13489886.752', 'HUS': '10420879.095'}, {'YEAR': '2014', 'MON': '12', 'MM_TYPE': '개인', 'EUS': '180540444', 'GUS': '39598422', 'WUS': '13028824.456', 'HUS': '24632751.988'}, {'YEAR': '2015', 'MON': '01', 'MM_TYPE': '개인', 'EUS': '193784708', 'GUS': '59133720', 'WUS': '12819757.886', 'HUS': '22740838.937'}, {'YEAR': '2015', 'MON': '02', 'MM_TYPE': '개인', 'EUS': '189974230', 'GUS': '56487358', 'WUS': '12656888.218', 'HUS': '18793320.213'}, {'YEAR': '2015', 'MON': '05', 'MM_TYPE': '개인', 'EUS': '177289769', 'GUS': '22060892', 'WUS': '13086734.214', 'HUS': '1320895.801'}, {'YEAR': '2015', 'MON': '06', 'MM_TYPE': '개인', 'EUS': '186073153', 'GUS': '12677645', 'WUS': '14241651.402', 'HUS': '294312.634'}, {'YEAR': '2015', 'MON': '07', 'MM_TYPE': '개인', 'EUS': '165114568', 'GUS': '8893640', 'WUS': '12083879.038', 'HUS': '702863.645'}, {'YEAR': '2015', 'MON': '08', 'MM_TYPE': '개인', 'EUS': '242000479', 'GUS': '7619018', 'WUS': '15164553.742', 'HUS': '460288.965'}, {'YEAR': '2015', 'MON': '10', 'MM_TYPE': '개인', 'EUS': '186473958', 'GUS': '8924018', 'WUS': '14711828.766', 'HUS': '3167520.127'}, {'YEAR': '2015', 'MON': '12', 'MM_TYPE': '개인', 'EUS': '203388142', 'GUS': '40095231', 'WUS': '13904162.958', 'HUS': '21102616.717'}, {'YEAR': '2016', 'MON': '01', 'MM_TYPE': '개인', 'EUS': '215330620', 'GUS': '57641741', 'WUS': '13218916.436', 'HUS': '27186166.133'}, {'YEAR': '2016', 'MON': '02', 'MM_TYPE': '개인', 'EUS': '216677664', 'GUS': '68879796', 'WUS': '13312113.622', 'HUS': '21452994.715'}, {'YEAR': '2016', 'MON': '03', 'MM_TYPE': '개인', 'EUS': '203451798', 'GUS': '60019600', 'WUS': '13191615.499', 'HUS': '14070182.978'}, {'YEAR': '2016', 'MON': '04', 'MM_TYPE': '개인', 'EUS': '202541336', 'GUS': '40370608', 'WUS': '13748935.736', 'HUS': '4556396.936'}, {'YEAR': '2016', 'MON': '05', 'MM_TYPE': '개인', 'EUS': '195448592', 'GUS': '23077064', 'WUS': '13762618.524', 'HUS': '1166907.615'}, {'YEAR': '2016', 'MON': '06', 'MM_TYPE': '개인', 'EUS': '205061790', 'GUS': '13344932', 'WUS': '14543461.284', 'HUS': '340601.066'}, {'YEAR': '2016', 'MON': '09', 'MM_TYPE': '개인', 'EUS': '241676328', 'GUS': '7030657', 'WUS': '15233262.266', 'HUS': '2597269.386'}, {'YEAR': '2016', 'MON': '10', 'MM_TYPE': '개인', 'EUS': '197827666', 'GUS': '10129547', 'WUS': '15173666.268', 'HUS': '2142328.405'}, {'YEAR': '2016', 'MON': '11', 'MM_TYPE': '개인', 'EUS': '204812090', 'GUS': '23915383', 'WUS': '7215169', 'HUS': '10865402.481'}, {'YEAR': '2017', 'MON': '01', 'MM_TYPE': '개인', 'EUS': '222980440', 'GUS': '61781772', 'WUS': '14077034.016', 'HUS': '20567265.356'}, {'YEAR': '2017', 'MON': '02', 'MM_TYPE': '개인', 'EUS': '226181991', 'GUS': '73537514', 'WUS': '13724166.552', 'HUS': '17733782.246'}, {'YEAR': '2017', 'MON': '03', 'MM_TYPE': '개인', 'EUS': '208386870', 'GUS': '64297007', 'WUS': '13598081.92', 'HUS': '11477962.549'}, {'YEAR': '2017', 'MON': '05', 'MM_TYPE': '개인', 'EUS': '209894672', 'GUS': '25103152', 'WUS': '12950202.184', 'HUS': '19809726.81'}, {'YEAR': '2017', 'MON': '08', 'MM_TYPE': '개인', 'EUS': '297850172', 'GUS': '8429188', 'WUS': '14291829.084', 'HUS': '118927.011'}, {'YEAR': '2017', 'MON': '09', 'MM_TYPE': '개인', 'EUS': '232360099', 'GUS': '8981707', 'WUS': '13842675.562', 'HUS': '1279967.753'}, {'YEAR': '2017', 'MON': '10', 'MM_TYPE': '개인', 'EUS': '202205893', 'GUS': '11910453', 'WUS': '13811362.596', 'HUS': '2177857.689'}, {'YEAR': '2017', 'MON': '11', 'MM_TYPE': '개인', 'EUS': '215620132', 'GUS': '26041170', 'WUS': '13268391.686', 'HUS': '12290667.843'}, {'YEAR': '2018', 'MON': '02', 'MM_TYPE': '개인', 'EUS': '243271752', 'GUS': '88496947', 'WUS': '12905042.86', 'HUS': '22671708.494'}, {'YEAR': '2018', 'MON': '03', 'MM_TYPE': '개인', 'EUS': '219203768', 'GUS': '73426397', 'WUS': '12769174.532', 'HUS': '10924939.951'}, {'YEAR': '2018', 'MON': '06', 'MM_TYPE': '개인', 'EUS': '222820943', 'GUS': '17132065', 'WUS': '14051336.092', 'HUS': '285820.628'}, {'YEAR': '2018', 'MON': '07', 'MM_TYPE': '개인', 'EUS': '269705511', 'GUS': '11259835', 'WUS': '14333667.052', 'HUS': '25843523.832'}, {'YEAR': '2018', 'MON': '11', 'MM_TYPE': '개인', 'EUS': '227294230', 'GUS': '31239511', 'WUS': '13706690.088', 'HUS': '10276290.855'}, {'YEAR': '2018', 'MON': '12', 'MM_TYPE': '개인', 'EUS': '238692561', 'GUS': '54019855', 'WUS': '13732488.456', 'HUS': '20421845.603'}, {'YEAR': '2019', 'MON': '01', 'MM_TYPE': '개인', 'EUS': '253600219', 'GUS': '80308239', 'WUS': '13442971.1', 'HUS': '21963093.848'}, {'YEAR': '2019', 'MON': '02', 'MM_TYPE': '개인', 'EUS': '244927344', 'GUS': '81902188', 'WUS': '13495213.9', 'HUS': '106134923.132'}, {'YEAR': '2019', 'MON': '03', 'MM_TYPE': '개인', 'EUS': '223736787', 'GUS': '65146586.443', 'WUS': '13167550', 'HUS': '13194262.09'}, {'YEAR': '2019', 'MON': '04', 'MM_TYPE': '개인', 'EUS': '232166121', 'GUS': '49391508', 'WUS': '13753270.8', 'HUS': '7858587.747'}, {'YEAR': '2019', 'MON': '06', 'MM_TYPE': '개인', 'EUS': '226119779', 'GUS': '15771701', 'WUS': '14223536.4', 'HUS': '331690.945'}, {'YEAR': '2019', 'MON': '07', 'MM_TYPE': '개인', 'EUS': '257854441', 'GUS': '10700835', 'WUS': '14451345.9', 'HUS': '968957.161'}, {'YEAR': '2019', 'MON': '10', 'MM_TYPE': '개인', 'EUS': '228095713', 'GUS': '11876816', 'WUS': '14804362.3', 'HUS': '2590192.143'}, {'YEAR': '2019', 'MON': '11', 'MM_TYPE': '개인', 'EUS': '231283724', 'GUS': '24835894', 'WUS': '14123043.9', 'HUS': '14983364.884'}, {'YEAR': '2019', 'MON': '12', 'MM_TYPE': '개인', 'EUS': '244976724', 'GUS': '54509050', 'WUS': '14184785.2', 'HUS': '23558262.283'}, {'YEAR': '2020', 'MON': '02', 'MM_TYPE': '개인', 'EUS': '254879033', 'GUS': '76363768', 'WUS': '14052828.8', 'HUS': '20848668.612'}, {'YEAR': '2020', 'MON': '03', 'MM_TYPE': '개인', 'EUS': '244369714', 'GUS': '64367515', 'WUS': '13841531', 'HUS': '14194450.151'}, {'YEAR': '2020', 'MON': '04', 'MM_TYPE': '개인', 'EUS': '247831442', 'GUS': '48373693', 'WUS': '14618775.2', 'HUS': '8499792.566'}, {'YEAR': '2020', 'MON': '08', 'MM_TYPE': '개인', 'EUS': '320723239', 'GUS': '10177428', 'WUS': '15600097.8', 'HUS': '286814.663'}, {'YEAR': '2020', 'MON': '11', 'MM_TYPE': '개인', 'EUS': '247308528', 'GUS': '30095679', 'WUS': '14835013.9', 'HUS': '12882737.572'}, {'YEAR': '2020', 'MON': '12', 'MM_TYPE': '개인', 'EUS': '265370372', 'GUS': '51095720', 'WUS': '15036546.3', 'HUS': '26512966.052'}, {'YEAR': '2021', 'MON': '01', 'MM_TYPE': '개인', 'EUS': '287882528', 'GUS': '80955422', 'WUS': '14273105.8', 'HUS': '31069705.783'}, {'YEAR': '2021', 'MON': '02', 'MM_TYPE': '개인', 'EUS': '271224712', 'GUS': '85581769', 'WUS': '13679936.9', 'HUS': '22238103.26'}, {'YEAR': '2021', 'MON': '05', 'MM_TYPE': '개인', 'EUS': '241741576', 'GUS': '24638403', 'WUS': '14312460.916', 'HUS': '2246730.037'}, {'YEAR': '2021', 'MON': '06', 'MM_TYPE': '개인', 'EUS': '254958704', 'GUS': '18898880', 'WUS': '15174790.6', 'HUS': '396903.273'}, {'YEAR': '2021', 'MON': '07', 'MM_TYPE': '개인', 'EUS': '334733756', 'GUS': '9631171', 'WUS': '16619105.064', 'HUS': '5529269.058'}, {'YEAR': '2021', 'MON': '08', 'MM_TYPE': '개인', 'EUS': '409719040', 'GUS': '10205066', 'WUS': '15737994.8', 'HUS': '127607.838'}, {'YEAR': '2021', 'MON': '09', 'MM_TYPE': '개인', 'EUS': '290606638', 'GUS': '6602872', 'WUS': '15497783.9', 'HUS': '159066.058'}, {'YEAR': '2021', 'MON': '10', 'MM_TYPE': '개인', 'EUS': '253845816', 'GUS': '13840155', 'WUS': '15930639.8', 'HUS': '4220985.501'}, {'YEAR': '2021', 'MON': '11', 'MM_TYPE': '개인', 'EUS': '255516339', 'GUS': '28571168', 'WUS': '14975050.4', 'HUS': '13463697.643'}, {'YEAR': '2021', 'MON': '12', 'MM_TYPE': '개인', 'EUS': '265314948', 'GUS': '54651317', 'WUS': '14873728.5', 'HUS': '25989752.285'}, {'YEAR': '2022', 'MON': '03', 'MM_TYPE': '개인', 'EUS': '256771728', 'GUS': '75577723', 'WUS': '14181287.1', 'HUS': '15843818.715'}, {'YEAR': '2022', 'MON': '05', 'MM_TYPE': '개인', 'EUS': '238866649', 'GUS': '28185559', 'WUS': '14344240.1', 'HUS': '1457446.39'}, {'YEAR': '2022', 'MON': '06', 'MM_TYPE': '개인', 'EUS': '254486733', 'GUS': '15468022', 'WUS': '15087457.3', 'HUS': '838539.99'}, {'YEAR': '2022', 'MON': '07', 'MM_TYPE': '개인', 'EUS': '336383318', 'GUS': '10701998', 'WUS': '14907198', 'HUS': '50033.827'}, {'YEAR': '2022', 'MON': '08', 'MM_TYPE': '개인', 'EUS': '382965547', 'GUS': '8718677', 'WUS': '15555926.8', 'HUS': '3278812.728'}, {'YEAR': '2022', 'MON': '09', 'MM_TYPE': '개인', 'EUS': '294121752', 'GUS': '9220604.8', 'WUS': '15016541.4', 'HUS': '7221052.414'}, {'YEAR': '2022', 'MON': '11', 'MM_TYPE': '개인', 'EUS': '252081207', 'GUS': '28471902', 'WUS': '14485236.6', 'HUS': '10685943.786'}, {'YEAR': '2022', 'MON': '12', 'MM_TYPE': '개인', 'EUS': '266989892', 'GUS': '52230601', 'WUS': '14538742.5', 'HUS': '31655489.658'}, {'YEAR': '2023', 'MON': '04', 'MM_TYPE': '개인', 'EUS': '247142965', 'GUS': '38484227', 'WUS': '13951884.7', 'HUS': '4292056.162'}, {'YEAR': '2023', 'MON': '06', 'MM_TYPE': '개인', 'EUS': '259143276', 'GUS': '14742811', 'WUS': '14822130.1', 'HUS': '1169879.028'}, {'YEAR': '2023', 'MON': '08', 'MM_TYPE': '개인', 'EUS': '407479395', 'GUS': '8486915', 'WUS': '15402396.8', 'HUS': '530124.99'}, {'YEAR': '2023', 'MON': '09', 'MM_TYPE': '개인', 'EUS': '332452167', 'GUS': '7674573', 'WUS': '14941654.4', 'HUS': '19457189.828'}, {'YEAR': '2023', 'MON': '10', 'MM_TYPE': '개인', 'EUS': '255560826', 'GUS': '11273798', 'WUS': '14918622.9', 'HUS': '3049594.261'}, {'YEAR': '2023', 'MON': '11', 'MM_TYPE': '개인', 'EUS': '255362764', 'GUS': '23749738', 'WUS': '14439208.8', 'HUS': '13225464.736'}, {'YEAR': '2023', 'MON': '12', 'MM_TYPE': '개인', 'EUS': '271015225', 'GUS': '47560201', 'WUS': '14519931.6', 'HUS': '24169250.596'}, {'YEAR': '2024', 'MON': '01', 'MM_TYPE': '개인', 'EUS': '290223476', 'GUS': '65608930', 'WUS': '14119336.8', 'HUS': '26759601.094'}, {'YEAR': '2024', 'MON': '02', 'MM_TYPE': '개인', 'EUS': '280810330', 'GUS': '65184440', 'WUS': '14247296.7', 'HUS': '18696968.203'}, {'YEAR': '2024', 'MON': '03', 'MM_TYPE': '개인', 'EUS': '259332255', 'GUS': '58563376', 'WUS': '13792441.8', 'HUS': '13455710.256'}, {'YEAR': '2024', 'MON': '04', 'MM_TYPE': '개인', 'EUS': '256332884', 'GUS': '35786315', 'WUS': '14330249.1', 'HUS': '3099650.225'}, {'YEAR': '2024', 'MON': '05', 'MM_TYPE': '개인', 'EUS': '244740675', 'GUS': '18077028', 'WUS': '14158142.9', 'HUS': '28333197.76'}, {'YEAR': '2024', 'MON': '06', 'MM_TYPE': '개인', 'EUS': '270158916', 'GUS': '11903071', 'WUS': '14966075.6', 'HUS': '20226852.923'}, {'YEAR': '2024', 'MON': '07', 'MM_TYPE': '개인', 'EUS': '340000663', 'GUS': '8319412', 'WUS': '14992942.2', 'HUS': '2173041.617'}, {'YEAR': '2024', 'MON': '08', 'MM_TYPE': '개인', 'EUS': '463971328', 'GUS': '7072251', 'WUS': '15873544.6', 'HUS': '130082.263'}, {'YEAR': '2024', 'MON': '09', 'MM_TYPE': '개인', 'EUS': '409872908', 'GUS': '5729131', 'WUS': '15143321.6', 'HUS': '3420507.136'}, {'YEAR': '2024', 'MON': '10', 'MM_TYPE': '개인', 'EUS': '282268119', 'GUS': '8233421', 'WUS': '15297669.9', 'HUS': '2695491.396'}, {'YEAR': '2024', 'MON': '11', 'MM_TYPE': '개인', 'EUS': '257927956', 'GUS': '17418221', 'WUS': '14678672.5', 'HUS': '8836296.454'}, {'YEAR': '2024', 'MON': '12', 'MM_TYPE': '개인', 'EUS': '134828126', 'GUS': '42103424', 'WUS': '7326853.6', 'HUS': '1513199.277'}]\n"
          ]
        }
      ]
    },
    {
      "cell_type": "code",
      "source": [
        "import pandas as pd\n",
        "import numpy as np\n",
        "\n",
        "df = pd.read_json('data_result.json', orient='records', encoding='utf-8', lines=False)\n",
        "\n",
        "df.describe(include='all')\n",
        "\n",
        "df.describe(include='object')\n",
        "\n",
        "df.describe()\n",
        "df.describe(include=[np.number])\n",
        "\n",
        "df['EUS'].describe()"
      ],
      "metadata": {
        "id": "pePWy3e7Kj20",
        "outputId": "ad2b5cf0-9327-4460-d5d2-13583417473b",
        "colab": {
          "base_uri": "https://localhost:8080/",
          "height": 335
        }
      },
      "execution_count": 26,
      "outputs": [
        {
          "output_type": "execute_result",
          "data": {
            "text/plain": [
              "count    9.000000e+01\n",
              "mean     2.468824e+08\n",
              "std      5.909901e+07\n",
              "min      1.348281e+08\n",
              "25%      2.087638e+08\n",
              "50%      2.445552e+08\n",
              "75%      2.653565e+08\n",
              "max      4.639713e+08\n",
              "Name: EUS, dtype: float64"
            ],
            "text/html": [
              "<div>\n",
              "<style scoped>\n",
              "    .dataframe tbody tr th:only-of-type {\n",
              "        vertical-align: middle;\n",
              "    }\n",
              "\n",
              "    .dataframe tbody tr th {\n",
              "        vertical-align: top;\n",
              "    }\n",
              "\n",
              "    .dataframe thead th {\n",
              "        text-align: right;\n",
              "    }\n",
              "</style>\n",
              "<table border=\"1\" class=\"dataframe\">\n",
              "  <thead>\n",
              "    <tr style=\"text-align: right;\">\n",
              "      <th></th>\n",
              "      <th>EUS</th>\n",
              "    </tr>\n",
              "  </thead>\n",
              "  <tbody>\n",
              "    <tr>\n",
              "      <th>count</th>\n",
              "      <td>9.000000e+01</td>\n",
              "    </tr>\n",
              "    <tr>\n",
              "      <th>mean</th>\n",
              "      <td>2.468824e+08</td>\n",
              "    </tr>\n",
              "    <tr>\n",
              "      <th>std</th>\n",
              "      <td>5.909901e+07</td>\n",
              "    </tr>\n",
              "    <tr>\n",
              "      <th>min</th>\n",
              "      <td>1.348281e+08</td>\n",
              "    </tr>\n",
              "    <tr>\n",
              "      <th>25%</th>\n",
              "      <td>2.087638e+08</td>\n",
              "    </tr>\n",
              "    <tr>\n",
              "      <th>50%</th>\n",
              "      <td>2.445552e+08</td>\n",
              "    </tr>\n",
              "    <tr>\n",
              "      <th>75%</th>\n",
              "      <td>2.653565e+08</td>\n",
              "    </tr>\n",
              "    <tr>\n",
              "      <th>max</th>\n",
              "      <td>4.639713e+08</td>\n",
              "    </tr>\n",
              "  </tbody>\n",
              "</table>\n",
              "</div><br><label><b>dtype:</b> float64</label>"
            ]
          },
          "metadata": {},
          "execution_count": 26
        }
      ]
    }
  ]
}
